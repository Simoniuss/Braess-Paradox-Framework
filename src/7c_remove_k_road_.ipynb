{
 "cells": [
  {
   "attachments": {},
   "cell_type": "markdown",
   "id": "97af3ce5",
   "metadata": {},
   "source": [
    "# Select the roads to remove by each type of road"
   ]
  },
  {
   "cell_type": "markdown",
   "id": "b9f2e3f6",
   "metadata": {},
   "source": [
    "This notebook contains the code to select which road to remove for different closure strategies based on the type of the road."
   ]
  },
  {
   "cell_type": "code",
   "execution_count": null,
   "id": "a2a4ef3f",
   "metadata": {},
   "outputs": [],
   "source": [
    "import sumolib\n",
    "import pandas as pd\n",
    "import numpy as np\n",
    "import json\n",
    "from pathlib import Path\n",
    "import os\n",
    "import matplotlib.pyplot as plt\n",
    "from result_utils import *"
   ]
  },
  {
   "attachments": {},
   "cell_type": "markdown",
   "id": "9e03f405",
   "metadata": {},
   "source": [
    "#### parameters"
   ]
  },
  {
   "cell_type": "code",
   "execution_count": null,
   "id": "bf411694",
   "metadata": {},
   "outputs": [],
   "source": [
    "city = 'Milano_big'\n",
    "fold_prefix = 'baseline'\n",
    "\n",
    "# road network path\n",
    "road_network_path = \"../data/road_net/\"+city+\"/\"+city+\"_road_network.net.xml\"\n",
    "\n",
    "# road-edge map\n",
    "path_road_edge_mapping = '../data/road_net/'+city+'/'+city+'_road_edge_map.csv'\n",
    "# road-cluster map\n",
    "path_road_cluster_mapping = '../data/simulations/'+city+'/'+fold_prefix+'/results/road_clust_map.csv'\n",
    "\n",
    "\n",
    "# experiment results\n",
    "folder_experiments = '../data/simulations/'+city+'/'+fold_prefix+'/sumo_out/'\n",
    "\n",
    "# output paths\n",
    "path_results = \"../data/simulations/\"+city+\"/\"+fold_prefix+\"/results/\""
   ]
  },
  {
   "attachments": {},
   "cell_type": "markdown",
   "id": "231ecc00",
   "metadata": {},
   "source": [
    "## 1. Load road categories from clustering"
   ]
  },
  {
   "cell_type": "code",
   "execution_count": null,
   "id": "ec757922",
   "metadata": {},
   "outputs": [],
   "source": [
    "road_cluster_map = pd.read_csv(path_road_cluster_mapping)"
   ]
  },
  {
   "attachments": {},
   "cell_type": "markdown",
   "id": "3618d56b",
   "metadata": {},
   "source": [
    "## 2. Correlation with CO2"
   ]
  },
  {
   "attachments": {},
   "cell_type": "markdown",
   "id": "78ec2eb4",
   "metadata": {},
   "source": [
    "Merge type of road with CO2\\m"
   ]
  },
  {
   "cell_type": "code",
   "execution_count": null,
   "id": "d2810d98",
   "metadata": {},
   "outputs": [],
   "source": [
    "road_edge_map = pd.read_csv(path_road_edge_mapping)"
   ]
  },
  {
   "cell_type": "code",
   "execution_count": null,
   "id": "f2501003",
   "metadata": {},
   "outputs": [],
   "source": [
    "dict_exps = create_dict_exps(folder_experiments, 'baseline')"
   ]
  },
  {
   "cell_type": "code",
   "execution_count": null,
   "id": "f3b8f32d",
   "metadata": {},
   "outputs": [],
   "source": [
    "# Aggregate all experiments results and compute the mean and the std of the 'total_of' column.\n",
    "# It returns a dictionary with keys = roadnames and list [mean, std].\n",
    "\n",
    "def create_dict_total_per_road(dict_exps, folder_experiments, main_experiment_name, total_of):\n",
    "    dict_total = {}\n",
    "    for exp_id, exp_folder_name in dict_exps[main_experiment_name].items():\n",
    "        exp_df = pd.read_csv(folder_experiments+exp_folder_name+\"/road_measures.csv\")\n",
    "        \n",
    "        for ind, row in exp_df.iterrows():\n",
    "            if row['road'] in dict_total:\n",
    "                dict_total[row['road']].append(row[total_of])\n",
    "            else:\n",
    "                dict_total[row['road']] = [row[total_of]]\n",
    "    \n",
    "    list_df = []\n",
    "    for road, total in dict_total.items():\n",
    "        list_df.append([road, np.array(total).mean(), np.array(total).std()])\n",
    "    df = pd.DataFrame(list_df, columns=['road', 'mean', 'std'])\n",
    "        \n",
    "    return df"
   ]
  },
  {
   "cell_type": "code",
   "execution_count": null,
   "id": "44187810",
   "metadata": {},
   "outputs": [],
   "source": [
    "df_total_co2_road = create_dict_total_per_road(dict_exps, folder_experiments, 'baseline', 'total_co2')"
   ]
  },
  {
   "cell_type": "code",
   "execution_count": null,
   "id": "f4777e86",
   "metadata": {},
   "outputs": [],
   "source": [
    "df_co2_len = pd.merge(road_edge_map.groupby('road')['edge_len'].sum(), df_total_co2_road, on=['road'])\n",
    "df_co2_len['mean_len'] = df_co2_len['mean']/df_co2_len['edge_len']\n",
    "df_co2_len['std_len'] = df_co2_len['std']/df_co2_len['edge_len']\n",
    "df_co2_len.sort_values(by=['mean_len', 'std_len'], ascending=False, inplace=True)"
   ]
  },
  {
   "cell_type": "code",
   "execution_count": null,
   "id": "7d6ae562",
   "metadata": {},
   "outputs": [],
   "source": [
    "corr_co2 = pd.merge(df_co2_len, road_cluster_map, on=['road'])\n",
    "corr_co2.sort_values(by=['mean_len', 'std_len'], ascending=False, inplace=True)"
   ]
  },
  {
   "cell_type": "code",
   "execution_count": null,
   "id": "3a87ab58",
   "metadata": {},
   "outputs": [],
   "source": [
    "corr_co2.head()"
   ]
  },
  {
   "attachments": {},
   "cell_type": "markdown",
   "id": "b379e971",
   "metadata": {},
   "source": [
    "## 3. Remove roads by type"
   ]
  },
  {
   "cell_type": "code",
   "execution_count": null,
   "id": "8d058f01",
   "metadata": {},
   "outputs": [],
   "source": [
    "removed_path = '../data/simulations/Milano_big'"
   ]
  },
  {
   "cell_type": "code",
   "execution_count": null,
   "id": "c1a383c7",
   "metadata": {},
   "outputs": [],
   "source": [
    "df = corr_co2.copy()\n",
    "#df = corr_co2[corr_co2['clust_label'] == 'LE'].copy()"
   ]
  },
  {
   "cell_type": "code",
   "execution_count": null,
   "id": "e05060b2",
   "metadata": {},
   "outputs": [],
   "source": [
    "df.sort_values(by=['mean_len', 'std_len'], ascending=False, inplace=True)"
   ]
  },
  {
   "cell_type": "code",
   "execution_count": null,
   "id": "240709fa",
   "metadata": {},
   "outputs": [],
   "source": [
    "df.shape"
   ]
  },
  {
   "attachments": {},
   "cell_type": "markdown",
   "id": "085635df",
   "metadata": {},
   "source": [
    "Create dictionary with bin per road length with respect road in each bin. It is used to extract random roads in the same bin of the removed road"
   ]
  },
  {
   "cell_type": "code",
   "execution_count": null,
   "id": "f2dbacfe",
   "metadata": {},
   "outputs": [],
   "source": [
    "road_len = road_edge_map.groupby(by=['road']).agg({'edge_len': 'sum'}).reset_index()\n",
    "road_len = road_len[road_len['road'].isin(df['road'])]"
   ]
  },
  {
   "cell_type": "code",
   "execution_count": null,
   "id": "27fb07d7",
   "metadata": {},
   "outputs": [],
   "source": [
    "road_len.shape"
   ]
  },
  {
   "cell_type": "code",
   "execution_count": null,
   "id": "8331d5f7",
   "metadata": {},
   "outputs": [],
   "source": [
    "plt.figure(figsize=(10, 3))\n",
    "plt.hist(road_len['edge_len'], bins=100)\n",
    "plt.title('Road histogram')\n",
    "plt.xlabel('Road length (m)')\n",
    "plt.ylabel('#road')\n",
    "#plt.xticks(np.arange(0, 10000, step=1000))\n",
    "plt.show()"
   ]
  },
  {
   "cell_type": "code",
   "execution_count": null,
   "id": "e83cb1da",
   "metadata": {},
   "outputs": [],
   "source": [
    "# double grain bin\n",
    "#bins = list(np.arange(0, 2000, 200))+list(np.arange(2000, 10000, 500))+list(np.arange(10000, 41000, 10000)) #HF\n",
    "#bins = list(np.arange(0, 1500, 100))+list(np.arange(1500, 5000, 500))+list(np.arange(5000, 110000, 20000)) #HE\n",
    "#bins = list(np.arange(0, 1000, 100))+list(np.arange(1000, 4000, 500))+list(np.arange(4000, 31000, 5000)) #LF\n",
    "#bins = list(np.arange(0, 1000, 50))+list(np.arange(1000, 2000, 200))+list(np.arange(2000, 10000, 500)) #LE\n",
    "bins = list(np.arange(0, 2000, 100))+list(np.arange(2000, 5000, 500))+list(np.arange(5000, 95000, 5000)) #MIX\n",
    "road_len['bin'], b = pd.cut(x=road_len['edge_len'], bins=bins, retbins=True, include_lowest=True)"
   ]
  },
  {
   "cell_type": "code",
   "execution_count": null,
   "id": "bbb0b1dc",
   "metadata": {},
   "outputs": [],
   "source": [
    "#road_len.groupby(['bin']).count()"
   ]
  },
  {
   "cell_type": "code",
   "execution_count": null,
   "id": "c5f6f5d2",
   "metadata": {},
   "outputs": [],
   "source": [
    "road_len_dict = {(k.left, k.right): [] for k in road_len['bin'].unique()}"
   ]
  },
  {
   "cell_type": "code",
   "execution_count": null,
   "id": "db40ccd0",
   "metadata": {},
   "outputs": [],
   "source": [
    "for idx, row in road_len.iterrows():\n",
    "    b = row['bin']\n",
    "    road_len_dict[(b.left, b.right)].append(row['road'])"
   ]
  },
  {
   "cell_type": "code",
   "execution_count": null,
   "id": "4f6af1bc",
   "metadata": {},
   "outputs": [],
   "source": [
    "# check if all roads are in the dictionary\n",
    "t = 0\n",
    "for k, v in road_len_dict.items():\n",
    "    t+=len(v)\n",
    "    \n",
    "t"
   ]
  },
  {
   "cell_type": "code",
   "execution_count": null,
   "id": "862ae07c",
   "metadata": {},
   "outputs": [],
   "source": [
    "# Select the top value road from the experiment. The df may be sorted, because the top value roads are selected.\n",
    "# rand_dict is a dictionary with key (min,max) that is the bin from which extract the random road.\n",
    "# bins the list of bin's extremes used to create the dictionary.\n",
    "# n_rand is the number of random extraction for the top value roads.\n",
    "\n",
    "def road_to_remove(df, value, rand_dict, bins, n_rand=1):\n",
    "        \n",
    "    top_road = np.array(df['road'].iloc[:value])\n",
    "    \n",
    "    rand_road_list = []\n",
    "    for i in range(n_rand):\n",
    "        rand_roads = []\n",
    "        for road in top_road:\n",
    "            road_len = df[df['road']==road]['edge_len'].values\n",
    "            b = pd.cut(road_len, bins, include_lowest=True)\n",
    "            road_to_extract = rand_dict[(b[0].left, b[0].right)]\n",
    "            random_road = np.random.choice(road_to_extract)\n",
    "            while random_road in rand_roads:\n",
    "                random_road = np.random.choice(road_to_extract)\n",
    "            rand_roads.append(random_road)\n",
    "        rand_road_list.append(rand_roads)\n",
    "      \n",
    "    return top_road , rand_road_list  "
   ]
  },
  {
   "cell_type": "code",
   "execution_count": null,
   "id": "769be2b5",
   "metadata": {},
   "outputs": [],
   "source": [
    "topk = 100"
   ]
  },
  {
   "cell_type": "code",
   "execution_count": null,
   "id": "9d9b82fd",
   "metadata": {},
   "outputs": [],
   "source": [
    "#n = int(np.ceil(topk/4))\n",
    "#df = corr_co2.groupby(by=['clust_label'], group_keys=False).apply(lambda x: x.sort_values(by=['mean_len', 'std_len'], ascending=False).head(n))"
   ]
  },
  {
   "cell_type": "code",
   "execution_count": null,
   "id": "388c8fb0",
   "metadata": {},
   "outputs": [],
   "source": [
    "#df.drop([1225, 326], inplace=True)\n",
    "#len(df)\n",
    "#road_tbr = df['road'].tolist()"
   ]
  },
  {
   "cell_type": "code",
   "execution_count": null,
   "id": "d88376ec",
   "metadata": {},
   "outputs": [],
   "source": [
    "road_tbr, road_tbr_rand_list = road_to_remove(df, topk, road_len_dict, bins, n_rand=5)"
   ]
  },
  {
   "cell_type": "code",
   "execution_count": null,
   "id": "5041110d",
   "metadata": {},
   "outputs": [],
   "source": [
    "print('Top roads: '+str(len(road_tbr)))\n",
    "for i in range(len(road_tbr_rand_list)):\n",
    "    print('Random roads '+str(i)+': '+str(len(road_tbr_rand_list[i])))"
   ]
  },
  {
   "cell_type": "code",
   "execution_count": null,
   "id": "ff7e4b9b",
   "metadata": {},
   "outputs": [],
   "source": [
    "print('Top removed meters: '+str(df[df['road'].isin(road_tbr)]['edge_len'].sum()))\n",
    "for i in range(len(road_tbr_rand_list)):\n",
    "    print('Rand removed meters '+str(i)+': '+str(df[df['road'].isin(road_tbr_rand_list[i])]['edge_len'].sum()))"
   ]
  },
  {
   "cell_type": "code",
   "execution_count": null,
   "id": "62022702",
   "metadata": {},
   "outputs": [],
   "source": [
    "road_edge_map = pd.read_csv(path_road_edge_mapping)"
   ]
  },
  {
   "cell_type": "code",
   "execution_count": null,
   "id": "78420be4",
   "metadata": {},
   "outputs": [],
   "source": [
    "# Create csv with roadname of the road to be removed and the list fo edges associated to each edge\n",
    "road_edge_tbr = road_edge_map[road_edge_map['road'].isin(road_tbr)].groupby('road').agg({'edge_id': lambda x: x.tolist()})\n",
    "road_edge_tbr.reset_index(inplace=True)"
   ]
  },
  {
   "cell_type": "code",
   "execution_count": null,
   "id": "560b916e",
   "metadata": {},
   "outputs": [],
   "source": [
    "category = 'MIX'"
   ]
  },
  {
   "cell_type": "code",
   "execution_count": null,
   "id": "5c3bec94",
   "metadata": {},
   "outputs": [],
   "source": [
    "Path('../data/simulations/Milano_big/'+category+'_top'+str(topk)).mkdir(exist_ok=True)\n",
    "Path('../data/simulations/Milano_big/'+category+'_top'+str(topk)+'/rand').mkdir(exist_ok=True)"
   ]
  },
  {
   "cell_type": "code",
   "execution_count": null,
   "id": "5361afe2",
   "metadata": {},
   "outputs": [],
   "source": [
    "road_edge_tbr.to_csv('../data/simulations/Milano_big/'+category+'_top'+str(topk)+'/Milano_big_road_'+category+'_top'+str(topk)+'.csv', index=False)"
   ]
  },
  {
   "cell_type": "code",
   "execution_count": null,
   "id": "8f4f0d34",
   "metadata": {},
   "outputs": [],
   "source": [
    "for i in range(len(road_tbr_rand_list)):\n",
    "    road_edge_tbr_rand = road_edge_map[road_edge_map['road'].isin(road_tbr_rand_list[i])].groupby('road').agg({'edge_id': lambda x: x.tolist()})\n",
    "    road_edge_tbr_rand.reset_index(inplace=True)\n",
    "    road_edge_tbr_rand.to_csv('../data/simulations/Milano_big/'+category+'_top'+str(topk)+'/rand/Milano_big_road_'+category+'_rand'+str(topk)+'_'+str(i)+'.csv', index=False)"
   ]
  },
  {
   "cell_type": "code",
   "execution_count": null,
   "id": "8d323637",
   "metadata": {},
   "outputs": [],
   "source": []
  }
 ],
 "metadata": {
  "kernelspec": {
   "display_name": "Python 3 (ipykernel)",
   "language": "python",
   "name": "python3"
  },
  "language_info": {
   "codemirror_mode": {
    "name": "ipython",
    "version": 3
   },
   "file_extension": ".py",
   "mimetype": "text/x-python",
   "name": "python",
   "nbconvert_exporter": "python",
   "pygments_lexer": "ipython3",
   "version": "3.11.0"
  }
 },
 "nbformat": 4,
 "nbformat_minor": 5
}

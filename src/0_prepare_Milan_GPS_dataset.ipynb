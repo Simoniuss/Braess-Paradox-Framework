{
 "cells": [
  {
   "cell_type": "markdown",
   "id": "58e92727",
   "metadata": {},
   "source": [
    "# 0 prepare Milan GPS dataset\n",
    "\n",
    "The goal of the following notebook is to download and preprocess the Milan GPS dataset used to create a realistic mobility demand (i.e., trips between locations).\n",
    "\n",
    "This notebook is not mandatory, you can use a precomputed Origin-Destination (OD) matrix.\n",
    "\n",
    "___\n",
    "\n",
    "### Dataset Download Instructions\n",
    "\n",
    "1. Create an account at https://sobigdata.d4science.org/\n",
    "2. Login and download the dataset at https://ckan-sobigdata.d4science.org/dataset/gps_track_milan_italy\n",
    "3. Unzip the dataset and place at the path specified in `dataset_path`\n",
    "___"
   ]
  },
  {
   "cell_type": "code",
   "execution_count": null,
   "id": "c0da9142",
   "metadata": {},
   "outputs": [],
   "source": [
    "import pandas as pd\n",
    "import numpy as np\n",
    "import skmob\n",
    "import geopandas as gpd\n",
    "from skmob.preprocessing import *\n",
    "from skmob.measures.individual import *\n",
    "from skmob.preprocessing import detection\n",
    "from preprocess_utils import *"
   ]
  },
  {
   "cell_type": "markdown",
   "id": "4e3f6e05",
   "metadata": {},
   "source": [
    "### Preprocessing parameters"
   ]
  },
  {
   "cell_type": "code",
   "execution_count": null,
   "id": "549559fa",
   "metadata": {},
   "outputs": [],
   "source": [
    "dataset_path = '../data/raw/MilanoData.csv'\n",
    "max_speed_kmh = 270\n",
    "spatial_radius_km_compress = 0.05\n",
    "spatial_radius_km_stops = 0.100\n",
    "minutes_for_a_stop = 20\n",
    "\n",
    "shape_path = \"../data/shapes/Milano_big_shape.geojson\"\n",
    "\n",
    "# only the hour of the day is important\n",
    "lower_time = pd.to_datetime(\"1994-10-14 15:00:00\").time()\n",
    "upper_time = pd.to_datetime(\"1994-10-14 16:00:00\").time()"
   ]
  },
  {
   "cell_type": "markdown",
   "id": "49f2f127",
   "metadata": {},
   "source": [
    "### 1. Data Loading"
   ]
  },
  {
   "cell_type": "code",
   "execution_count": null,
   "id": "1ebf6ad2",
   "metadata": {},
   "outputs": [],
   "source": [
    "# loading the dataset\n",
    "\n",
    "df_traj = pd.read_csv(dataset_path, sep=',', parse_dates=['datetime'])\n",
    "df_traj[:2]"
   ]
  },
  {
   "cell_type": "code",
   "execution_count": null,
   "id": "357768bc",
   "metadata": {},
   "outputs": [],
   "source": [
    "# print some statistics\n",
    "print(\"# of users: \"+str(len(df_traj['userid'].unique())))\n",
    "print(\"# of points: \"+str(len(df_traj)))\n",
    "print(\"from: \"+str(df_traj['datetime'].min()))\n",
    "print(\"to: \"+str(df_traj['datetime'].max()))"
   ]
  },
  {
   "cell_type": "markdown",
   "id": "88f69f5b",
   "metadata": {},
   "source": [
    "Convert the `DataFrame` into a `TrajDataFrame`"
   ]
  },
  {
   "cell_type": "code",
   "execution_count": null,
   "id": "8686adaa",
   "metadata": {},
   "outputs": [],
   "source": [
    "tdf_traj = skmob.TrajDataFrame(df_traj, latitude='lat', longitude='lon', \n",
    "                          datetime='datetime', user_id='userid')\n",
    "\n",
    "tdf_traj = tdf_traj.sort_by_uid_and_datetime()"
   ]
  },
  {
   "cell_type": "markdown",
   "id": "912e14ee",
   "metadata": {},
   "source": [
    "### 2. Data Cleaning\n",
    "\n",
    "Execution time: $\\approx 2min$"
   ]
  },
  {
   "cell_type": "code",
   "execution_count": null,
   "id": "86ca2ca4",
   "metadata": {},
   "outputs": [],
   "source": [
    "%%time\n",
    "\n",
    "tdf_filtered = skmob.preprocessing.filtering.filter(tdf_traj, max_speed_kmh=max_speed_kmh, \n",
    "                                    include_loops=False)\n",
    "\n",
    "print(\"Filtered \"+str(len(tdf_traj)-len(tdf_filtered))+\" points.\")\n",
    "print(len(tdf_filtered))"
   ]
  },
  {
   "cell_type": "markdown",
   "id": "d9019649",
   "metadata": {},
   "source": [
    "Merge together all points that are closer than spatial_radius_km=0.05 kilometers from each other.<br>\n",
    "Execution time: $\\approx 4 min$"
   ]
  },
  {
   "cell_type": "code",
   "execution_count": null,
   "id": "2554529f",
   "metadata": {},
   "outputs": [],
   "source": [
    "%%time\n",
    "\n",
    "tdf_compressed = compression.compress(tdf_filtered, \n",
    "                                      spatial_radius_km=spatial_radius_km_compress)\n",
    "\n",
    "print(\"Compressed \"+str(len(tdf_filtered)-len(tdf_compressed))+\" points.\")\n",
    "print(\"Radius: \"+str(spatial_radius_km_compress))"
   ]
  },
  {
   "cell_type": "markdown",
   "id": "a85918f9",
   "metadata": {},
   "source": [
    "### 3. Trajectory segmentation with Stop detection"
   ]
  },
  {
   "cell_type": "markdown",
   "id": "632e9033",
   "metadata": {},
   "source": [
    "#### Stop detection"
   ]
  },
  {
   "cell_type": "markdown",
   "id": "907ade89",
   "metadata": {},
   "source": [
    "A stop is detected when the individual spends at least minutes_for_a_stop minutes within a distance stop_radius_factor * spatial_radius km from a given trajectory point. The stop’s coordinates are the median latitude and longitude values of the points found within the specified distance <br>\n",
    "Parameters: <br>\n",
    "`minutes_for_a_stop = 20.0` <br>\n",
    "`spatial_radius_km = 0.1`<br><br>\n",
    "Execution time: $\\approx 2min$"
   ]
  },
  {
   "cell_type": "code",
   "execution_count": null,
   "id": "c210c4f6",
   "metadata": {},
   "outputs": [],
   "source": [
    "%%time\n",
    "\n",
    "stdf = detection.stay_locations(tdf_traj, stop_radius_factor=None, \n",
    "                           minutes_for_a_stop=minutes_for_a_stop, \n",
    "                       spatial_radius_km=spatial_radius_km_stops, leaving_time=True)"
   ]
  },
  {
   "cell_type": "markdown",
   "id": "e59a6170",
   "metadata": {},
   "source": [
    "#### Trajectory segmentation\n",
    "Execution time: $\\approx 4 min$"
   ]
  },
  {
   "cell_type": "code",
   "execution_count": null,
   "id": "d89adce5",
   "metadata": {},
   "outputs": [],
   "source": [
    "%%time\n",
    "\n",
    "traj_seg = split_trajectories_in_tdf(tdf_compressed, stdf)\n",
    "\n",
    "# create an UNIQUE traj_id as uid+'_'+tid\n",
    "traj_ids = []\n",
    "for uid, tid in zip(traj_seg['uid'], traj_seg['tid']):\n",
    "    traj_ids.append(str(uid)+\"_\"+str(tid))\n",
    "\n",
    "traj_seg = traj_seg.drop(\"tid\", axis=1)\n",
    "traj_seg['traj_id'] = traj_ids"
   ]
  },
  {
   "cell_type": "code",
   "execution_count": null,
   "id": "f1339856",
   "metadata": {},
   "outputs": [],
   "source": [
    "# print some statistics\n",
    "print(\"# of users: \"+str(len(traj_seg['uid'].unique())))\n",
    "print(\"# of points: \"+str(len(traj_seg)))\n",
    "print(\"from: \"+str(traj_seg['datetime'].min()))\n",
    "print(\"to: \"+str(traj_seg['datetime'].max()))"
   ]
  },
  {
   "cell_type": "markdown",
   "id": "ed3e8f34",
   "metadata": {},
   "source": [
    "### 4. Filter by geographic area"
   ]
  },
  {
   "cell_type": "code",
   "execution_count": null,
   "id": "2e7fab7e",
   "metadata": {},
   "outputs": [],
   "source": [
    "milan_medium = gpd.read_file(shape_path)"
   ]
  },
  {
   "cell_type": "code",
   "execution_count": null,
   "id": "cb8baf57",
   "metadata": {},
   "outputs": [],
   "source": [
    "from skmob.utils.plot import *\n",
    "# style of the tessellation\n",
    "tex_style = {'fillColor':'blue', 'color':'black', 'opacity': 0.2}\n",
    "plot_gdf(milan_medium, style_func_args=tex_style, zoom=12)"
   ]
  },
  {
   "cell_type": "markdown",
   "id": "76d47da6",
   "metadata": {},
   "source": [
    "Keep only the trajectories with at least one GPS points inside the geographic area of interest."
   ]
  },
  {
   "cell_type": "code",
   "execution_count": null,
   "id": "0f12cbd4",
   "metadata": {},
   "outputs": [],
   "source": [
    "%%time\n",
    "\n",
    "id_all_in, id_atleast_one_in = filter_in_shape(traj_seg, milan_medium, drop=False)"
   ]
  },
  {
   "cell_type": "code",
   "execution_count": null,
   "id": "5166465d",
   "metadata": {},
   "outputs": [],
   "source": [
    "#take the trajectories with at least TWO points inside the region\n",
    "\n",
    "traj_inside = traj_seg[traj_seg['uid'].isin(id_atleast_one_in)]\n",
    "gb = traj_inside.groupby(\"uid\", as_index=False).count()\n",
    "\n",
    "ids_traj_mobility = gb[gb['lat']>1]['uid']\n",
    "traj_filtered_area = traj_inside[traj_inside['uid'].isin(ids_traj_mobility)]\n",
    "\n",
    "print(len(traj_filtered_area['uid'].unique()))"
   ]
  },
  {
   "cell_type": "markdown",
   "id": "a3549ef9",
   "metadata": {},
   "source": [
    "### 5. Trajectory segmentation$^2$\n",
    "\n",
    "Cut the trajectories wrt to the boundaries\n"
   ]
  },
  {
   "cell_type": "code",
   "execution_count": null,
   "id": "89386df3",
   "metadata": {},
   "outputs": [],
   "source": [
    "%%time\n",
    "\n",
    "res = segment_trajectories_area(traj_filtered_area)\n",
    "\n",
    "traj_segmented_2 = traj_filtered_area.drop(['uid'], axis=1)\n",
    "traj_segmented_2['uid'] = res"
   ]
  },
  {
   "cell_type": "markdown",
   "id": "75f5e917",
   "metadata": {},
   "source": [
    "Filter 1. Keep only the sub-trajectories INSIDE the geographic region"
   ]
  },
  {
   "cell_type": "code",
   "execution_count": null,
   "id": "2dbe1b3a",
   "metadata": {},
   "outputs": [],
   "source": [
    "ids_filter1 = list(traj_segmented_2[traj_segmented_2['isin']==True]['uid'].unique())\n",
    "df_traj_f1 = traj_segmented_2[traj_segmented_2['uid'].isin(ids_filter1)]\n",
    "print(\"Trajectories: \"+str(len(ids_filter1)))"
   ]
  },
  {
   "cell_type": "markdown",
   "id": "14e6923e",
   "metadata": {},
   "source": [
    "Filter 2. Keep only the sub-trajectories with at least 2 GPS points"
   ]
  },
  {
   "cell_type": "code",
   "execution_count": null,
   "id": "158d6432",
   "metadata": {},
   "outputs": [],
   "source": [
    "gb = df_traj_f1.groupby(\"uid\", as_index=False).count()\n",
    "ids_filter2 = list(gb[gb['isin']>1].uid.unique())\n",
    "df_traj_f2 = df_traj_f1[df_traj_f1['uid'].isin(ids_filter2)]\n",
    "print(\"Trajectories: \"+str(len(ids_filter2)))"
   ]
  },
  {
   "cell_type": "markdown",
   "id": "b67e8c82",
   "metadata": {},
   "source": [
    "Filter 3. Keep only working days"
   ]
  },
  {
   "cell_type": "code",
   "execution_count": null,
   "id": "5f448127",
   "metadata": {},
   "outputs": [],
   "source": [
    "trips_grouped = df_traj_f2.groupby(['uid'], as_index=False).first()\n",
    "trips_grouped['day_number'] = trips_grouped['datetime'].apply(lambda d: d.weekday())\n",
    "trips_grouped[:2]"
   ]
  },
  {
   "cell_type": "code",
   "execution_count": null,
   "id": "26dc2bee",
   "metadata": {},
   "outputs": [],
   "source": [
    "tid_2_keep = trips_grouped[trips_grouped['day_number']<5]['uid'].unique()\n",
    "traj_d_week = df_traj_f2[df_traj_f2['uid'].isin(tid_2_keep)]\n",
    "print(len(traj_d_week['uid'].unique()))"
   ]
  },
  {
   "cell_type": "markdown",
   "id": "b5ba28f0",
   "metadata": {},
   "source": [
    "### 6. Save the pre-processed dataset"
   ]
  },
  {
   "cell_type": "code",
   "execution_count": null,
   "id": "04c5f3cb",
   "metadata": {},
   "outputs": [],
   "source": [
    "traj_d_week.to_csv(\"../data/preprocessed/MilanoData_big_preprocessed.csv\", index=False)"
   ]
  },
  {
   "cell_type": "code",
   "execution_count": null,
   "id": "ece1d556",
   "metadata": {},
   "outputs": [],
   "source": []
  }
 ],
 "metadata": {
  "kernelspec": {
   "display_name": "Python 3 (ipykernel)",
   "language": "python",
   "name": "python3"
  },
  "language_info": {
   "codemirror_mode": {
    "name": "ipython",
    "version": 3
   },
   "file_extension": ".py",
   "mimetype": "text/x-python",
   "name": "python",
   "nbconvert_exporter": "python",
   "pygments_lexer": "ipython3",
   "version": "3.11.0"
  }
 },
 "nbformat": 4,
 "nbformat_minor": 5
}

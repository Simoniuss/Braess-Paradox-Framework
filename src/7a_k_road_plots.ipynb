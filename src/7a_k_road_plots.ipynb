{
 "cells": [
  {
   "attachments": {},
   "cell_type": "markdown",
   "id": "97af3ce5",
   "metadata": {},
   "source": [
    "# Computation of K_road, K_source, betweenness centrality"
   ]
  },
  {
   "cell_type": "markdown",
   "id": "4d558f49",
   "metadata": {},
   "source": [
    "This notebook contains the code to compute the K_road, K_source, and the betweenness centrality of the road network. It also contains an analysis of the correlations between all the metrics and the visualizations of different type of road in the road network with a clustering by K_road and betweenness."
   ]
  },
  {
   "cell_type": "code",
   "execution_count": null,
   "id": "a2a4ef3f",
   "metadata": {},
   "outputs": [],
   "source": [
    "import sumolib\n",
    "import pandas as pd\n",
    "import numpy as np\n",
    "import json\n",
    "import os\n",
    "from ast import literal_eval\n",
    "import networkx as nx\n",
    "from networkx.algorithms import bipartite\n",
    "import matplotlib.pyplot as plt\n",
    "from matplotlib.lines import Line2D\n",
    "from matplotlib import colors as mcolors\n",
    "import seaborn as sns\n",
    "from distfit import distfit\n",
    "from kneed import KneeLocator\n",
    "import scipy\n",
    "import osmnx as ox\n",
    "from shapely.geometry import LineString, Polygon\n",
    "import igraph as ig\n",
    "from result_utils import *\n",
    "import html\n",
    "from skmob.tessellation import tilers\n",
    "from skmob.utils import constants\n",
    "import geopandas as gpd\n",
    "import folium"
   ]
  },
  {
   "attachments": {},
   "cell_type": "markdown",
   "id": "9e03f405",
   "metadata": {},
   "source": [
    "#### parameters"
   ]
  },
  {
   "cell_type": "code",
   "execution_count": null,
   "id": "bf411694",
   "metadata": {},
   "outputs": [],
   "source": [
    "city = 'Milano_big'\n",
    "fold_prefix = 'baseline'\n",
    "\n",
    "# road network path\n",
    "road_network_path = \"../data/road_net/\"+city+\"/\"+city+\"_road_network.net.xml\"\n",
    "\n",
    "# road-edge map\n",
    "path_road_edge_mapping = '../data/road_net/'+city+'/'+city+'_road_edge_map.csv'\n",
    "\n",
    "# tile-edge map path\n",
    "dict_tile_edges_path = \"../data/OD_matrices/\"+city+\"_tile_edges_h3_8.json\"\n",
    "\n",
    "# routed paths\n",
    "routed_paths_folder = '../data/simulations/'+city+'/'+fold_prefix+'/routed_paths/'\n",
    "\n",
    "# experiment results\n",
    "folder_experiments = '../data/simulations/'+city+'/'+fold_prefix+'/sumo_out/'\n",
    "\n",
    "# shapefile path\n",
    "shapefile_path = '../data/shapes/'+city+'_shape.geojson'\n",
    "\n",
    "# output paths\n",
    "path_results = \"../data/simulations/\"+city+\"/\"+fold_prefix+\"/results/\"\n",
    "path_plots = \"../data/simulations/\"+city+\"/\"+fold_prefix+\"/plots/\""
   ]
  },
  {
   "attachments": {},
   "cell_type": "markdown",
   "id": "231ecc00",
   "metadata": {},
   "source": [
    "## 1. Compute MDS and K_road"
   ]
  },
  {
   "attachments": {},
   "cell_type": "markdown",
   "id": "d97d6200",
   "metadata": {},
   "source": [
    "Load tile_id - list of edges (without internal)"
   ]
  },
  {
   "cell_type": "code",
   "execution_count": null,
   "id": "00785809",
   "metadata": {},
   "outputs": [],
   "source": [
    "with open(dict_tile_edges_path, 'r') as f:\n",
    "    dict_tile_edges = json.load(f)"
   ]
  },
  {
   "cell_type": "code",
   "execution_count": null,
   "id": "ca87856c",
   "metadata": {},
   "outputs": [],
   "source": [
    "dict_edge_tile = {}\n",
    "\n",
    "for k, v in dict_tile_edges.items():\n",
    "    for edge in v:\n",
    "        dict_edge_tile[edge] = k"
   ]
  },
  {
   "attachments": {},
   "cell_type": "markdown",
   "id": "30cdc1e6",
   "metadata": {},
   "source": [
    "Compute dictionary MDS"
   ]
  },
  {
   "cell_type": "code",
   "execution_count": null,
   "id": "c8007cf7",
   "metadata": {},
   "outputs": [],
   "source": [
    "# Compute dictionary with key=edge_id and value=dictionary(tile_id: #path starting from this tile).\n",
    "# At each edge of the path is assigned the tile corresponding to the tile of the first edge (origin).\n",
    "# This function takes a list of routed paths (from .rou.xml) and a dictionary edge-tile.\n",
    "# You can also compute the driver_sinks, taking into account the destination of the paths. To do it set origin=False.\n",
    "\n",
    "def compute_driver_sources(rou_path, edge_tile_dict, origin=True):\n",
    "    routed_paths = list(sumolib.xml.parse(rou_path, 'route'))\n",
    "    \n",
    "    ds_dict = {}\n",
    "    if origin:\n",
    "        s = 0\n",
    "    else:\n",
    "        s = -1\n",
    "    \n",
    "    for path in routed_paths:\n",
    "        edges = path.edges.split(' ')\n",
    "        origin = edges[s]\n",
    "        tile = edge_tile_dict[origin]\n",
    "        for edge in edges:\n",
    "            if edge in ds_dict:\n",
    "                if tile in ds_dict[edge]:\n",
    "                    ds_dict[edge][tile] += 1\n",
    "                else:\n",
    "                    ds_dict[edge][tile] = 1\n",
    "                \n",
    "            else:\n",
    "                ds_dict[edge] = {}\n",
    "                ds_dict[edge][tile] = 1\n",
    "                \n",
    "    return ds_dict"
   ]
  },
  {
   "cell_type": "code",
   "execution_count": null,
   "id": "79d73e66",
   "metadata": {},
   "outputs": [],
   "source": [
    "# This function returns the top traffic_threshold % of driver sources that produce the flow, for each edge.\n",
    "\n",
    "def compute_MDS(ds_dict, traffic_threshold):\n",
    "    mds_dict = {}\n",
    "    \n",
    "    for edge, ds in ds_dict.items():\n",
    "        # driver sources sorted by flow\n",
    "        ds_list = sorted(ds.items(), key=lambda x: x[1], reverse=True)\n",
    "        ds_flow = sum(x[1] for x in ds_list)\n",
    "        tmp_sum = 0\n",
    "        i = 0\n",
    "        mds_edge_dict = {}\n",
    "        while tmp_sum <= ds_flow*traffic_threshold:\n",
    "            mds_edge_dict[ds_list[i][0]] = ds_list[i][1]\n",
    "            tmp_sum += ds_list[i][1]\n",
    "            i += 1\n",
    "\n",
    "        mds_dict[edge] = mds_edge_dict\n",
    "        \n",
    "    return mds_dict\n",
    "        "
   ]
  },
  {
   "cell_type": "code",
   "execution_count": null,
   "id": "3a8a6330",
   "metadata": {},
   "outputs": [],
   "source": [
    "# Returns the bipartite graph from the major driver sources dictionary\n",
    "\n",
    "def mds2graph(mds):\n",
    "    B = nx.Graph()\n",
    "    for edgename, mds_dict in mds.items():\n",
    "        B.add_node(edgename, bipartite=0)\n",
    "        B.add_nodes_from(mds_dict.keys(), bipartite=1)\n",
    "        B.add_edges_from([(edgename, tile) for tile in mds_dict.keys()])\n",
    "        \n",
    "    return B"
   ]
  },
  {
   "cell_type": "code",
   "execution_count": null,
   "id": "cb9edf1e",
   "metadata": {},
   "outputs": [],
   "source": [
    "#B = mds2graph(mds)\n",
    "#nx.is_bipartite(B)"
   ]
  },
  {
   "cell_type": "code",
   "execution_count": null,
   "id": "c82a0fa2",
   "metadata": {},
   "outputs": [],
   "source": [
    "def plot_mds_graph(B):\n",
    "    color_state_map = {0: 'tab:blue', 1: 'tab:red'}\n",
    "    pos = nx.nx_agraph.graphviz_layout(B)\n",
    "    nx.draw_networkx(B, pos,\n",
    "                     with_labels=False,\n",
    "                     node_size=1, \n",
    "                     node_color=[color_state_map[node[1]['bipartite']] for node in B.nodes(data=True)]\n",
    "                    )"
   ]
  },
  {
   "cell_type": "code",
   "execution_count": null,
   "id": "7ddf0375",
   "metadata": {},
   "outputs": [],
   "source": [
    "# 7 min\n",
    "#%%time\n",
    "#\n",
    "#plot_mds_graph(B)"
   ]
  },
  {
   "cell_type": "code",
   "execution_count": null,
   "id": "e9faefff",
   "metadata": {},
   "outputs": [],
   "source": [
    "def compute_k_road(mds):\n",
    "    k_road = {}\n",
    "    for edge, mds_dict in mds.items():\n",
    "        k_road[edge] = len(mds_dict)\n",
    "        \n",
    "    return k_road"
   ]
  },
  {
   "cell_type": "code",
   "execution_count": null,
   "id": "cf4723d6",
   "metadata": {},
   "outputs": [],
   "source": [
    "def compute_k_source(mds):\n",
    "    k_source = {}\n",
    "    for edge, mds_dict in mds.items():\n",
    "        for tile, flow in mds_dict.items():\n",
    "            if tile in k_source:\n",
    "                k_source[tile] += 1\n",
    "            else:\n",
    "                k_source[tile] = 1\n",
    "        \n",
    "    return k_source"
   ]
  },
  {
   "cell_type": "code",
   "execution_count": null,
   "id": "a0095a94",
   "metadata": {},
   "outputs": [],
   "source": [
    "# Take two dictionaries and append the value of the keys of the first one (dict_in) to the value of the keys of the second one (dict_out) \n",
    "\n",
    "def append_dictionaries(dict_in, dict_out):\n",
    "    for k,v in dict_in.items():\n",
    "        if k in dict_out:\n",
    "            dict_out[k].append(v)\n",
    "        else:\n",
    "            dict_out[k] = [v]\n",
    "    \n",
    "    return dict_out"
   ]
  },
  {
   "cell_type": "code",
   "execution_count": null,
   "id": "98d6f5cf",
   "metadata": {},
   "outputs": [],
   "source": [
    "def compute_mean_k_road_and_source(rou_path_folder, edge_tile_dict, origin=True, threshold=0.8):\n",
    "    k_road_mean = {}\n",
    "    k_source_mean = {}\n",
    "    \n",
    "    for rou_file in os.listdir(rou_path_folder):\n",
    "        ds = compute_driver_sources(rou_path_folder+rou_file, edge_tile_dict, origin=origin)\n",
    "        mds = compute_MDS(ds, threshold)\n",
    "        k_road = compute_k_road(mds)\n",
    "        k_source = compute_k_source(mds)\n",
    "        k_road_mean = append_dictionaries(k_road, k_road_mean)\n",
    "        k_source_mean = append_dictionaries(k_source, k_source_mean)\n",
    "    \n",
    "    n_exp = len(os.listdir(rou_path_folder))\n",
    "    for edge, k_road_list in k_road_mean.items():\n",
    "        k_road_mean[edge] = np.sum(k_road_list)/n_exp\n",
    "        \n",
    "    for edge, k_source_list in k_source_mean.items():\n",
    "        k_source_mean[edge] = np.sum(k_source_list)/n_exp\n",
    "        \n",
    "    return k_road_mean, k_source_mean"
   ]
  },
  {
   "attachments": {},
   "cell_type": "markdown",
   "id": "428a4834",
   "metadata": {},
   "source": [
    "K_road origin"
   ]
  },
  {
   "cell_type": "code",
   "execution_count": null,
   "id": "c952fc7b",
   "metadata": {},
   "outputs": [],
   "source": [
    "k_road_o, k_source_o = compute_mean_k_road_and_source(routed_paths_folder, dict_edge_tile, origin=True, threshold=0.8)"
   ]
  },
  {
   "cell_type": "code",
   "execution_count": null,
   "id": "3c6d0b6e",
   "metadata": {},
   "outputs": [],
   "source": [
    "with open(path_results+'kroad_O_'+fold_prefix+'.json', 'w') as outf:\n",
    "    json.dump(k_road_o, outf)\n",
    "with open(path_results+'ksource_O_'+fold_prefix+'.json', 'w') as outf:\n",
    "    json.dump(k_source_o, outf)"
   ]
  },
  {
   "attachments": {},
   "cell_type": "markdown",
   "id": "f3fa6abf",
   "metadata": {},
   "source": [
    "K_road destination"
   ]
  },
  {
   "cell_type": "code",
   "execution_count": null,
   "id": "426fed7a",
   "metadata": {},
   "outputs": [],
   "source": [
    "k_road_d, k_source_d = compute_mean_k_road_and_source(routed_paths_folder, dict_edge_tile, origin=False, threshold=0.8)"
   ]
  },
  {
   "cell_type": "code",
   "execution_count": null,
   "id": "8e2ced2a",
   "metadata": {},
   "outputs": [],
   "source": [
    "with open(path_results+'kroad_D_'+fold_prefix+'.json', 'w') as outf:\n",
    "    json.dump(k_road_d, outf)\n",
    "with open(path_results+'ksource_D_'+fold_prefix+'.json', 'w') as outf:\n",
    "    json.dump(k_source_d, outf)"
   ]
  },
  {
   "cell_type": "code",
   "execution_count": null,
   "id": "b02890a1",
   "metadata": {
    "scrolled": false
   },
   "outputs": [],
   "source": [
    "fig, axs = plt.subplots(3, 2, figsize=(10,6), gridspec_kw={\"height_ratios\":[0.01,1,1]})\n",
    "fig.suptitle('Milano_big k_road - k_source histograms', fontweight='bold')\n",
    "\n",
    "axs[1,0].hist(k_road_o.values(), bins=30)\n",
    "axs[1,0].set_title('origin', fontsize=10)\n",
    "axs[1,0].set_ylabel('#edges')\n",
    "\n",
    "axs[2,0].hist(k_road_d.values(), bins=30)\n",
    "axs[2,0].set_title('destination', fontsize=10)\n",
    "axs[2,0].set_ylabel('#edges')\n",
    "axs[2,0].set_xlabel('k_road')\n",
    "\n",
    "axs[1,1].hist(k_source_o.values(), bins=30, color='tab:orange')\n",
    "axs[1,1].set_title('origin', fontsize=10)\n",
    "axs[1,1].set_ylabel('#edges')\n",
    "\n",
    "axs[2,1].hist(k_source_d.values(), bins=30, color='tab:orange')\n",
    "axs[2,1].set_title('destination', fontsize=10)\n",
    "axs[2,1].set_ylabel('#edges')\n",
    "axs[2,1].set_xlabel('k_source')\n",
    "\n",
    "axs[0,0].axis('off')\n",
    "axs[0,0].set_title('K_road')\n",
    "axs[0,1].axis('off')\n",
    "axs[0,1].set_title('K_source')\n",
    "\n",
    "fig.subplots_adjust(hspace=0.4)\n",
    "plt.savefig(path_plots+'k_road_hist.png', bbox_inches =\"tight\", dpi=150)\n",
    "plt.show()"
   ]
  },
  {
   "attachments": {},
   "cell_type": "markdown",
   "id": "5edfa418",
   "metadata": {},
   "source": [
    "## 2. Aggregate K_road"
   ]
  },
  {
   "cell_type": "markdown",
   "id": "1ff5e0de",
   "metadata": {},
   "source": [
    "Aggregation of the K_road at road level"
   ]
  },
  {
   "cell_type": "code",
   "execution_count": null,
   "id": "ec757922",
   "metadata": {},
   "outputs": [],
   "source": [
    "road_edge_map = pd.read_csv(path_road_edge_mapping)"
   ]
  },
  {
   "cell_type": "code",
   "execution_count": null,
   "id": "41f43265",
   "metadata": {},
   "outputs": [],
   "source": [
    "k_road_o_df = pd.DataFrame(columns=['edge_id', 'k_road_o'])\n",
    "k_road_o_df['edge_id'] = k_road_o.keys()\n",
    "k_road_o_df['k_road_o'] = k_road_o.values()\n",
    "\n",
    "k_road_d_df = pd.DataFrame(columns=['edge_id', 'k_road_d'])\n",
    "k_road_d_df['edge_id'] = k_road_d.keys()\n",
    "k_road_d_df['k_road_d'] = k_road_d.values()\n",
    "\n",
    "k_road_od_df = pd.merge(k_road_o_df, k_road_d_df, on='edge_id')"
   ]
  },
  {
   "cell_type": "code",
   "execution_count": null,
   "id": "b1e08a08",
   "metadata": {},
   "outputs": [],
   "source": [
    "# k_road computed aggregating by road and with weighted average on length\n",
    "\n",
    "k_road_df = pd.merge(k_road_od_df, road_edge_map, on='edge_id', how='left')\n",
    "weighted_avg = lambda x: np.average(x, weights=k_road_df.loc[x.index, \"edge_len\"])\n",
    "k_road_df = k_road_df.groupby(by=['road']).agg({'k_road_o': weighted_avg, 'k_road_d': weighted_avg}).reset_index()"
   ]
  },
  {
   "cell_type": "code",
   "execution_count": null,
   "id": "b284a011",
   "metadata": {},
   "outputs": [],
   "source": [
    "k_source_o_df = pd.DataFrame(columns=['tile_id', 'k_source_o'])\n",
    "k_source_o_df['tile_id'] = k_source_o.keys()\n",
    "k_source_o_df['k_source_o'] = k_source_o.values()\n",
    "\n",
    "k_source_d_df = pd.DataFrame(columns=['tile_id', 'k_source_d'])\n",
    "k_source_d_df['tile_id'] = k_source_d.keys()\n",
    "k_source_d_df['k_source_d'] = k_source_d.values()\n",
    "\n",
    "k_source_df = pd.merge(k_source_o_df, k_source_d_df, on='tile_id')"
   ]
  },
  {
   "cell_type": "code",
   "execution_count": null,
   "id": "842b7d4a",
   "metadata": {},
   "outputs": [],
   "source": [
    "fig, axs = plt.subplots(1, 2, figsize=(15,4))\n",
    "fig.suptitle('Milano_big k_road histograms', fontweight='bold')\n",
    "\n",
    "axs[0].hist(k_road_df['k_road_o'], bins=40)\n",
    "axs[0].set_title('k_road origin', fontsize=10)\n",
    "axs[0].set_xticks(np.arange(0,48,2))\n",
    "axs[0].set_xlabel('k_road')\n",
    "axs[0].set_ylabel('#roads')\n",
    "\n",
    "axs[1].hist(k_road_df['k_road_d'], bins=40)\n",
    "axs[1].set_title('k_road destination', fontsize=10)\n",
    "axs[1].set_xticks(np.arange(0,30,2))\n",
    "axs[1].set_xlabel('k_road')\n",
    "axs[1].set_ylabel('#roads')\n",
    "\n",
    "plt.savefig(path_plots+'k_road_agg_hist.png', bbox_inches =\"tight\", dpi=150)\n",
    "plt.show()"
   ]
  },
  {
   "cell_type": "code",
   "execution_count": null,
   "id": "46e30c2a",
   "metadata": {
    "scrolled": false
   },
   "outputs": [],
   "source": [
    "fig, axs = plt.subplots(3, 2, figsize=(15,6), gridspec_kw={\"height_ratios\":[0.02,1,1]})\n",
    "fig.suptitle('Milano_big k_road - k_source histograms', fontweight='bold')\n",
    "\n",
    "axs[1,0].hist(k_road_df['k_road_o'], bins=60)\n",
    "axs[1,0].set_title('origin', fontsize=10)\n",
    "axs[1,0].set_xticks(np.arange(0,50,2))\n",
    "axs[1,0].set_ylabel('#roads')\n",
    "\n",
    "axs[2,0].hist(k_road_df['k_road_d'], bins=60)\n",
    "axs[2,0].set_title('destination', fontsize=10)\n",
    "axs[2,0].set_xticks(np.arange(0,30,1))\n",
    "axs[2,0].set_ylabel('#roads')\n",
    "axs[2,0].set_xlabel('k_road')\n",
    "\n",
    "axs[1,1].hist(k_source_df['k_source_o'], bins=80, color='tab:orange')\n",
    "axs[1,1].set_title('origin', fontsize=10)\n",
    "axs[1,1].set_xticks(np.arange(0,7600,500))\n",
    "axs[1,1].tick_params(axis='x', labelsize=8)\n",
    "axs[1,1].set_ylabel('#roads')\n",
    "\n",
    "axs[2,1].hist(k_source_df['k_source_d'], bins=80, color='tab:orange')\n",
    "axs[2,1].set_title('destination', fontsize=10)\n",
    "axs[2,1].set_xticks(np.arange(0,7100,500))\n",
    "axs[2,1].tick_params(axis='x', labelsize=8)\n",
    "axs[2,1].set_ylabel('#roads')\n",
    "axs[2,1].set_xlabel('k_source')\n",
    "\n",
    "\n",
    "axs[0,0].axis('off')\n",
    "axs[0,0].set_title('K_road')\n",
    "axs[0,1].axis('off')\n",
    "axs[0,1].set_title('K_source')\n",
    "\n",
    "\n",
    "fig.subplots_adjust(hspace=0.4)\n",
    "plt.savefig(path_plots+'k_road_hist2.png', bbox_inches =\"tight\", dpi=150)\n",
    "plt.show()"
   ]
  },
  {
   "cell_type": "markdown",
   "id": "6491733c",
   "metadata": {},
   "source": [
    "Fit the distribution of K_road"
   ]
  },
  {
   "cell_type": "code",
   "execution_count": null,
   "id": "125c4bef",
   "metadata": {},
   "outputs": [],
   "source": [
    "dfit = distfit(distr='popular')\n",
    "results = dfit.fit_transform(k_road_df['k_road_o'], verbose=0)"
   ]
  },
  {
   "cell_type": "code",
   "execution_count": null,
   "id": "2ab6ec91",
   "metadata": {},
   "outputs": [],
   "source": [
    "dfit.plot(n_top=1, figsize=(9,3), fontsize=10,\n",
    "          pdf_properties={'color': 'tab:orange', 'linewidth': 2},\n",
    "          emp_properties=None,\n",
    "          cii_properties={'linewidth': 1})\n",
    "#plt.axvline(np.percentile(k_road_df['k_road_o'], 75))\n",
    "plt.savefig(path_plots+'k_road_o_dist.png', bbox_inches =\"tight\", dpi=150)"
   ]
  },
  {
   "cell_type": "code",
   "execution_count": null,
   "id": "20524df2",
   "metadata": {},
   "outputs": [],
   "source": [
    "dfit = distfit(distr='popular')\n",
    "results = dfit.fit_transform(k_road_df['k_road_d'], verbose=0)"
   ]
  },
  {
   "cell_type": "code",
   "execution_count": null,
   "id": "1fb8e5d1",
   "metadata": {},
   "outputs": [],
   "source": [
    "dfit.plot(n_top=1, figsize=(9,3), fontsize=10,\n",
    "          pdf_properties={'color': 'tab:orange', 'linewidth': 2},\n",
    "          emp_properties=None,\n",
    "          cii_properties={'linewidth': 1})\n",
    "#plt.axvline(np.percentile(k_road_df['k_road_d'], 75))\n",
    "plt.savefig(path_plots+'k_road_d_dist.png', bbox_inches =\"tight\", dpi=150)"
   ]
  },
  {
   "attachments": {},
   "cell_type": "markdown",
   "id": "a763b933",
   "metadata": {},
   "source": [
    "## 3. Betweenness centrality"
   ]
  },
  {
   "cell_type": "markdown",
   "id": "b372449a",
   "metadata": {},
   "source": [
    "Compute the betweenness centrality and aggregate it at road level"
   ]
  },
  {
   "cell_type": "code",
   "execution_count": null,
   "id": "0aa36be5",
   "metadata": {},
   "outputs": [],
   "source": [
    "road_network = sumolib.net.readNet(road_network_path, withInternal=False)"
   ]
  },
  {
   "cell_type": "code",
   "execution_count": null,
   "id": "ecb3c513",
   "metadata": {},
   "outputs": [],
   "source": [
    "def from_sumo_to_igraph_network(road_network):\n",
    "    \n",
    "    \"\"\"\n",
    "    Converts a SUMO road network to an igraph network.\n",
    "\n",
    "    Parameters:\n",
    "    -----------\n",
    "    road_network : SUMO road network\n",
    "        A SUMO road network object.\n",
    "\n",
    "    Returns:\n",
    "    --------\n",
    "    G : igraph graph\n",
    "        An igraph graph representing the road network.\n",
    "    \"\"\"\n",
    "    \n",
    "    \n",
    "    nodes_dict = {}\n",
    "    edges_dict = {}\n",
    "    connections_list = []\n",
    "    conn_attr = {\"id\":[], \"length\":[], \"speed_limit\":[], \"traveltime\":[]}\n",
    "    \n",
    "    for node in road_network.getNodes():\n",
    "        in_edges = [edge for edge in list(node.getIncoming())]\n",
    "        out_edges = [edge for edge in list(node.getOutgoing())]\n",
    "        \n",
    "        # compute length connection\n",
    "        unique_connections = set()\n",
    "\n",
    "        for c in node.getConnections():\n",
    "            p = (c.getFrom().getID(), c.getTo().getID())\n",
    "            unique_connections.add(p)\n",
    "        \n",
    "        # Fully connected nodes\n",
    "        if len(in_edges)*len(out_edges) == len(unique_connections):\n",
    "            nodes_dict[node.getID()] = {\"in\": in_edges, \"out\": out_edges, \"fc\": 1}\n",
    "            \n",
    "            for e in in_edges:\n",
    "                edge = e.getID()\n",
    "                if edge in edges_dict:\n",
    "                    edges_dict[edge][\"to\"] = node.getID()\n",
    "                else:\n",
    "                    edges_dict[edge] = {\"to\": node.getID()}\n",
    "                    edges_dict[edge][\"id\"] = edge\n",
    "                    edges_dict[edge][\"length\"] = e.getLength()\n",
    "                    edges_dict[edge][\"speed_limit\"] = e.getSpeed()\n",
    "                    edges_dict[edge][\"traveltime\"] = e.getLength()/e.getSpeed()\n",
    "                    \n",
    "            for e in out_edges:\n",
    "                edge = e.getID()\n",
    "                if edge in edges_dict:\n",
    "                    edges_dict[edge][\"from\"] = node.getID()\n",
    "                else:\n",
    "                    edges_dict[edge] = {\"from\": node.getID()}\n",
    "                    edges_dict[edge][\"id\"] = edge\n",
    "                    edges_dict[edge][\"length\"] = e.getLength()\n",
    "                    edges_dict[edge][\"speed_limit\"] = e.getSpeed()\n",
    "                    edges_dict[edge][\"traveltime\"] = e.getLength()/e.getSpeed()\n",
    "        # Nodes with connections\n",
    "        else:\n",
    "            # add new connection nodes\n",
    "            for e in in_edges:\n",
    "                edge = e.getID()\n",
    "                node_id = edge+\"_to\"\n",
    "                nodes_dict[node_id] = {\"in\": [edge], \"fc\": 0}\n",
    "                if edge in edges_dict:\n",
    "                    edges_dict[edge][\"to\"] = node_id\n",
    "                else:\n",
    "                    edges_dict[edge] = {\"to\": node_id}\n",
    "                    edges_dict[edge][\"id\"] = edge\n",
    "                    edges_dict[edge][\"length\"] = e.getLength()\n",
    "                    edges_dict[edge][\"speed_limit\"] = e.getSpeed()\n",
    "                    edges_dict[edge][\"traveltime\"] = e.getLength()/e.getSpeed()\n",
    "            for e in out_edges:\n",
    "                edge = e.getID()\n",
    "                node_id = edge+\"_from\"\n",
    "                nodes_dict[node_id] = {\"out\": [edge], \"fc\": 0}\n",
    "                if edge in edges_dict:\n",
    "                    edges_dict[edge][\"from\"] = node_id\n",
    "                else:\n",
    "                    edges_dict[edge] = {\"from\": node_id}\n",
    "                    edges_dict[edge][\"id\"] = edge\n",
    "                    edges_dict[edge][\"length\"] = e.getLength()\n",
    "                    edges_dict[edge][\"speed_limit\"] = e.getSpeed()\n",
    "                    edges_dict[edge][\"traveltime\"] = e.getLength()/e.getSpeed()\n",
    "                    \n",
    "            for conn in node.getConnections():\n",
    "                from_edge = conn.getFrom().getID()\n",
    "                to_edge = conn.getTo().getID()\n",
    "\n",
    "                connections_list.append([from_edge+\"_to\", to_edge+\"_from\"])\n",
    "                conn_attr[\"id\"].append(\"connection\")\n",
    "                conn_attr[\"length\"].append(1e-10)\n",
    "                conn_attr[\"speed_limit\"].append(-1)\n",
    "                conn_attr[\"traveltime\"].append(0)\n",
    "                \n",
    "    edges_list = []\n",
    "    edges_attr = {\"id\":[], \"length\":[], \"speed_limit\":[], \"traveltime\":[]}\n",
    "    \n",
    "    for edge in edges_dict.keys():\n",
    "        edges_list.append((edges_dict[edge][\"from\"], edges_dict[edge][\"to\"]))\n",
    "        edges_attr[\"id\"].append(edge)\n",
    "        edges_attr[\"length\"].append(edges_dict[edge][\"length\"])\n",
    "        edges_attr[\"speed_limit\"].append(edges_dict[edge][\"speed_limit\"])\n",
    "        edges_attr[\"traveltime\"].append(edges_dict[edge][\"traveltime\"])\n",
    "        \n",
    "    G_igraph_new = ig.Graph(directed=True)\n",
    "    G_igraph_new.add_vertices(list(nodes_dict.keys()))\n",
    "    G_igraph_new.add_edges(edges_list, edges_attr)\n",
    "    G_igraph_new.add_edges(connections_list, conn_attr)\n",
    "    \n",
    "    G_igraph_new[\"edge_sumo_ig\"] = {e[\"id\"]: e.index for e in G_igraph_new.es}\n",
    "        \n",
    "    return G_igraph_new"
   ]
  },
  {
   "cell_type": "code",
   "execution_count": null,
   "id": "0c392209",
   "metadata": {},
   "outputs": [],
   "source": [
    "#G_igraph_conn = from_sumo_to_igraph_network_v2(road_network)"
   ]
  },
  {
   "cell_type": "code",
   "execution_count": null,
   "id": "81b7638e",
   "metadata": {},
   "outputs": [],
   "source": [
    "#G_igraph_conn.ecount()"
   ]
  },
  {
   "cell_type": "code",
   "execution_count": null,
   "id": "5783a408",
   "metadata": {},
   "outputs": [],
   "source": [
    "#%%time\n",
    "# 1h15min 146k edges\n",
    "# 3min 60k edges\n",
    "#bc_conn = G_igraph_conn.edge_betweenness(weights='length')"
   ]
  },
  {
   "cell_type": "code",
   "execution_count": null,
   "id": "77e2a513",
   "metadata": {},
   "outputs": [],
   "source": [
    "#edge_bc_igraph_conn = {}\n",
    "\n",
    "#for p in list(zip(G_igraph_conn.es['id'], bc_conn)):\n",
    "#    if p[0] != 'connection':\n",
    "#        edge_bc_igraph_conn[p[0]] = p[1]"
   ]
  },
  {
   "cell_type": "code",
   "execution_count": null,
   "id": "57d055cb",
   "metadata": {},
   "outputs": [],
   "source": [
    "#len(edge_bc_igraph_conn)"
   ]
  },
  {
   "cell_type": "code",
   "execution_count": null,
   "id": "8c85efd8",
   "metadata": {},
   "outputs": [],
   "source": [
    "#with open(path_results+'bc_igraph_'+fold_prefix+'.json', 'w') as outf:\n",
    "#    json.dump(edge_bc_igraph_conn, outf)"
   ]
  },
  {
   "cell_type": "code",
   "execution_count": null,
   "id": "cb8d18f5",
   "metadata": {},
   "outputs": [],
   "source": [
    "#node_sample = np.random.choice(G.nodes, 20000)\n",
    "#G_sample = G.subgraph(node_sample)"
   ]
  },
  {
   "cell_type": "code",
   "execution_count": null,
   "id": "c1cd24c0",
   "metadata": {},
   "outputs": [],
   "source": [
    "#%%time\n",
    "#pos = nx.nx_agraph.graphviz_layout(G_sample)\n",
    "#nx.draw_networkx(G_sample, pos,\n",
    "#                 with_labels=False,\n",
    "#                 node_size=1)"
   ]
  },
  {
   "cell_type": "code",
   "execution_count": null,
   "id": "e0641f05",
   "metadata": {},
   "outputs": [],
   "source": [
    "#%%time\n",
    "# 10min 10k edges\n",
    "# 1h35min 46k edges\n",
    "#bc = nx.edge_betweenness_centrality(G, weight='length')"
   ]
  },
  {
   "cell_type": "code",
   "execution_count": null,
   "id": "c3345188",
   "metadata": {},
   "outputs": [],
   "source": [
    "#edge_bc_map = {}\n",
    "#for k,v in bc.items():\n",
    "    # k[2] == edge_id\n",
    "#    edge_bc_map[k[2]] = v"
   ]
  },
  {
   "cell_type": "code",
   "execution_count": null,
   "id": "b87fa53e",
   "metadata": {},
   "outputs": [],
   "source": [
    "#with open(path_results+'bc_'+fold_prefix+'.json', 'w') as outf:\n",
    "#    json.dump(edge_bc_map, outf)"
   ]
  },
  {
   "cell_type": "code",
   "execution_count": null,
   "id": "66b77f9a",
   "metadata": {},
   "outputs": [],
   "source": [
    "#G = nx.MultiDiGraph()\n",
    "\n",
    "#for edge in road_network.getEdges():\n",
    "#    node_from = edge.getFromNode().getID()\n",
    "#    node_to = edge.getToNode().getID()\n",
    "#    geom = [list(x) for x in edge.getShape()]\n",
    "#    G.add_edge(node_from, node_to, key=edge.getID(), length=edge.getLength(), geometry=LineString(geom))\n",
    "\n",
    "#print(G.number_of_edges())"
   ]
  },
  {
   "cell_type": "code",
   "execution_count": null,
   "id": "63fa1d03",
   "metadata": {},
   "outputs": [],
   "source": [
    "#G_igraph = ig.Graph.from_networkx(G)\n",
    "#print(G_igraph.ecount())"
   ]
  },
  {
   "cell_type": "code",
   "execution_count": null,
   "id": "0693b02a",
   "metadata": {},
   "outputs": [],
   "source": [
    "#%%time\n",
    "# 2min 46k edges\n",
    "#bc = G_igraph.edge_betweenness(weights='length')"
   ]
  },
  {
   "cell_type": "code",
   "execution_count": null,
   "id": "db8eef76",
   "metadata": {},
   "outputs": [],
   "source": [
    "#edge_bc_igraph = {}\n",
    "\n",
    "#for p in list(zip(G_igraph.es['_nx_multiedge_key'], bc)):\n",
    "#    edge_bc_igraph[p[0]] = p[1]\n",
    "    \n",
    "#print(len(edge_bc_igraph))"
   ]
  },
  {
   "cell_type": "code",
   "execution_count": null,
   "id": "f438f567",
   "metadata": {},
   "outputs": [],
   "source": [
    "#with open(path_results+'bc_'+fold_prefix+'.json', 'r') as f:\n",
    "#    edge_bc_map = json.load(f)"
   ]
  },
  {
   "cell_type": "code",
   "execution_count": null,
   "id": "e47355ef",
   "metadata": {},
   "outputs": [],
   "source": [
    "with open(path_results+'bc_igraph_'+fold_prefix+'.json', 'r') as f:\n",
    "    edge_bc_map = json.load(f)"
   ]
  },
  {
   "cell_type": "code",
   "execution_count": null,
   "id": "8ef2a4bb",
   "metadata": {},
   "outputs": [],
   "source": [
    "# Normalize bc\n",
    "val = list(edge_bc_map.values())\n",
    "max_val = np.max(val)\n",
    "min_val = np.min(val)\n",
    "for k,v in edge_bc_map.items():\n",
    "    edge_bc_map[k] = (v - min_val)/(max_val - min_val)"
   ]
  },
  {
   "cell_type": "code",
   "execution_count": null,
   "id": "c27a18b8",
   "metadata": {},
   "outputs": [],
   "source": [
    "#diff_bc = {}\n",
    "#for k,v in edge_bc_map_igraph.items():\n",
    "#    diff_bc[k] = v - edge_bc_igraph[k]"
   ]
  },
  {
   "cell_type": "code",
   "execution_count": null,
   "id": "ee403ac9",
   "metadata": {},
   "outputs": [],
   "source": [
    "#plt.bar(np.arange(len(diff_bc)), diff_bc.values())\n",
    "#plt.show()"
   ]
  },
  {
   "cell_type": "code",
   "execution_count": null,
   "id": "3cac0c01",
   "metadata": {
    "scrolled": true
   },
   "outputs": [],
   "source": [
    "fig, ax = plt.subplots(figsize=(8,3))\n",
    "\n",
    "ax.hist(np.array(list(edge_bc_map.values())), bins=100)\n",
    "ax.set_title('Milano_big betweenness histogram')\n",
    "ax.set_xticks(np.arange(0, 1.1, 0.1))\n",
    "#ax.tick_params(axis='x', labelsize=9)\n",
    "ax.set_xlabel('bc')\n",
    "ax.set_ylabel('#edges')\n",
    "\n",
    "plt.savefig(path_plots+'bc_hist.png', bbox_inches =\"tight\", dpi=150)\n",
    "plt.show()"
   ]
  },
  {
   "cell_type": "code",
   "execution_count": null,
   "id": "cdc01c2b",
   "metadata": {},
   "outputs": [],
   "source": [
    "bc_edge_df = pd.DataFrame()\n",
    "bc_edge_df['edge_id'] = edge_bc_map.keys()\n",
    "bc_edge_df['bc'] = edge_bc_map.values()"
   ]
  },
  {
   "cell_type": "code",
   "execution_count": null,
   "id": "c5ca1e6f",
   "metadata": {},
   "outputs": [],
   "source": [
    "bc_df = pd.merge(bc_edge_df, road_edge_map, on='edge_id', how='left')\n",
    "weighted_avg = lambda x: np.average(x, weights=bc_df.loc[x.index, \"edge_len\"])\n",
    "bc_df = bc_df.groupby(by=['road']).agg({'bc': weighted_avg}).reset_index()"
   ]
  },
  {
   "cell_type": "code",
   "execution_count": null,
   "id": "ceb62295",
   "metadata": {},
   "outputs": [],
   "source": [
    "bc_df.head()"
   ]
  },
  {
   "cell_type": "code",
   "execution_count": null,
   "id": "71f6a720",
   "metadata": {},
   "outputs": [],
   "source": [
    "fig, ax = plt.subplots(figsize=(8,3))\n",
    "\n",
    "ax.hist(bc_df['bc'], bins=100)\n",
    "ax.set_title('Milano_big betweenness histogram')\n",
    "ax.set_xticks(np.arange(0, 1.01, 0.1))\n",
    "#ax.tick_params(axis='x', labelsize=9)\n",
    "ax.set_xlabel('bc')\n",
    "ax.set_ylabel('#road')\n",
    "\n",
    "plt.savefig(path_plots+'bc_hist2.png', bbox_inches =\"tight\", dpi=150)\n",
    "plt.show()"
   ]
  },
  {
   "cell_type": "markdown",
   "id": "a3eeab02",
   "metadata": {},
   "source": [
    "Fit the distribution of betweenness centrality"
   ]
  },
  {
   "cell_type": "code",
   "execution_count": null,
   "id": "9cbac40d",
   "metadata": {},
   "outputs": [],
   "source": [
    "dfit = distfit(distr='popular')\n",
    "results = dfit.fit_transform(bc_df['bc'], verbose=0)"
   ]
  },
  {
   "cell_type": "code",
   "execution_count": null,
   "id": "df035227",
   "metadata": {
    "scrolled": true
   },
   "outputs": [],
   "source": [
    "dfit.plot(n_top=1, figsize=(9,3), fontsize=10,\n",
    "          pdf_properties={'color': 'tab:orange', 'linewidth': 1},\n",
    "          emp_properties=None,\n",
    "          cii_properties={'linewidth': 1})\n",
    "#plt.axvline(np.percentile(bc_df['bc'], 65))\n",
    "plt.savefig(path_plots+'bc_dist.png', bbox_inches =\"tight\", dpi=150)"
   ]
  },
  {
   "cell_type": "code",
   "execution_count": null,
   "id": "b8a758b8",
   "metadata": {},
   "outputs": [],
   "source": [
    "ln = scipy.stats.genextreme(results['model']['params'][0], loc=results['model']['loc'], scale=results['model']['scale'])"
   ]
  },
  {
   "cell_type": "code",
   "execution_count": null,
   "id": "73655c5c",
   "metadata": {},
   "outputs": [],
   "source": [
    "x = np.linspace(0.0002, 0.7, 5000)\n",
    "#plt.plot(x, ln.pdf(x))\n",
    "kneedle = KneeLocator(x, ln.pdf(x), curve='convex', direction='decreasing')\n",
    "kneedle.plot_knee()"
   ]
  },
  {
   "cell_type": "code",
   "execution_count": null,
   "id": "a42a8d24",
   "metadata": {},
   "outputs": [],
   "source": [
    "del bc_edge_df, dfit, edge_bc_map, kneedle, ln, results, road_edge_map, val, x\n",
    "del k_road_d, k_road_d_df, k_road_o, k_road_o_df, k_road_od_df\n",
    "del k_source_d, k_source_d_df, k_source_o, k_source_o_df"
   ]
  },
  {
   "attachments": {},
   "cell_type": "markdown",
   "id": "373c1d5a",
   "metadata": {},
   "source": [
    "## 4. Correlations"
   ]
  },
  {
   "cell_type": "markdown",
   "id": "7beb71d1",
   "metadata": {},
   "source": [
    "Plot the correlation between K_road, betweenness centrality, CO2 emissions"
   ]
  },
  {
   "cell_type": "code",
   "execution_count": null,
   "id": "80aca27a",
   "metadata": {},
   "outputs": [],
   "source": [
    "corr_df = pd.merge(bc_df, k_road_df, on='road')"
   ]
  },
  {
   "cell_type": "code",
   "execution_count": null,
   "id": "8b246f5d",
   "metadata": {
    "scrolled": false
   },
   "outputs": [],
   "source": [
    "corr_df.head()"
   ]
  },
  {
   "cell_type": "code",
   "execution_count": null,
   "id": "3e3d5095",
   "metadata": {},
   "outputs": [],
   "source": [
    "fig, axs = plt.subplots(2, 1, figsize=(10,10))\n",
    "fig.suptitle('Milano_big k_road - betwenness correlation', fontweight='bold', y=0.93)\n",
    "\n",
    "axs[0].scatter(corr_df['k_road_o'], corr_df['bc'], s=1)\n",
    "axs[0].set_title('k_road origin', fontsize=10)\n",
    "axs[0].set_xticks(np.arange(0,48,2))\n",
    "axs[0].set_yscale('log')\n",
    "axs[0].set_xlabel('k_road')\n",
    "axs[0].set_ylabel('bc')\n",
    "\n",
    "axs[1].scatter(corr_df['k_road_d'], corr_df['bc'], s=1)\n",
    "axs[1].set_title('k_road destination', fontsize=10)\n",
    "axs[1].set_xticks(np.arange(0,30,2))\n",
    "axs[1].set_yscale('log')\n",
    "axs[1].set_xlabel('k_road')\n",
    "axs[1].set_ylabel('bc')\n",
    "\n",
    "plt.savefig(path_plots+'k_road_bc_corr.png', bbox_inches =\"tight\", dpi=150)\n",
    "plt.show()"
   ]
  },
  {
   "cell_type": "markdown",
   "id": "357ec433",
   "metadata": {},
   "source": [
    "Compute the categories of roads based on K_road and betweenness centrality\\"
   ]
  },
  {
   "cell_type": "code",
   "execution_count": null,
   "id": "bb1b32d2",
   "metadata": {},
   "outputs": [],
   "source": [
    "colors = []\n",
    "k_road_high = np.percentile(corr_df['k_road_o'], 75)\n",
    "bc_high = np.percentile(corr_df['bc'], 75)\n",
    "\n",
    "for ids, row in corr_df.iterrows():\n",
    "    if row['k_road_o'] >= k_road_high and row['bc'] >= bc_high:\n",
    "        colors.append('red')\n",
    "    elif row['k_road_o'] < k_road_high and row['bc'] >= bc_high:\n",
    "        colors.append('green')\n",
    "    elif row['k_road_o'] >= k_road_high and row['bc'] < bc_high:\n",
    "        colors.append('orange')\n",
    "    else:\n",
    "        colors.append('grey')\n",
    "        \n",
    "corr_df['color_o'] = colors"
   ]
  },
  {
   "cell_type": "code",
   "execution_count": null,
   "id": "6a80799a",
   "metadata": {},
   "outputs": [],
   "source": [
    "colors = []\n",
    "k_road_high = np.percentile(corr_df['k_road_d'], 75)\n",
    "bc_high = np.percentile(corr_df['bc'], 75)\n",
    "\n",
    "for ids, row in corr_df.iterrows():\n",
    "    if row['k_road_d'] >= k_road_high and row['bc'] >= bc_high:\n",
    "        colors.append('red')\n",
    "    elif row['k_road_d'] < k_road_high and row['bc'] >= bc_high:\n",
    "        colors.append('green')\n",
    "    elif row['k_road_d'] >= k_road_high and row['bc'] < bc_high:\n",
    "        colors.append('orange')\n",
    "    else:\n",
    "        colors.append('grey')\n",
    "        \n",
    "corr_df['color_d'] = colors"
   ]
  },
  {
   "cell_type": "code",
   "execution_count": null,
   "id": "a8b24141",
   "metadata": {},
   "outputs": [],
   "source": [
    "fig, axs = plt.subplots(2, 1, figsize=(10,10))\n",
    "fig.suptitle('Milano_big k_road - betwenness correlation', fontweight='bold', y=0.93)\n",
    "\n",
    "for i, dff in corr_df.groupby('color_o'):\n",
    "    match i:\n",
    "        case 'red':\n",
    "            label = 'connectors'\n",
    "        case 'orange':\n",
    "            label = 'attractors'\n",
    "        case 'green':\n",
    "            label = 'peripherals'\n",
    "        case 'grey':\n",
    "            label = 'locals'\n",
    "        case _:\n",
    "            label = ''\n",
    "    axs[0].scatter(dff['k_road_o'], dff['bc'], s=1, c=dff['color_o'], label=label)\n",
    "axs[0].set_title('k_road origin', fontsize=10)\n",
    "axs[0].set_xticks(np.arange(0,48,2))\n",
    "axs[0].set_yscale('log')\n",
    "axs[0].set_xlabel('k_road')\n",
    "axs[0].set_ylabel('bc')\n",
    "axs[0].legend(loc='lower right', markerscale=5)\n",
    "\n",
    "for i, dff in corr_df.groupby('color_d'):\n",
    "    match i:\n",
    "        case 'red':\n",
    "            label = 'connectors'\n",
    "        case 'orange':\n",
    "            label = 'attractors'\n",
    "        case 'green':\n",
    "            label = 'peripherals'\n",
    "        case 'grey':\n",
    "            label = 'locals'\n",
    "        case _:\n",
    "            label = ''\n",
    "    axs[1].scatter(dff['k_road_d'], dff['bc'], s=1, c=dff['color_d'], label=label)\n",
    "axs[1].set_title('k_road destination', fontsize=10)\n",
    "axs[1].set_xticks(np.arange(0,30,2))\n",
    "axs[1].set_yscale('log')\n",
    "axs[1].set_xlabel('k_road')\n",
    "axs[1].set_ylabel('bc')\n",
    "axs[1].legend(loc='lower right', markerscale=5)\n",
    "\n",
    "plt.savefig(path_plots+'k_road_bc_corr.png', bbox_inches =\"tight\", dpi=150)\n",
    "plt.show()"
   ]
  },
  {
   "cell_type": "code",
   "execution_count": null,
   "id": "fa111a7b",
   "metadata": {},
   "outputs": [],
   "source": [
    "del bc_df, colors, dff, k_road_df, k_source_df"
   ]
  },
  {
   "attachments": {},
   "cell_type": "markdown",
   "id": "3618d56b",
   "metadata": {},
   "source": [
    "### 4.1 Correlation with CO2"
   ]
  },
  {
   "cell_type": "code",
   "execution_count": null,
   "id": "d2810d98",
   "metadata": {},
   "outputs": [],
   "source": [
    "road_edge_map = pd.read_csv(path_road_edge_mapping)"
   ]
  },
  {
   "cell_type": "code",
   "execution_count": null,
   "id": "f2501003",
   "metadata": {},
   "outputs": [],
   "source": [
    "dict_exps = create_dict_exps(folder_experiments, 'baseline')"
   ]
  },
  {
   "cell_type": "code",
   "execution_count": null,
   "id": "f3b8f32d",
   "metadata": {},
   "outputs": [],
   "source": [
    "# Aggregate all experiments results and compute the mean and the std of the 'total_of' column.\n",
    "# It returns a dictionary with keys = roadnames and list [mean, std].\n",
    "\n",
    "def create_dict_total_per_road(dict_exps, folder_experiments, main_experiment_name, total_of):\n",
    "    dict_total = {}\n",
    "    for exp_id, exp_folder_name in dict_exps[main_experiment_name].items():\n",
    "        exp_df = pd.read_csv(folder_experiments+exp_folder_name+\"/road_measures.csv\")\n",
    "        \n",
    "        for ind, row in exp_df.iterrows():\n",
    "            if row['road'] in dict_total:\n",
    "                dict_total[row['road']].append(row[total_of])\n",
    "            else:\n",
    "                dict_total[row['road']] = [row[total_of]]\n",
    "    \n",
    "    list_df = []\n",
    "    for road, total in dict_total.items():\n",
    "        list_df.append([road, np.array(total).mean(), np.array(total).std()])\n",
    "    df = pd.DataFrame(list_df, columns=['road', 'mean', 'std'])\n",
    "        \n",
    "    return df"
   ]
  },
  {
   "cell_type": "code",
   "execution_count": null,
   "id": "44187810",
   "metadata": {},
   "outputs": [],
   "source": [
    "df_total_co2_road = create_dict_total_per_road(dict_exps, folder_experiments, 'baseline', 'total_co2')"
   ]
  },
  {
   "cell_type": "code",
   "execution_count": null,
   "id": "f4777e86",
   "metadata": {},
   "outputs": [],
   "source": [
    "df_co2_len = pd.merge(road_edge_map.groupby('road')['edge_len'].sum(), df_total_co2_road, on=['road'])\n",
    "df_co2_len['mean_len'] = df_co2_len['mean']/df_co2_len['edge_len']\n",
    "df_co2_len['std_len'] = df_co2_len['std']/df_co2_len['edge_len']\n",
    "df_co2_len.sort_values(by=['mean_len', 'std_len'], ascending=False, inplace=True)"
   ]
  },
  {
   "cell_type": "code",
   "execution_count": null,
   "id": "7d6ae562",
   "metadata": {},
   "outputs": [],
   "source": [
    "corr_co2 = pd.merge(df_co2_len, corr_df, on=['road'])\n",
    "corr_co2.sort_values(by=['mean_len', 'std_len'], ascending=False, inplace=True)"
   ]
  },
  {
   "cell_type": "code",
   "execution_count": null,
   "id": "3a87ab58",
   "metadata": {},
   "outputs": [],
   "source": [
    "corr_co2.head()"
   ]
  },
  {
   "cell_type": "code",
   "execution_count": null,
   "id": "a30e9cdc",
   "metadata": {},
   "outputs": [],
   "source": [
    "#corr_co2[corr_co2['road'].str.startswith('A')]"
   ]
  },
  {
   "cell_type": "code",
   "execution_count": null,
   "id": "8c38f18e",
   "metadata": {},
   "outputs": [],
   "source": [
    "s = len(corr_co2['color_o'])\n",
    "color_dict_o = {'red': [0]*s, 'orange': [0]*s, 'green': [0]*s, 'grey': [0]*s}\n",
    "\n",
    "for i,c in enumerate(corr_co2['color_o']):\n",
    "    if i==0:\n",
    "        for k,v in color_dict_o.items():\n",
    "            if k==c:\n",
    "                color_dict_o[k][i] = 1\n",
    "            else:\n",
    "                color_dict_o[k][i] = 0\n",
    "    else:\n",
    "        for k,v in color_dict_o.items():\n",
    "            if k==c:\n",
    "                color_dict_o[k][i] = color_dict_o[k][i-1]+1\n",
    "            else:\n",
    "                color_dict_o[k][i] = color_dict_o[k][i-1]"
   ]
  },
  {
   "cell_type": "code",
   "execution_count": null,
   "id": "18073b01",
   "metadata": {},
   "outputs": [],
   "source": [
    "s = len(corr_co2['color_d'])\n",
    "color_dict_d = {'red': [0]*s, 'orange': [0]*s, 'green': [0]*s, 'grey': [0]*s}\n",
    "\n",
    "for i,c in enumerate(corr_co2['color_d']):\n",
    "    if i==0:\n",
    "        for k,v in color_dict_d.items():\n",
    "            if k==c:\n",
    "                color_dict_d[k][i] = 1\n",
    "            else:\n",
    "                color_dict_d[k][i] = 0\n",
    "    else:\n",
    "        for k,v in color_dict_d.items():\n",
    "            if k==c:\n",
    "                color_dict_d[k][i] = color_dict_d[k][i-1]+1\n",
    "            else:\n",
    "                color_dict_d[k][i] = color_dict_d[k][i-1]"
   ]
  },
  {
   "cell_type": "markdown",
   "id": "8002c06b",
   "metadata": {},
   "source": [
    "Compute the cumulative sum of roads by type for CO2 emissions"
   ]
  },
  {
   "cell_type": "code",
   "execution_count": null,
   "id": "2a4469e5",
   "metadata": {},
   "outputs": [],
   "source": [
    "fig, axs = plt.subplots(1, 2, figsize=(12,4))\n",
    "fig.suptitle('Cumulative sum of roads for each type ordered by CO2', fontweight='bold')\n",
    "\n",
    "axs[0].plot(np.arange(s), color_dict_o['red'], c='red', linewidth=3, label='connectors')\n",
    "axs[0].plot(np.arange(s), color_dict_o['orange'], c='orange', linewidth=3, label='attractors')\n",
    "axs[0].plot(np.arange(s), color_dict_o['green'], c='green', linewidth=3, label='peripherals')\n",
    "axs[0].plot(np.arange(s), color_dict_o['grey'], c='grey', linewidth=3, label='locals')\n",
    "axs[0].set_title('origin')\n",
    "axs[0].set_xlabel('roads ordered by CO2/m')\n",
    "axs[0].set_ylabel('#roads of each type')\n",
    "axs[0].grid()\n",
    "axs[0].legend(loc='upper left')\n",
    "\n",
    "axs[1].plot(np.arange(s), color_dict_d['red'], c='red', linewidth=3, label='connectors')\n",
    "axs[1].plot(np.arange(s), color_dict_d['orange'], c='orange', linewidth=3, label='attractors')\n",
    "axs[1].plot(np.arange(s), color_dict_d['green'], c='green', linewidth=3, label='peripherals')\n",
    "axs[1].plot(np.arange(s), color_dict_d['grey'], c='grey', linewidth=3, label='locals')\n",
    "axs[1].set_title('destination')\n",
    "axs[1].set_xlabel('roads ordered by CO2/m')\n",
    "axs[1].set_ylabel('#roads of each type')\n",
    "axs[1].grid()\n",
    "axs[1].legend(loc='upper left')\n",
    "\n",
    "plt.savefig(path_plots+'cumsum_corr_co2.png', bbox_inches =\"tight\", dpi=150)\n",
    "plt.show()"
   ]
  },
  {
   "cell_type": "code",
   "execution_count": null,
   "id": "194f6e5b",
   "metadata": {},
   "outputs": [],
   "source": [
    "fig, axs = plt.subplots(2, 1, figsize=(10,6))\n",
    "fig.suptitle('Top 100 CO2/m roads with type of road', fontweight='bold')\n",
    "\n",
    "for i, row in corr_co2.iloc[:100].iterrows():\n",
    "    match row['color_o']:\n",
    "        case 'red':\n",
    "            label_o = 'connectors'\n",
    "        case 'orange':\n",
    "            label_o = 'attractors'\n",
    "        case 'green':\n",
    "            label_o = 'peripherals'\n",
    "        case 'grey':\n",
    "            label_o = 'locals'\n",
    "        case _:\n",
    "            label_o = ''\n",
    "    match row['color_d']:\n",
    "        case 'red':\n",
    "            label_d = 'connectors'\n",
    "        case 'orange':\n",
    "            label_d = 'attractors'\n",
    "        case 'green':\n",
    "            label_d = 'peripherals'\n",
    "        case 'grey':\n",
    "            label_d = 'locals'\n",
    "        case _:\n",
    "            label_d = ''\n",
    "    axs[0].bar(html.unescape(row['road']), row['mean_len'], yerr=row['std_len'], color=row['color_o'], label=label_o)\n",
    "    axs[1].bar(html.unescape(row['road']), row['mean_len'], yerr=row['std_len'], color=row['color_d'], label=label_d)\n",
    "\n",
    "axs[0].set_title('origin')\n",
    "axs[0].set_xlabel('road')\n",
    "axs[0].set_ylabel('CO2/length (mg/m)')\n",
    "axs[0].set_xticks([])\n",
    "handles, labels = axs[0].get_legend_handles_labels()\n",
    "by_label = dict(zip(labels, handles))\n",
    "axs[0].legend(by_label.values(), by_label.keys(), loc='upper right')\n",
    "\n",
    "axs[1].set_title('destination')\n",
    "axs[1].set_xlabel('roadname')\n",
    "axs[1].set_ylabel('CO2/length (mg/m)')\n",
    "axs[1].set_xticklabels(axs[1].get_xticklabels(), rotation='vertical', fontsize=5)\n",
    "handles, labels = axs[1].get_legend_handles_labels()\n",
    "by_label = dict(zip(labels, handles))\n",
    "axs[1].legend(by_label.values(), by_label.keys(), loc='upper right')\n",
    "\n",
    "\n",
    "plt.savefig(path_plots+'CO2_m_corr.png', bbox_inches =\"tight\")\n",
    "plt.show()"
   ]
  },
  {
   "cell_type": "code",
   "execution_count": null,
   "id": "70e9d075",
   "metadata": {},
   "outputs": [],
   "source": [
    "stacked_df_o = pd.DataFrame(columns=['exp', 'red', 'orange', 'green', 'grey'])\n",
    "for i in np.arange(corr_co2.shape[0]):\n",
    "    color_counter = corr_co2.iloc[:i].groupby('color_o')['road'].count()\n",
    "    row = {'exp': i, 'red': 0, 'orange': 0, 'green': 0, 'grey': 0}\n",
    "    for idx,val in color_counter.items():\n",
    "        row[idx] = val\n",
    "    stacked_df_o = stacked_df_o.append(row, ignore_index=True)\n",
    "    \n",
    "stacked_df_o = stacked_df_o.astype(float)"
   ]
  },
  {
   "cell_type": "code",
   "execution_count": null,
   "id": "10bd65cc",
   "metadata": {},
   "outputs": [],
   "source": [
    "stacked_df_d = pd.DataFrame(columns=['exp', 'red', 'orange', 'green', 'grey'])\n",
    "for i in np.arange(corr_co2.shape[0]):\n",
    "    color_counter = corr_co2.iloc[:i].groupby('color_d')['road'].count()\n",
    "    row = {'exp': i, 'red': 0, 'orange': 0, 'green': 0, 'grey': 0}\n",
    "    for idx,val in color_counter.items():\n",
    "        row[idx] = val\n",
    "    stacked_df_d = stacked_df_d.append(row, ignore_index=True)\n",
    "    \n",
    "stacked_df_d = stacked_df_d.astype(float)"
   ]
  },
  {
   "cell_type": "code",
   "execution_count": null,
   "id": "572dc0bf",
   "metadata": {},
   "outputs": [],
   "source": [
    "fig, axs = plt.subplots(1, 2, figsize=(12,4))\n",
    "fig.suptitle('Cumulative sum of roads for each type ordered by CO2', fontweight='bold')\n",
    "\n",
    "axs[0].stackplot(stacked_df_o['exp'], stacked_df_o['red'], stacked_df_o['orange'], stacked_df_o['green'], stacked_df_o['grey'], \n",
    "              colors=['red', 'orange', 'green', 'grey'], \n",
    "              labels=['connectors','attractors','peripheral', 'locals'])\n",
    "axs[0].set_title('origin')\n",
    "axs[0].set_xlabel('roads ordered by CO2/m')\n",
    "axs[0].set_ylabel('cumulative sum of roads')\n",
    "axs[0].grid(alpha=0.4)\n",
    "axs[0].legend(loc='upper left')\n",
    "\n",
    "axs[1].stackplot(stacked_df_d['exp'], stacked_df_d['red'], stacked_df_d['orange'], stacked_df_d['green'], stacked_df_d['grey'], \n",
    "              colors=['red', 'orange', 'green', 'grey'], \n",
    "              labels=['connectors','attractors','peripheral', 'locals'])\n",
    "axs[1].set_title('destination')\n",
    "axs[1].set_xlabel('roads ordered by CO2/m')\n",
    "axs[1].set_ylabel('cumulative sum of roads')\n",
    "axs[1].grid(alpha=0.4)\n",
    "axs[1].legend(loc='upper left')\n",
    "\n",
    "plt.savefig(path_plots+'cumsum2_corr_co2.png', bbox_inches =\"tight\", dpi=150)\n",
    "plt.show()"
   ]
  },
  {
   "cell_type": "code",
   "execution_count": null,
   "id": "cd853253",
   "metadata": {},
   "outputs": [],
   "source": [
    "stacked_df2_o = pd.DataFrame(columns=['exp', 'red', 'orange', 'green', 'grey'])\n",
    "for i in [1,10,20,30,40,50,60,70,80,90,100]:\n",
    "    color_counter = corr_co2.iloc[:i].groupby('color_o')['road'].count()\n",
    "    row = {'exp': i, 'red': 0, 'orange': 0, 'green': 0, 'grey': 0}\n",
    "    for idx,val in color_counter.items():\n",
    "        row[idx] = val\n",
    "    stacked_df2_o = stacked_df2_o.append(row, ignore_index=True)\n",
    "\n",
    "stacked_df2_d = pd.DataFrame(columns=['exp', 'red', 'orange', 'green', 'grey'])\n",
    "for i in [1,10,20,30,40,50,60,70,80,90,100]:\n",
    "    color_counter = corr_co2.iloc[:i].groupby('color_d')['road'].count()\n",
    "    row = {'exp': i, 'red': 0, 'orange': 0, 'green': 0, 'grey': 0}\n",
    "    for idx,val in color_counter.items():\n",
    "        row[idx] = val\n",
    "    stacked_df2_d = stacked_df2_d.append(row, ignore_index=True)"
   ]
  },
  {
   "cell_type": "code",
   "execution_count": null,
   "id": "7eb24cc9",
   "metadata": {},
   "outputs": [],
   "source": [
    "fig, axs = plt.subplots(1, 2, figsize=(12,4))\n",
    "fig.suptitle('Road type for each topK experiment', fontweight='bold')\n",
    "\n",
    "p = axs[0].bar(stacked_df2_o['exp'], stacked_df2_o['red'], 5, color='red', label='connectors')\n",
    "axs[0].bar_label(p, label_type='center', fontsize=8)\n",
    "p = axs[0].bar(stacked_df2_o['exp'], stacked_df2_o['orange'], 5, bottom=stacked_df2_o['red'], color='orange', label='attractors')\n",
    "axs[0].bar_label(p, label_type='center', fontsize=8)\n",
    "p = axs[0].bar(stacked_df2_o['exp'], stacked_df2_o['green'], 5, bottom=stacked_df2_o['red']+stacked_df2_o['orange'], color='green', label='peripherals')\n",
    "axs[0].bar_label(p, label_type='center', fontsize=8)\n",
    "p = axs[0].bar(stacked_df2_o['exp'], stacked_df2_o['grey'], 5, bottom=stacked_df2_o['red']+stacked_df2_o['orange']+stacked_df2_o['green'], color='grey', label='locals')\n",
    "axs[0].bar_label(p, label_type='center', fontsize=8)\n",
    "\n",
    "axs[0].set_title('origin')\n",
    "axs[0].set_xlabel('topK experiment')\n",
    "axs[0].set_ylabel('#removed roads')\n",
    "axs[0].set_xticks(np.concatenate(([1],np.arange(10,101,10))))\n",
    "axs[0].set_yticks(np.concatenate(([1],np.arange(10,101,10))))\n",
    "axs[0].legend(loc='upper left')\n",
    "\n",
    "p = axs[1].bar(stacked_df2_d['exp'], stacked_df2_d['red'], 5, color='red', label='connectors')\n",
    "axs[1].bar_label(p, label_type='center', fontsize=8)\n",
    "p = axs[1].bar(stacked_df2_d['exp'], stacked_df2_d['orange'], 5, bottom=stacked_df2_d['red'], color='orange', label='attractors')\n",
    "axs[1].bar_label(p, label_type='center', fontsize=8)\n",
    "#p = axs[1].bar(stacked_df2_d['exp'], stacked_df2_d['green'], 5, bottom=stacked_df2_d['red']+stacked_df2_d['orange'], color='green', label='peripherals')\n",
    "#axs[1].bar_label(p, label_type='center', fontsize=8)\n",
    "p = axs[1].bar(stacked_df2_d['exp'], stacked_df2_d['grey'], 5, bottom=stacked_df2_d['red']+stacked_df2_d['orange']+stacked_df2_d['green'], color='grey', label='locals')\n",
    "axs[1].bar_label(p, label_type='center', fontsize=8)\n",
    "\n",
    "axs[1].set_title('destination')\n",
    "axs[1].set_xlabel('topK experiment')\n",
    "axs[1].set_ylabel('#removed roads')\n",
    "axs[1].set_xticks(np.concatenate(([1],np.arange(10,101,10))))\n",
    "axs[1].set_yticks(np.concatenate(([1],np.arange(10,101,10))))\n",
    "axs[1].legend(loc='upper left')\n",
    "\n",
    "plt.savefig(path_plots+'topk_exp_corr.png', bbox_inches =\"tight\", dpi=150)\n",
    "plt.show()"
   ]
  },
  {
   "cell_type": "markdown",
   "id": "848eb885",
   "metadata": {},
   "source": [
    "Computation of Spearman correlation between the metrics"
   ]
  },
  {
   "cell_type": "code",
   "execution_count": null,
   "id": "74f12f86",
   "metadata": {},
   "outputs": [],
   "source": [
    "fig, axs = plt.subplots(1, 2, figsize=(12,4))\n",
    "fig.suptitle('K_road - CO2 correlation', fontweight='bold')\n",
    "\n",
    "axs[0].scatter(corr_co2['k_road_o'], corr_co2['mean_len'], s=1)\n",
    "axs[0].set_title('origin', fontsize=10)\n",
    "axs[0].set_xscale('log')\n",
    "axs[0].set_yscale('log')\n",
    "axs[0].set_xlabel('k_road')\n",
    "axs[0].set_ylabel('co2/m')\n",
    "\n",
    "axs[1].scatter(corr_co2['k_road_d'], corr_co2['mean_len'], s=1)\n",
    "axs[1].set_title('destination', fontsize=10)\n",
    "axs[1].set_xscale('log')\n",
    "axs[1].set_yscale('log')\n",
    "axs[1].set_xlabel('k_road')\n",
    "axs[1].set_ylabel('co2/m')\n",
    "\n",
    "plt.savefig(path_plots+'k_road_co2_corr.png', bbox_inches =\"tight\", dpi=150)\n",
    "plt.show()"
   ]
  },
  {
   "cell_type": "code",
   "execution_count": null,
   "id": "c5e95e5c",
   "metadata": {},
   "outputs": [],
   "source": [
    "print('K_road_o - CO2 Spearman corr: '+str(scipy.stats.spearmanr(corr_co2['k_road_o'], corr_co2['mean_len']).correlation))\n",
    "print('K_road_d - CO2 Spearman corr: '+str(scipy.stats.spearmanr(corr_co2['k_road_d'], corr_co2['mean_len']).correlation))"
   ]
  },
  {
   "cell_type": "code",
   "execution_count": null,
   "id": "c3582203",
   "metadata": {},
   "outputs": [],
   "source": [
    "fig, ax = plt.subplots(figsize=(6,4))\n",
    "\n",
    "ax.scatter(corr_co2['bc'], corr_co2['mean_len'], s=1)\n",
    "ax.set_title('Betweenness centrality - CO2 correlation', fontsize=10)\n",
    "ax.set_xscale('log')\n",
    "ax.set_yscale('log')\n",
    "ax.set_xlabel('bc')\n",
    "ax.set_ylabel('co2/m')\n",
    "\n",
    "plt.savefig(path_plots+'co2_bc_corr.png', bbox_inches =\"tight\", dpi=150)\n",
    "plt.show()"
   ]
  },
  {
   "cell_type": "code",
   "execution_count": null,
   "id": "18586cbd",
   "metadata": {},
   "outputs": [],
   "source": [
    "print('Betweenness - CO2 Spearman corr: '+str(scipy.stats.spearmanr(corr_co2['bc'], corr_co2['mean_len']).correlation))"
   ]
  },
  {
   "cell_type": "code",
   "execution_count": null,
   "id": "fe42c46e",
   "metadata": {},
   "outputs": [],
   "source": [
    "percentiles = [10, 20, 30, 40, 50, 60, 70, 80, 90]\n",
    "corr_dict = {}\n",
    "for p_kroad in percentiles:\n",
    "    for p_bc in percentiles:\n",
    "        k_road_high = np.percentile(corr_co2['k_road_o'], p_kroad)\n",
    "        bc_high = np.percentile(corr_co2['bc'], p_bc)\n",
    "\n",
    "        # connectors\n",
    "        tmp = corr_co2[(corr_co2['k_road_o'] >= k_road_high) & (corr_co2['bc'] >= bc_high)]\n",
    "        sperman_corr = scipy.stats.spearmanr(tmp['k_road_o'], tmp['mean_len']).correlation\n",
    "        corr_dict[(p_kroad, p_bc)] = [sperman_corr]\n",
    "\n",
    "        # attractors\n",
    "        tmp = corr_co2[(corr_co2['k_road_o'] < k_road_high) & (corr_co2['bc'] >= bc_high)]\n",
    "        sperman_corr = scipy.stats.spearmanr(tmp['k_road_o'], tmp['mean_len']).correlation\n",
    "        corr_dict[(p_kroad, p_bc)].append(sperman_corr)\n",
    "\n",
    "        # peripherals\n",
    "        tmp = corr_co2[(corr_co2['k_road_o'] >= k_road_high) & (corr_co2['bc'] < bc_high)]\n",
    "        sperman_corr = scipy.stats.spearmanr(tmp['k_road_o'], tmp['mean_len']).correlation\n",
    "        corr_dict[(p_kroad, p_bc)].append(sperman_corr)\n",
    "\n",
    "        # locals\n",
    "        tmp = corr_co2[(corr_co2['k_road_o'] < k_road_high) & (corr_co2['bc'] < bc_high)]\n",
    "        sperman_corr = scipy.stats.spearmanr(tmp['k_road_o'], tmp['mean_len']).correlation\n",
    "        corr_dict[(p_kroad, p_bc)].append(sperman_corr)"
   ]
  },
  {
   "cell_type": "code",
   "execution_count": null,
   "id": "a8f9b514",
   "metadata": {},
   "outputs": [],
   "source": [
    "df_corr = pd.DataFrame(0, index=percentiles[::-1], columns=percentiles)\n",
    "\n",
    "fig, axs = plt.subplots(2, 2, figsize=(12,10))\n",
    "fig.suptitle('Spearman correlation k_road_o - CO2 varying percentiles', fontweight='bold', y=0.94)\n",
    "\n",
    "# Connectors\n",
    "for k,v in corr_dict.items():\n",
    "    df_corr.loc[k[0], k[1]] = v[0]\n",
    "sns.heatmap(df_corr, annot=True, annot_kws={\"size\": 7}, cmap='Reds', ax=axs[0,0])\n",
    "axs[0,0].set_title('Connectors', fontsize=10)\n",
    "axs[0,0].set_xlabel('Betweenness percentile')\n",
    "axs[0,0].set_ylabel('K_road_o percentile')\n",
    "\n",
    "# Attractors\n",
    "for k,v in corr_dict.items():\n",
    "    df_corr.loc[k[0], k[1]] = v[1]\n",
    "sns.heatmap(df_corr, annot=True, annot_kws={\"size\": 7}, cmap='Oranges', ax=axs[0,1])\n",
    "axs[0,1].set_title('Attractors', fontsize=10)\n",
    "axs[0,1].set_xlabel('Betweenness percentile')\n",
    "axs[0,1].set_ylabel('K_road_o percentile')\n",
    "\n",
    "\n",
    "# Peripherals\n",
    "for k,v in corr_dict.items():\n",
    "    df_corr.loc[k[0], k[1]] = v[2]\n",
    "sns.heatmap(df_corr, annot=True, annot_kws={\"size\": 7}, cmap='Greens', ax=axs[1,0])\n",
    "axs[1,0].set_title('Locals', fontsize=10)\n",
    "axs[1,0].set_xlabel('Betweenness percentile')\n",
    "axs[1,0].set_ylabel('K_road_o percentile')\n",
    "\n",
    "# Locals\n",
    "for k,v in corr_dict.items():\n",
    "    df_corr.loc[k[0], k[1]] = v[3]\n",
    "sns.heatmap(df_corr, annot=True, annot_kws={\"size\": 7}, cmap='Greys', ax=axs[1,1])\n",
    "axs[1,1].set_title('Locals', fontsize=10)\n",
    "axs[1,1].set_xlabel('Betweenness percentile')\n",
    "axs[1,1].set_ylabel('K_road_o percentile')\n",
    "\n",
    "\n",
    "plt.savefig(path_plots+'k_road_o_spearman_all.png', bbox_inches =\"tight\", dpi=150)\n",
    "plt.show()"
   ]
  },
  {
   "cell_type": "code",
   "execution_count": null,
   "id": "f926cceb",
   "metadata": {},
   "outputs": [],
   "source": [
    "percentiles = [10, 20, 30, 40, 50, 60, 70, 80, 90]\n",
    "corr_dict = {}\n",
    "for p_kroad in percentiles:\n",
    "    for p_bc in percentiles:\n",
    "        k_road_high = np.percentile(corr_co2['k_road_o'], p_kroad)\n",
    "        bc_high = np.percentile(corr_co2['bc'], p_bc)\n",
    "\n",
    "        # connectors\n",
    "        tmp = corr_co2[(corr_co2['k_road_o'] >= k_road_high) & (corr_co2['bc'] >= bc_high)]\n",
    "        sperman_corr = scipy.stats.spearmanr(tmp['bc'], tmp['mean_len']).correlation\n",
    "        corr_dict[(p_kroad, p_bc)] = [sperman_corr]\n",
    "\n",
    "        # attractors\n",
    "        tmp = corr_co2[(corr_co2['k_road_o'] < k_road_high) & (corr_co2['bc'] >= bc_high)]\n",
    "        sperman_corr = scipy.stats.spearmanr(tmp['bc'], tmp['mean_len']).correlation\n",
    "        corr_dict[(p_kroad, p_bc)].append(sperman_corr)\n",
    "\n",
    "        # peripherals\n",
    "        tmp = corr_co2[(corr_co2['k_road_o'] >= k_road_high) & (corr_co2['bc'] < bc_high)]\n",
    "        sperman_corr = scipy.stats.spearmanr(tmp['bc'], tmp['mean_len']).correlation\n",
    "        corr_dict[(p_kroad, p_bc)].append(sperman_corr)\n",
    "\n",
    "        # locals\n",
    "        tmp = corr_co2[(corr_co2['k_road_o'] < k_road_high) & (corr_co2['bc'] < bc_high)]\n",
    "        sperman_corr = scipy.stats.spearmanr(tmp['bc'], tmp['mean_len']).correlation\n",
    "        corr_dict[(p_kroad, p_bc)].append(sperman_corr)"
   ]
  },
  {
   "cell_type": "code",
   "execution_count": null,
   "id": "10c1e28a",
   "metadata": {},
   "outputs": [],
   "source": [
    "df_corr = pd.DataFrame(0, index=percentiles[::-1], columns=percentiles)\n",
    "\n",
    "fig, axs = plt.subplots(2, 2, figsize=(12,10))\n",
    "fig.suptitle('Spearman correlation betweenness - CO2 varying percentiles', fontweight='bold', y=0.94)\n",
    "\n",
    "# Connectors\n",
    "for k,v in corr_dict.items():\n",
    "    df_corr.loc[k[0], k[1]] = v[0]\n",
    "sns.heatmap(df_corr, annot=True, annot_kws={\"size\": 7}, cmap='Reds', ax=axs[0,0])\n",
    "axs[0,0].set_title('Connectors', fontsize=10)\n",
    "axs[0,0].set_xlabel('Betweenness percentile')\n",
    "axs[0,0].set_ylabel('K_road_o percentile')\n",
    "\n",
    "# Attractors\n",
    "for k,v in corr_dict.items():\n",
    "    df_corr.loc[k[0], k[1]] = v[1]\n",
    "sns.heatmap(df_corr, annot=True, annot_kws={\"size\": 7}, cmap='Oranges', ax=axs[0,1])\n",
    "axs[0,1].set_title('Attractors', fontsize=10)\n",
    "axs[0,1].set_xlabel('Betweenness percentile')\n",
    "axs[0,1].set_ylabel('K_road_o percentile')\n",
    "\n",
    "\n",
    "# Peripherals\n",
    "for k,v in corr_dict.items():\n",
    "    df_corr.loc[k[0], k[1]] = v[2]\n",
    "sns.heatmap(df_corr, annot=True, annot_kws={\"size\": 7}, cmap='Greens', ax=axs[1,0])\n",
    "axs[1,0].set_title('Locals', fontsize=10)\n",
    "axs[1,0].set_xlabel('Betweenness percentile')\n",
    "axs[1,0].set_ylabel('K_road_o percentile')\n",
    "\n",
    "# Locals\n",
    "for k,v in corr_dict.items():\n",
    "    df_corr.loc[k[0], k[1]] = v[3]\n",
    "sns.heatmap(df_corr, annot=True, annot_kws={\"size\": 7}, cmap='Greys', ax=axs[1,1])\n",
    "axs[1,1].set_title('Locals', fontsize=10)\n",
    "axs[1,1].set_xlabel('Betweenness percentile')\n",
    "axs[1,1].set_ylabel('K_road_o percentile')\n",
    "\n",
    "\n",
    "plt.savefig(path_plots+'bc_spearman_all.png', bbox_inches =\"tight\", dpi=150)\n",
    "plt.show()"
   ]
  },
  {
   "cell_type": "code",
   "execution_count": null,
   "id": "c3859664",
   "metadata": {},
   "outputs": [],
   "source": [
    "del by_label, color_counter, color_dict_d, color_dict_o, df_co2_len, df_total_co2_road, labels\n",
    "del stacked_df_d, stacked_df_o, stacked_df2_d, stacked_df2_o, v\n",
    "del corr_df, corr_dict, percentiles, tmp"
   ]
  },
  {
   "attachments": {},
   "cell_type": "markdown",
   "id": "edf94aaf",
   "metadata": {},
   "source": [
    "### 4.2 Visualization of road type on map"
   ]
  },
  {
   "cell_type": "markdown",
   "id": "59fb0e36",
   "metadata": {},
   "source": [
    "Plot on map of different road types"
   ]
  },
  {
   "cell_type": "code",
   "execution_count": null,
   "id": "ffa329ee",
   "metadata": {},
   "outputs": [],
   "source": [
    "road_network = sumolib.net.readNet(road_network_path, withInternal=False)"
   ]
  },
  {
   "cell_type": "code",
   "execution_count": null,
   "id": "a850746b",
   "metadata": {},
   "outputs": [],
   "source": [
    "road_edge_map = pd.read_csv(path_road_edge_mapping)"
   ]
  },
  {
   "cell_type": "code",
   "execution_count": null,
   "id": "b142630e",
   "metadata": {},
   "outputs": [],
   "source": [
    "G = nx.MultiDiGraph()\n",
    "\n",
    "for edge in road_network.getEdges():\n",
    "    node_from = edge.getFromNode().getID()\n",
    "    node_to = edge.getToNode().getID()\n",
    "    geom = [list(x) for x in edge.getShape()]\n",
    "    G.add_edge(node_from, node_to, key=edge.getID(), length=edge.getLength(), geometry=LineString(geom))\n",
    "    \n",
    "G.graph.update({'crs': 'epsg:3857'})"
   ]
  },
  {
   "cell_type": "code",
   "execution_count": null,
   "id": "849cf767",
   "metadata": {},
   "outputs": [],
   "source": [
    "def plot_df(df_exps, road_edge_map, road_net):\n",
    "    road_edge_map_no_intern = road_edge_map[~road_edge_map['edge_id'].astype(str).str.startswith(':')]\n",
    "    road_edge_mean_map = pd.merge(road_edge_map_no_intern, df_exps, on=['road'])\n",
    "    \n",
    "    # create column with tuple of edges of the graph (u,v,key)\n",
    "    edge_graph_list = []\n",
    "    for edge in road_edge_mean_map['edge_id']:\n",
    "        from_node = road_net.getEdge(edge).getFromNode().getID()\n",
    "        to_node = road_net.getEdge(edge).getToNode().getID()\n",
    "        edge_graph_list.append((from_node, to_node, edge))\n",
    "        \n",
    "    road_edge_mean_map['edge_graph'] = edge_graph_list\n",
    "    \n",
    "    return road_edge_mean_map"
   ]
  },
  {
   "cell_type": "code",
   "execution_count": null,
   "id": "baa648f7",
   "metadata": {},
   "outputs": [],
   "source": [
    "corr_plot = plot_df(corr_co2, road_edge_map, road_network)"
   ]
  },
  {
   "cell_type": "code",
   "execution_count": null,
   "id": "30e5046b",
   "metadata": {},
   "outputs": [],
   "source": [
    "def add_attribute_to_graph(graph, df_plot, attr_name, plot_col):\n",
    "    # edge[0] = node_from, edge[1] = node_to, edge[2] = key = edge_id \n",
    "    \n",
    "    # Initialize co2 attribute in the graph\n",
    "    for edge in graph.edges:\n",
    "        G[edge[0]][edge[1]][edge[2]][attr_name] = None\n",
    "        \n",
    "    # Set co2 attribute based on some value per road\n",
    "    for edge, value in zip(df_plot['edge_graph'], df_plot[plot_col]):\n",
    "        graph[edge[0]][edge[1]][edge[2]][attr_name] = value"
   ]
  },
  {
   "cell_type": "code",
   "execution_count": null,
   "id": "b6532d26",
   "metadata": {},
   "outputs": [],
   "source": [
    "add_attribute_to_graph(G, corr_plot, 'color_o', 'color_o')\n",
    "add_attribute_to_graph(G, corr_plot, 'color_d', 'color_d')"
   ]
  },
  {
   "cell_type": "code",
   "execution_count": null,
   "id": "2eae70dd",
   "metadata": {},
   "outputs": [],
   "source": [
    "# create colormap\n",
    "\n",
    "val_o = []\n",
    "val_d = []\n",
    "ind = []\n",
    "for edge in G.edges:\n",
    "    # origin\n",
    "    if G[edge[0]][edge[1]][edge[2]]['color_o'] == None:\n",
    "        val_o.append('white')\n",
    "        ind.append(edge)\n",
    "    else:\n",
    "        val_o.append(G[edge[0]][edge[1]][edge[2]]['color_o'])\n",
    "        ind.append(edge)\n",
    "\n",
    "    # destination\n",
    "    if G[edge[0]][edge[1]][edge[2]]['color_d'] == None:\n",
    "        val_d.append('white')\n",
    "    else:\n",
    "        val_d.append(G[edge[0]][edge[1]][edge[2]]['color_d'])   \n",
    "\n",
    "ec_o = pd.Series(val_o, index=pd.MultiIndex.from_tuples(ind))\n",
    "ec_d = pd.Series(val_d, index=pd.MultiIndex.from_tuples(ind))\n"
   ]
  },
  {
   "cell_type": "code",
   "execution_count": null,
   "id": "b4328386",
   "metadata": {},
   "outputs": [],
   "source": [
    "fig, ax = ox.plot_graph(G, bgcolor='lightgrey', node_size=0, edge_linewidth=1, edge_color=ec_o, show=False)\n",
    "\n",
    "plt.title('Milano-big: type of road origin')\n",
    "\n",
    "legend_elements = [Line2D([0], [0], color='red', lw=4, label='Connectors'),\n",
    "                   Line2D([0], [0], color='orange', lw=4, label='Attractors'),\n",
    "                   Line2D([0], [0], color='green', lw=4, label='Peripherals'),\n",
    "                   Line2D([0], [0], color='grey', lw=4, label='Locals')\n",
    "                   ]\n",
    "\n",
    "ax.legend(handles=legend_elements, bbox_to_anchor=(1.2, 1))\n",
    "plt.savefig(path_plots+'corr_map_o.png', bbox_inches =\"tight\")\n",
    "plt.show()"
   ]
  },
  {
   "cell_type": "code",
   "execution_count": null,
   "id": "d17bbaee",
   "metadata": {},
   "outputs": [],
   "source": [
    "fig, ax = ox.plot_graph(G, bgcolor='lightgrey', node_size=0, edge_linewidth=1, edge_color=ec_d, show=False)\n",
    "\n",
    "plt.title('Milano-big: type of road destination')\n",
    "\n",
    "legend_elements = [Line2D([0], [0], color='red', lw=4, label='Connectors'),\n",
    "                   Line2D([0], [0], color='orange', lw=4, label='Attractors'),\n",
    "                   Line2D([0], [0], color='green', lw=4, label='Peripherals'),\n",
    "                   Line2D([0], [0], color='grey', lw=4, label='Locals')\n",
    "                   ]\n",
    "\n",
    "ax.legend(handles=legend_elements, bbox_to_anchor=(1.2, 1))\n",
    "plt.savefig(path_plots+'corr_map_d.png', bbox_inches =\"tight\")\n",
    "plt.show()"
   ]
  },
  {
   "attachments": {},
   "cell_type": "markdown",
   "id": "5f952bfd",
   "metadata": {},
   "source": [
    "### 4.3 Plot of driver sources and destinations for a given edge"
   ]
  },
  {
   "cell_type": "markdown",
   "id": "0e194569",
   "metadata": {},
   "source": [
    "Visualization of the tile id of the driver sources and destinations for a certain edge id"
   ]
  },
  {
   "cell_type": "code",
   "execution_count": null,
   "id": "53955be4",
   "metadata": {},
   "outputs": [],
   "source": [
    "ds_o = compute_driver_sources(routed_paths_folder+'Milano_big_TD_30k_0.rou.xml', dict_edge_tile, origin=True)\n",
    "ds_o = compute_MDS(ds_o, 0.8)\n",
    "\n",
    "ds_d = compute_driver_sources(routed_paths_folder+'Milano_big_TD_30k_0.rou.xml', dict_edge_tile, origin=False)\n",
    "ds_d = compute_MDS(ds_d, 0.8)"
   ]
  },
  {
   "cell_type": "code",
   "execution_count": null,
   "id": "994051cc",
   "metadata": {},
   "outputs": [],
   "source": [
    "shape = gpd.GeoDataFrame.from_file(shapefile_path)\n",
    "tile_h3_resolution = constants.H3_UTILS['average_hexagon_edge_length']['8']\n",
    "tessellation_hex = tilers.tiler.get('h3_tessellation', base_shape=shape, meters=tile_h3_resolution*1000)"
   ]
  },
  {
   "cell_type": "code",
   "execution_count": null,
   "id": "308ec063",
   "metadata": {},
   "outputs": [],
   "source": [
    "# convert tesselltion in SUMO road net coordinates\n",
    "new_geom = []\n",
    "for g in tessellation_hex['geometry']:\n",
    "    xs = []\n",
    "    ys = []\n",
    "    for lon, lat in zip(g.exterior.coords.xy[0], g.exterior.coords.xy[1]):\n",
    "        x,y = road_network.convertLonLat2XY(lon, lat)\n",
    "        xs.append(x)\n",
    "        ys.append(y)\n",
    "    new_geom.append(Polygon(zip(xs, ys)))\n",
    "\n",
    "tessellation_hex['geometry'] = new_geom"
   ]
  },
  {
   "cell_type": "code",
   "execution_count": null,
   "id": "e27e1420",
   "metadata": {},
   "outputs": [],
   "source": [
    "# road to visualize\n",
    "road_edges = list(road_edge_map[road_edge_map['road'].str.startswith('A50')]['edge_id'])\n",
    "#road_edges = list(road_edge_map[road_edge_map['road'].str.startswith('Via Lomellina, Milano')]['edge_id'])"
   ]
  },
  {
   "cell_type": "code",
   "execution_count": null,
   "id": "ad538ba8",
   "metadata": {},
   "outputs": [],
   "source": [
    "# create colormap selected road\n",
    "val = []\n",
    "ind = []\n",
    "for edge in G.edges:\n",
    "    if edge[2] in road_edges:\n",
    "        val.append(G[edge[0]][edge[1]][edge[2]]['color_o'])\n",
    "        ind.append(edge)\n",
    "    else:\n",
    "        val.append('lightgrey')\n",
    "        ind.append(edge)  \n",
    "\n",
    "ec = pd.Series(val, index=pd.MultiIndex.from_tuples(ind))"
   ]
  },
  {
   "cell_type": "code",
   "execution_count": null,
   "id": "ad51d166",
   "metadata": {},
   "outputs": [],
   "source": [
    "tiles_o = {}\n",
    "for edge in road_edges:\n",
    "    if edge in ds_o.keys():\n",
    "        for tile, val in ds_o[edge].items():\n",
    "            if tile in tiles_o:\n",
    "                tiles_o[tile].append(val)\n",
    "            else:\n",
    "                tiles_o[tile] = [val]\n",
    "# mean of k_roads\n",
    "for k,v in tiles_o.items():\n",
    "    tiles_o[k] = np.mean(v)\n",
    "\n",
    "# normalize for alpha values for the plot\n",
    "val_min = np.min(list(tiles_o.values()))\n",
    "val_max = np.max(list(tiles_o.values()))\n",
    "for k,v in tiles_o.items():\n",
    "    tiles_o[k] = (v-val_min)/(val_max-val_min)\n",
    "\n",
    "\n",
    "tiles_d = {}\n",
    "for edge in road_edges:\n",
    "    if edge in ds_d.keys():\n",
    "        for tile, val in ds_d[edge].items():\n",
    "            if tile in tiles_d:\n",
    "                tiles_d[tile].append(val)\n",
    "            else:\n",
    "                tiles_d[tile] = [val]\n",
    "# mean of k_roads\n",
    "for k,v in tiles_d.items():\n",
    "    tiles_d[k] = np.mean(v)\n",
    "\n",
    "# normalize for alpha values for the plot\n",
    "val_min = np.min(list(tiles_d.values()))\n",
    "val_max = np.max(list(tiles_d.values()))\n",
    "for k,v in tiles_d.items():\n",
    "    tiles_d[k] = (v-val_min)/(val_max-val_min)"
   ]
  },
  {
   "cell_type": "code",
   "execution_count": null,
   "metadata": {},
   "outputs": [],
   "source": [
    "fig, ax = ox.plot_graph(G, bgcolor='white', node_size=0, edge_linewidth=0.8, edge_color=ec, show=False)\n",
    "\n",
    "# plot tiles\n",
    "hx_o = tessellation_hex[tessellation_hex['tile_ID'].isin(tiles_o)]\n",
    "for tile in tiles_o:\n",
    "    facec_o = [mcolors.to_rgba('tab:blue', tiles_o[tile])]\n",
    "    hx_o[hx_o['tile_ID']==tile].plot(ax=ax, aspect=1, edgecolor='tab:blue', fc=facec_o, linewidth=0.8)\n",
    "\n",
    "\n",
    "plt.title('Major driver sources of road')\n",
    "\n",
    "plt.savefig(path_plots+'mds_o_map.png', bbox_inches =\"tight\")\n",
    "plt.show()"
   ]
  },
  {
   "cell_type": "code",
   "execution_count": null,
   "id": "acd82187",
   "metadata": {},
   "outputs": [],
   "source": [
    "fig, ax = ox.plot_graph(G, bgcolor='white', node_size=0, edge_linewidth=0.8, edge_color=ec, show=False)\n",
    "\n",
    "# plot tiles\n",
    "hx_d = tessellation_hex[tessellation_hex['tile_ID'].isin(tiles_d)]\n",
    "for tile in tiles_d:\n",
    "    facec_o = [mcolors.to_rgba('tab:orange', tiles_d[tile])]\n",
    "    hx_d[hx_d['tile_ID']==tile].plot(ax=ax, aspect=1, edgecolor='tab:orange', fc=facec_o, linewidth=0.8)\n",
    "\n",
    "\n",
    "plt.title('Major driver destinations of road')\n",
    "\n",
    "plt.savefig(path_plots+'mds_d_map.png', bbox_inches =\"tight\")\n",
    "plt.show()"
   ]
  },
  {
   "cell_type": "code",
   "execution_count": null,
   "id": "1d9ab60a",
   "metadata": {},
   "outputs": [],
   "source": [
    "del corr_plot, df_corr, ds_d, ds_o, ec, ec_d, ec_o, hx_d, hx_o, ind, new_geom\n",
    "del tessellation_hex, tiles_d, tiles_o, val_d, val_o, "
   ]
  },
  {
   "attachments": {},
   "cell_type": "markdown",
   "id": "6ee202cd",
   "metadata": {},
   "source": [
    "## 5. Path differences after road closure"
   ]
  },
  {
   "cell_type": "markdown",
   "id": "2c211e51",
   "metadata": {},
   "source": [
    "Plot the differences in routed paths before and after the closure of a road"
   ]
  },
  {
   "cell_type": "code",
   "execution_count": null,
   "id": "8a9f1966",
   "metadata": {},
   "outputs": [],
   "source": [
    "baseline_path = list(sumolib.xml.parse(routed_paths_folder+'Milano_big_TD_30k_0.rou.xml', 'vehicle'))\n",
    "experiment_path = list(sumolib.xml.parse('../data/simulations/'+city+'/top30/routed_paths/Milano_big_TD_30k_top30_0.rou.xml', 'vehicle'))\n",
    "road_edge_tbr = pd.read_csv('../data/simulations/'+city+'/top30/Milano_big_road_top30.csv')"
   ]
  },
  {
   "cell_type": "code",
   "execution_count": null,
   "id": "fa7f8108",
   "metadata": {},
   "outputs": [],
   "source": [
    "road_edge_tbr['road'][:5]"
   ]
  },
  {
   "cell_type": "code",
   "execution_count": null,
   "id": "b6a81d3d",
   "metadata": {},
   "outputs": [],
   "source": [
    "all_removed_edges = []\n",
    "for l in road_edge_tbr['edge_id']:\n",
    "    all_removed_edges += literal_eval(l)\n",
    "all_removed_edges = list(set(all_removed_edges))"
   ]
  },
  {
   "cell_type": "code",
   "execution_count": null,
   "id": "2d148ad2",
   "metadata": {},
   "outputs": [],
   "source": [
    "roadname = 'Piazza Carlo Caneva'\n",
    "edge_removed = set(literal_eval(road_edge_tbr[road_edge_tbr['road']==roadname]['edge_id'].values[0]))\n",
    "threshold_edge = 1\n",
    "vehicle_ids = []\n",
    "\n",
    "for vehicle in baseline_path:\n",
    "    v_path = set(vehicle.route[0].edges.split(' '))\n",
    "    if len(edge_removed.intersection(v_path)) > threshold_edge:\n",
    "        vehicle_ids.append(vehicle.id)"
   ]
  },
  {
   "cell_type": "code",
   "execution_count": null,
   "id": "7f586c1f",
   "metadata": {},
   "outputs": [],
   "source": [
    "vehicle_ids[:5]"
   ]
  },
  {
   "cell_type": "code",
   "execution_count": null,
   "id": "5b9c621b",
   "metadata": {},
   "outputs": [],
   "source": [
    "v_id = 'vehicle_1434.0'\n",
    "baseline_v_route = []\n",
    "experiment_v_route = []\n",
    "\n",
    "for vehicle in baseline_path:\n",
    "    if vehicle.id == v_id:\n",
    "        baseline_v_route = vehicle.route[0].edges.split(' ')\n",
    "        break\n",
    "\n",
    "for vehicle in experiment_path:\n",
    "    if vehicle.id == v_id:\n",
    "        experiment_v_route = vehicle.route[0].edges.split(' ')\n",
    "        break"
   ]
  },
  {
   "cell_type": "code",
   "execution_count": null,
   "id": "31c6aa9b",
   "metadata": {},
   "outputs": [],
   "source": [
    "road_network = sumolib.net.readNet(road_network_path, withInternal=False)\n",
    "road_edge_map = pd.read_csv(path_road_edge_mapping)"
   ]
  },
  {
   "cell_type": "code",
   "execution_count": null,
   "id": "275269b1",
   "metadata": {},
   "outputs": [],
   "source": [
    "def edge_list_to_gps_list(edge_list, road_network):\n",
    "    \n",
    "    gps_points = []\n",
    "\n",
    "    for edge_id in edge_list:\n",
    "\n",
    "        if edge_id.startswith(':'):\n",
    "            continue\n",
    "        \n",
    "        sumo_edge = road_network.getEdge(edge_id)\n",
    "\n",
    "        x, y = sumo_edge.getFromNode().getCoord()\n",
    "        lon_from, lat_from = road_network.convertXY2LonLat(x, y)\n",
    "\n",
    "        x, y = sumo_edge.getToNode().getCoord()\n",
    "        lon_to, lat_to = road_network.convertXY2LonLat(x, y)\n",
    "\n",
    "        gps_points.append((lat_from, lon_from))\n",
    "        gps_points.append((lat_to, lon_to))\n",
    "              \n",
    "    return gps_points"
   ]
  },
  {
   "cell_type": "code",
   "execution_count": null,
   "id": "4d85a5b1",
   "metadata": {},
   "outputs": [],
   "source": [
    "m = folium.Map(location=[45.469262, 9.182007],\n",
    "               tiles='CartoDB Positron',\n",
    "               zoom_start=14,\n",
    "               attr='CartoDB')"
   ]
  },
  {
   "cell_type": "code",
   "execution_count": null,
   "id": "b068fe5c",
   "metadata": {},
   "outputs": [],
   "source": [
    "for edge in baseline_v_route:\n",
    "    gps_edge = edge_list_to_gps_list([edge], road_network)\n",
    "    folium.PolyLine(gps_edge, color='blue', weight=4).add_to(m)\n",
    "\n",
    "for edge in experiment_v_route:\n",
    "    gps_edge = edge_list_to_gps_list([edge], road_network)\n",
    "    folium.PolyLine(gps_edge, color='orange', weight=4).add_to(m)\n",
    "\n",
    "#gps_edge = edge_list_to_gps_list(edge_removed, road_network)\n",
    "#folium.PolyLine(gps_edge, color='red', weight=3, dash_array='5').add_to(m)\n",
    "\n",
    "for edge in all_removed_edges:\n",
    "    if not edge.startswith(':'):\n",
    "        gps_edge = edge_list_to_gps_list([edge], road_network)\n",
    "        folium.PolyLine(gps_edge, color='red', weight=2).add_to(m)"
   ]
  },
  {
   "cell_type": "code",
   "execution_count": null,
   "id": "23496357",
   "metadata": {},
   "outputs": [],
   "source": [
    "m"
   ]
  },
  {
   "cell_type": "code",
   "execution_count": null,
   "id": "7c87b9d9",
   "metadata": {},
   "outputs": [],
   "source": [
    "G = nx.MultiDiGraph()\n",
    "\n",
    "for edge in road_network.getEdges():\n",
    "    node_from = edge.getFromNode().getID()\n",
    "    node_to = edge.getToNode().getID()\n",
    "    geom = [list(x) for x in edge.getShape()]\n",
    "    G.add_edge(node_from, node_to, key=edge.getID(), length=edge.getLength(), geometry=LineString(geom))\n",
    "    \n",
    "G.graph.update({'crs': 'epsg:3857'})"
   ]
  },
  {
   "cell_type": "code",
   "execution_count": null,
   "id": "7c0809a3",
   "metadata": {},
   "outputs": [],
   "source": [
    "# edge[0] = node_from, edge[1] = node_to, edge[2] = key = edge_id \n",
    "for edge in G.edges:\n",
    "    if edge[2] in edge_removed:\n",
    "        G[edge[0]][edge[1]][edge[2]]['color'] = 'tab:red'\n",
    "    elif edge[2] in baseline_v_route:\n",
    "        G[edge[0]][edge[1]][edge[2]]['color'] = 'tab:blue'\n",
    "    elif edge[2] in experiment_v_route:\n",
    "        G[edge[0]][edge[1]][edge[2]]['color'] = 'tab:orange'\n",
    "    else:\n",
    "        G[edge[0]][edge[1]][edge[2]]['color'] = 'white'"
   ]
  },
  {
   "cell_type": "code",
   "execution_count": null,
   "id": "0271d501",
   "metadata": {},
   "outputs": [],
   "source": [
    "# create colormap\n",
    "val = []\n",
    "ind = []\n",
    "for edge in G.edges:\n",
    "    val.append(G[edge[0]][edge[1]][edge[2]]['color'])\n",
    "    ind.append(edge)  \n",
    "\n",
    "ec = pd.Series(val, index=pd.MultiIndex.from_tuples(ind))"
   ]
  },
  {
   "cell_type": "code",
   "execution_count": null,
   "id": "86265dac",
   "metadata": {},
   "outputs": [],
   "source": [
    "fig, ax = ox.plot_graph(G, bgcolor='lightgrey', node_size=0, edge_linewidth=1, edge_color=ec, show=False)\n",
    "\n",
    "plt.title('Milano-big: type of road origin')\n",
    "\n",
    "#legend_elements = [Line2D([0], [0], color='red', lw=4, label='Connectors'),\n",
    "#                   Line2D([0], [0], color='orange', lw=4, label='Attractors'),\n",
    "#                   Line2D([0], [0], color='grey', lw=4, label='Locals')\n",
    "#                   Line2D([0], [0], color='green', lw=4, label='Peripherals'),\n",
    "#                   ]\n",
    "\n",
    "#ax.legend(handles=legend_elements, bbox_to_anchor=(1.2, 1))\n",
    "ax.set_ylim(14000, 16000)\n",
    "ax.set_xlim(10000, 14000)\n",
    "plt.show()"
   ]
  },
  {
   "cell_type": "code",
   "execution_count": null,
   "id": "3f3fddd6",
   "metadata": {},
   "outputs": [],
   "source": []
  }
 ],
 "metadata": {
  "kernelspec": {
   "display_name": "Python 3 (ipykernel)",
   "language": "python",
   "name": "python3"
  },
  "language_info": {
   "codemirror_mode": {
    "name": "ipython",
    "version": 3
   },
   "file_extension": ".py",
   "mimetype": "text/x-python",
   "name": "python",
   "nbconvert_exporter": "python",
   "pygments_lexer": "ipython3",
   "version": "3.11.0"
  }
 },
 "nbformat": 4,
 "nbformat_minor": 5
}

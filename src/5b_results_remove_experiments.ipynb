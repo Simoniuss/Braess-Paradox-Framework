{
 "cells": [
  {
   "attachments": {},
   "cell_type": "markdown",
   "id": "97af3ce5",
   "metadata": {},
   "source": [
    "# Results of the closure strategy simulations"
   ]
  },
  {
   "cell_type": "markdown",
   "id": "338af43f",
   "metadata": {},
   "source": [
    "This notebook contains the results obtained from the simulation of a closure strategy. The results are compared with the baseline results."
   ]
  },
  {
   "attachments": {},
   "cell_type": "markdown",
   "id": "d6d21b48",
   "metadata": {},
   "source": [
    "(The first time you should execute all the cell, then if you want just analyze results can skip cell group 1)"
   ]
  },
  {
   "cell_type": "code",
   "execution_count": null,
   "id": "a2a4ef3f",
   "metadata": {},
   "outputs": [],
   "source": [
    "import json\n",
    "from result_utils import *\n",
    "import sumolib\n",
    "import pandas as pd\n",
    "import html\n",
    "import osmnx as ox\n",
    "import networkx as nx\n",
    "import matplotlib as mpl\n",
    "import folium\n",
    "import numpy as np\n",
    "from ast import literal_eval\n",
    "import glob\n",
    "from shapely.geometry import LineString"
   ]
  },
  {
   "attachments": {},
   "cell_type": "markdown",
   "id": "9e03f405",
   "metadata": {},
   "source": [
    "#### parameters"
   ]
  },
  {
   "cell_type": "code",
   "execution_count": null,
   "id": "bf411694",
   "metadata": {},
   "outputs": [],
   "source": [
    "k = '100'\n",
    "exp_name = 'MIX_top'+k\n",
    "exp_rand = 'rand'+k\n",
    "city = 'Milano_big'\n",
    "\n",
    "# road network path\n",
    "road_network_path = \"../data/road_net/\"+city+\"/\"+city+\"_road_network.net.xml\"\n",
    "\n",
    "# removed edges csv\n",
    "removed_road_path = '../data/simulations/'+city+'/'+exp_name+'/'+city+'_road_'+exp_name+'.csv'\n",
    "removed_rand_road_path = '../data/simulations/'+city+'/'+exp_name+'/rand/*.csv'\n",
    "\n",
    "path_road_edge_mapping = '../data/road_net/'+city+'/'+city+'_road_edge_map.csv'\n",
    "\n",
    "# routed paths folder baseline\n",
    "rou_path_folder = '../data/simulations/'+city+'/baseline/routed_paths/'\n",
    "\n",
    "# Experiment folders\n",
    "folder_experiments = \"../data/simulations/\"+city+\"/\"+exp_name+\"/sumo_out/\"\n",
    "folder_experiments_rand = \"../data/simulations/\"+city+\"/\"+exp_name+\"/rand/sumo_out/\"\n",
    "folder_baseline = '../data/simulations/'+city+'/baseline/sumo_out/'\n",
    "\n",
    "# output paths\n",
    "path_results = \"../data/simulations/\"+city+\"/\"+exp_name+\"/results/\"\n",
    "path_plots = \"../data/simulations/\"+city+\"/\"+exp_name+\"/plots/\""
   ]
  },
  {
   "attachments": {},
   "cell_type": "markdown",
   "id": "1c4539d9",
   "metadata": {},
   "source": [
    "Create a dictionary that associates configuration and filenames"
   ]
  },
  {
   "cell_type": "code",
   "execution_count": null,
   "id": "8093a950",
   "metadata": {},
   "outputs": [],
   "source": [
    "rand_removed_road_edge_list = []\n",
    "for file in glob.glob(removed_rand_road_path):\n",
    "    rand_removed_road_edge = pd.read_csv(file)\n",
    "    rand_removed_road_edge_list.append(rand_removed_road_edge)"
   ]
  },
  {
   "cell_type": "code",
   "execution_count": null,
   "id": "134569ea",
   "metadata": {},
   "outputs": [],
   "source": [
    "len(rand_removed_road_edge_list)"
   ]
  },
  {
   "cell_type": "code",
   "execution_count": null,
   "id": "e15f6523",
   "metadata": {},
   "outputs": [],
   "source": [
    "exp_rand_list = []\n",
    "for i in range(len(rand_removed_road_edge_list)):\n",
    "    exp_rand_list.append(exp_rand+'_'+str(i))"
   ]
  },
  {
   "cell_type": "code",
   "execution_count": null,
   "id": "60fce3ed",
   "metadata": {
    "scrolled": false
   },
   "outputs": [],
   "source": [
    "dict_exps = create_dict_exps(folder_experiments, exp_name)\n",
    "dict_baseline = create_dict_exps(folder_baseline, 'baseline')\n",
    "dict_rand = {}\n",
    "for exp in exp_rand_list:\n",
    "    dict_rand_i = create_dict_exps_rand(folder_experiments_rand, exp)\n",
    "    dict_rand.update(dict_rand_i)"
   ]
  },
  {
   "attachments": {},
   "cell_type": "markdown",
   "id": "3f2f1d63",
   "metadata": {},
   "source": [
    "## 1. Compute road aggregation for each experiment"
   ]
  },
  {
   "cell_type": "markdown",
   "id": "845be365",
   "metadata": {},
   "source": [
    "Aggregate the results of the experiments to road level."
   ]
  },
  {
   "cell_type": "code",
   "execution_count": null,
   "id": "e0dce0a1",
   "metadata": {},
   "outputs": [],
   "source": [
    "road_edge_map = pd.read_csv(path_road_edge_mapping)"
   ]
  },
  {
   "cell_type": "code",
   "execution_count": null,
   "id": "49644926",
   "metadata": {},
   "outputs": [],
   "source": [
    "def create_road_measures(dict_exps, folder_experiments, main_experiment_name, road_edge_map):\n",
    "    for exp_id, exp_folder_name in dict_exps[main_experiment_name].items():\n",
    "        exp_df = pd.read_csv(folder_experiments+exp_folder_name+\"/edge_measures.csv\")\n",
    "        merged = pd.merge(road_edge_map, exp_df, on=['edge_id'])\n",
    "        grouped = merged.groupby('road').agg({'edge_id': lambda x: x.tolist(),\n",
    "                                              'edge_len': 'sum',\n",
    "                                              'total_co2': 'sum',\n",
    "                                              'total_nox': 'sum',\n",
    "                                              'total_fuel': 'sum',\n",
    "                                              'total_v_edge': 'sum'})\n",
    "        grouped.reset_index(inplace=True)\n",
    "        grouped.to_csv(folder_experiments+exp_folder_name+\"/road_measures.csv\", index=False)"
   ]
  },
  {
   "cell_type": "code",
   "execution_count": null,
   "id": "f144457a",
   "metadata": {},
   "outputs": [],
   "source": [
    "create_road_measures(dict_exps, folder_experiments, exp_name, road_edge_map)\n",
    "for exp in exp_rand_list:\n",
    "    create_road_measures(dict_rand, folder_experiments_rand, exp, road_edge_map)"
   ]
  },
  {
   "attachments": {},
   "cell_type": "markdown",
   "id": "fa21a9d6",
   "metadata": {},
   "source": [
    "## 2. Results by roads"
   ]
  },
  {
   "cell_type": "markdown",
   "id": "1cb25f6f",
   "metadata": {},
   "source": [
    "Visualization of the results by road."
   ]
  },
  {
   "cell_type": "code",
   "execution_count": null,
   "id": "2f910e4f",
   "metadata": {},
   "outputs": [],
   "source": [
    "road_edge_map = pd.read_csv(path_road_edge_mapping)"
   ]
  },
  {
   "cell_type": "code",
   "execution_count": null,
   "id": "5b6e953b",
   "metadata": {},
   "outputs": [],
   "source": [
    "removed_roads = pd.read_csv(removed_road_path)"
   ]
  },
  {
   "cell_type": "code",
   "execution_count": null,
   "id": "d65376ed",
   "metadata": {},
   "outputs": [],
   "source": [
    "removed_edges = np.array([])\n",
    "\n",
    "for edge_list in removed_roads['edge_id']:\n",
    "    removed_edges = np.append(removed_edges, literal_eval(edge_list))"
   ]
  },
  {
   "cell_type": "code",
   "execution_count": null,
   "id": "9b98c2ed",
   "metadata": {},
   "outputs": [],
   "source": [
    "#removed_roads_rand = pd.read_csv(removed_road_rand_path)\n",
    "removed_edges_rand_list = []\n",
    "for removed_roads_rand in rand_removed_road_edge_list:\n",
    "    removed_edges_rand = np.array([])\n",
    "\n",
    "    for edge_list in removed_roads_rand['edge_id']:\n",
    "        removed_edges_rand = np.append(removed_edges_rand, literal_eval(edge_list))\n",
    "    removed_edges_rand_list.append(removed_edges_rand)"
   ]
  },
  {
   "cell_type": "code",
   "execution_count": null,
   "id": "cc6290af",
   "metadata": {},
   "outputs": [],
   "source": [
    "# Aggregate all experiments results and compute the mean and the std of the 'total_of' column.\n",
    "# It returns a dictionary with keys = roadnames and list [mean, std].\n",
    "\n",
    "def create_dict_total_per_road(dict_exps, folder_experiments, main_experiment_name, total_of):\n",
    "    dict_total = {}\n",
    "    for exp_id, exp_folder_name in dict_exps[main_experiment_name].items():\n",
    "        exp_df = pd.read_csv(folder_experiments+exp_folder_name+\"/road_measures.csv\")\n",
    "        \n",
    "        for ind, row in exp_df.iterrows():\n",
    "            if row['road'] in dict_total:\n",
    "                dict_total[row['road']].append(row[total_of])\n",
    "            else:\n",
    "                dict_total[row['road']] = [row[total_of]]\n",
    "    \n",
    "    list_df = []\n",
    "    for road, total in dict_total.items():\n",
    "        list_df.append([road, np.array(total).mean(), np.array(total).std()])\n",
    "    df = pd.DataFrame(list_df, columns=['road', 'mean', 'std'])\n",
    "        \n",
    "    return df"
   ]
  },
  {
   "cell_type": "code",
   "execution_count": null,
   "id": "cdfcd419",
   "metadata": {},
   "outputs": [],
   "source": [
    "# Aggregate all experiments results and compute the mean and the std of the 'total_of' column.\n",
    "# It returns a dictionary with keys = roadnames and list [mean, std].\n",
    "\n",
    "def create_dict_total_per_road_rand(dict_exps, folder_experiments, total_of):\n",
    "    dict_total = {}\n",
    "    for exp_id, exp_dict in dict_exps.items():\n",
    "        for n_exp, exp_name in exp_dict.items():\n",
    "        \n",
    "            exp_df = pd.read_csv(folder_experiments+exp_name+\"/road_measures.csv\")\n",
    "\n",
    "            for ind, row in exp_df.iterrows():\n",
    "                if row['road'] in dict_total:\n",
    "                    dict_total[row['road']].append(row[total_of])\n",
    "                else:\n",
    "                    dict_total[row['road']] = [row[total_of]]\n",
    "    \n",
    "    list_df = []\n",
    "    for road, total in dict_total.items():\n",
    "        list_df.append([road, np.array(total).mean(), np.array(total).std()])\n",
    "    df = pd.DataFrame(list_df, columns=['road', 'mean', 'std'])\n",
    "        \n",
    "    return df"
   ]
  },
  {
   "cell_type": "code",
   "execution_count": null,
   "id": "f683d6ba",
   "metadata": {},
   "outputs": [],
   "source": [
    "# count edges used in each experiment\n",
    "\n",
    "def count_used_edges(dict_exps, folder_experiments, main_experiment_name):\n",
    "    exp_edge_map = {}\n",
    "    for exp_id, exp_folder_name in dict_exps[main_experiment_name].items():\n",
    "        exp_df = pd.read_csv(folder_experiments+exp_folder_name+\"/edge_measures.csv\")\n",
    "        \n",
    "        used_edges = exp_df[(exp_df['total_co2'] != 0) & (~exp_df['edge_id'].str.startswith(':'))]['edge_id'].count()\n",
    "        \n",
    "        if main_experiment_name in exp_edge_map:\n",
    "            exp_edge_map[main_experiment_name].append(used_edges)\n",
    "        else:\n",
    "            exp_edge_map[main_experiment_name] = [used_edges]\n",
    "    \n",
    "    list_df = []\n",
    "    for exp, edges in exp_edge_map.items():\n",
    "        list_df.append([exp, np.array(edges).mean(), np.array(edges).std()])\n",
    "    df = pd.DataFrame(list_df, columns=['exp', 'mean', 'std'])\n",
    "        \n",
    "    return df"
   ]
  },
  {
   "cell_type": "code",
   "execution_count": null,
   "id": "591e154a",
   "metadata": {},
   "outputs": [],
   "source": [
    "# count used edges in rand experiments\n",
    "\n",
    "def count_used_edges_rand(dict_exps, folder_experiments, main_experiment_name):\n",
    "    exp_edge_map = {}\n",
    "    for exp_id, exp_dict in dict_exps.items():\n",
    "        for n_exp, exp_name in exp_dict.items():\n",
    "        \n",
    "            exp_df = pd.read_csv(folder_experiments+exp_name+\"/edge_measures.csv\")\n",
    "\n",
    "            used_edges = exp_df[(exp_df['total_co2'] != 0) & (~exp_df['edge_id'].str.startswith(':'))]['edge_id'].count()\n",
    "        \n",
    "            if main_experiment_name in exp_edge_map:\n",
    "                exp_edge_map[main_experiment_name].append(used_edges)\n",
    "            else:\n",
    "                exp_edge_map[main_experiment_name] = [used_edges]\n",
    "    \n",
    "    list_df = []\n",
    "    for exp, edges in exp_edge_map.items():\n",
    "        list_df.append([exp, np.array(edges).mean(), np.array(edges).std()])\n",
    "    df = pd.DataFrame(list_df, columns=['exp', 'mean', 'std'])\n",
    "    \n",
    "    return df"
   ]
  },
  {
   "cell_type": "code",
   "execution_count": null,
   "id": "f60fb375",
   "metadata": {},
   "outputs": [],
   "source": [
    "# count the number of vehicles that passed through a removed edge\n",
    "\n",
    "def count_impacted_vehicles(rou_path_folder, removed_edges):\n",
    "    imp_vehicle = []\n",
    "\n",
    "    for rou_file in os.listdir(rou_path_folder):\n",
    "        rp_tmp = list(sumolib.xml.parse(rou_path_folder+rou_file, 'route'))\n",
    "\n",
    "        v_counter = 0\n",
    "        rem_edges_set = set(removed_edges)\n",
    "        for p in rp_tmp:\n",
    "            edgs = set(p.edges.split(' '))\n",
    "            if len(edgs.intersection(rem_edges_set)) != 0:\n",
    "                v_counter += 1\n",
    "        \n",
    "        imp_vehicle.append(v_counter)\n",
    "\n",
    "    return [np.mean(imp_vehicle), np.std(imp_vehicle)]\n"
   ]
  },
  {
   "cell_type": "code",
   "execution_count": null,
   "id": "edddc63b",
   "metadata": {},
   "outputs": [],
   "source": [
    "# count the number of vehicles that passed through a removed edge for random experiment\n",
    "\n",
    "def count_impacted_vehicles_rand(rou_path_folder, removed_edges_list):\n",
    "    imp_vehicle = []\n",
    "\n",
    "    for rou_file in os.listdir(rou_path_folder):\n",
    "        rp_tmp = list(sumolib.xml.parse(rou_path_folder+rou_file, 'route'))\n",
    "\n",
    "        for i in range(len(removed_edges_list)):\n",
    "            v_counter = 0\n",
    "            rem_edges_set = set(removed_edges_list[i])\n",
    "            for p in rp_tmp:\n",
    "                edgs = set(p.edges.split(' '))\n",
    "                if len(edgs.intersection(rem_edges_set)) != 0:\n",
    "                    v_counter += 1\n",
    "            imp_vehicle.append(v_counter)\n",
    "        \n",
    "    return [np.mean(imp_vehicle), np.std(imp_vehicle)]\n"
   ]
  },
  {
   "attachments": {},
   "cell_type": "markdown",
   "id": "d60b87df",
   "metadata": {},
   "source": [
    "### 1. Total CO2 per road"
   ]
  },
  {
   "cell_type": "markdown",
   "id": "69900bb7",
   "metadata": {},
   "source": [
    "Statistics of the total CO2 per road."
   ]
  },
  {
   "cell_type": "code",
   "execution_count": null,
   "id": "08340449",
   "metadata": {},
   "outputs": [],
   "source": [
    "used_edges_baseline = count_used_edges(dict_baseline, folder_baseline, 'baseline')\n",
    "used_edges = count_used_edges(dict_exps, folder_experiments, exp_name)\n",
    "used_edges_rand = count_used_edges_rand(dict_rand, folder_experiments_rand, exp_rand)"
   ]
  },
  {
   "cell_type": "code",
   "execution_count": null,
   "id": "e47ad046",
   "metadata": {},
   "outputs": [],
   "source": [
    "imp_veichles = count_impacted_vehicles(rou_path_folder, removed_edges)\n",
    "imp_veichles_rand = count_impacted_vehicles_rand(rou_path_folder, removed_edges_rand_list)"
   ]
  },
  {
   "cell_type": "code",
   "execution_count": null,
   "id": "ad7373b1",
   "metadata": {},
   "outputs": [],
   "source": [
    "df_co2 = create_dict_total_per_road(dict_exps, folder_experiments, exp_name, 'total_co2')\n",
    "df_co2_baseline = create_dict_total_per_road(dict_baseline, folder_baseline, 'baseline', 'total_co2')\n",
    "df_co2_rand = create_dict_total_per_road_rand(dict_rand, folder_experiments_rand, 'total_co2')"
   ]
  },
  {
   "cell_type": "code",
   "execution_count": null,
   "id": "e22beb87",
   "metadata": {},
   "outputs": [],
   "source": [
    "print('Total CO2 {}: {:.3e} \\u00B1 {:.3}'.format(exp_name, df_co2['mean'].sum(), np.sqrt(df_co2['std'].pow(2).sum())))\n",
    "print('Total CO2 {}: {:.3e} \\u00B1 {:.3}'.format(exp_rand, df_co2_rand['mean'].sum(), np.sqrt(df_co2_rand['std'].pow(2).sum())))\n",
    "print('Total CO2 baseline: {:.3e} \\u00B1 {:.3}'.format(df_co2_baseline['mean'].sum(), np.sqrt(df_co2_baseline['std'].pow(2).sum())))"
   ]
  },
  {
   "cell_type": "code",
   "execution_count": null,
   "id": "3c0788cc",
   "metadata": {},
   "outputs": [],
   "source": [
    "print('Total CO2 {} wrt baseline: {:.2f}%'.format(exp_name, df_co2['mean'].sum()/df_co2_baseline['mean'].sum()*100-100))\n",
    "print('Total CO2 {} wrt baseline: {:.2f}%'.format(exp_rand, df_co2_rand['mean'].sum()/df_co2_baseline['mean'].sum()*100-100))"
   ]
  },
  {
   "cell_type": "code",
   "execution_count": null,
   "id": "5553ef79",
   "metadata": {},
   "outputs": [],
   "source": [
    "# save stats\n",
    "df_stats = pd.DataFrame({'experiment': ['baseline', exp_name, exp_rand],\n",
    "                         'co2_mean': [df_co2_baseline['mean'].sum(), df_co2['mean'].sum(), df_co2_rand['mean'].sum()],\n",
    "                         'co2_std': [np.sqrt(df_co2_baseline['std'].pow(2).sum()), np.sqrt(df_co2['std'].pow(2).sum()), np.sqrt(df_co2_rand['std'].pow(2).sum())],\n",
    "                         '%_wrt_baseline': [0, df_co2['mean'].sum()/df_co2_baseline['mean'].sum()*100-100, df_co2_rand['mean'].sum()/df_co2_baseline['mean'].sum()*100-100],\n",
    "                         'edges_mean': [used_edges_baseline['mean'].item(), used_edges['mean'].item(), used_edges_rand['mean'].item()],\n",
    "                         'edges_std': [used_edges_baseline['std'].item(), used_edges['std'].item(), used_edges_rand['std'].item()],\n",
    "                         'impacted_v_mean': [0, imp_veichles[0], imp_veichles_rand[0]],\n",
    "                         'impacted_v_std': [0, imp_veichles[1], imp_veichles_rand[1]],\n",
    "                         })\n",
    "df_stats.to_csv(path_results+exp_name+'_total_co2.csv', index=False)"
   ]
  },
  {
   "cell_type": "markdown",
   "id": "409b2553",
   "metadata": {},
   "source": [
    "Compute CO2 per meter of each road"
   ]
  },
  {
   "cell_type": "code",
   "execution_count": null,
   "id": "3c3c2834",
   "metadata": {},
   "outputs": [],
   "source": [
    "road_len = road_edge_map.groupby(by=['road']).sum(numeric_only=True).reset_index()"
   ]
  },
  {
   "cell_type": "code",
   "execution_count": null,
   "id": "27c66622",
   "metadata": {},
   "outputs": [],
   "source": [
    "df_co2 = pd.merge(df_co2, road_len, on=['road'])\n",
    "df_co2_rand = pd.merge(df_co2_rand, road_len, on=['road'])\n",
    "df_co2_baseline = pd.merge(df_co2_baseline, road_len, on=['road'])"
   ]
  },
  {
   "cell_type": "code",
   "execution_count": null,
   "id": "f852e8eb",
   "metadata": {},
   "outputs": [],
   "source": [
    "df_co2['mean_len'] = df_co2['mean']/df_co2['edge_len']\n",
    "df_co2['std_len'] = df_co2['std']/df_co2['edge_len']\n",
    "df_co2_rand['mean_len'] = df_co2_rand['mean']/df_co2_rand['edge_len']\n",
    "df_co2_rand['std_len'] = df_co2_rand['std']/df_co2_rand['edge_len']\n",
    "df_co2_baseline['mean_len'] = df_co2_baseline['mean']/df_co2_baseline['edge_len']\n",
    "df_co2_baseline['std_len'] = df_co2_baseline['std']/df_co2_baseline['edge_len']"
   ]
  },
  {
   "cell_type": "code",
   "execution_count": null,
   "id": "f9e0ec21",
   "metadata": {
    "scrolled": true
   },
   "outputs": [],
   "source": [
    "df_co2.sort_values(by=['mean_len', 'std_len'], ascending=False, inplace=True)"
   ]
  },
  {
   "cell_type": "code",
   "execution_count": null,
   "id": "bfd616b1",
   "metadata": {
    "scrolled": true
   },
   "outputs": [],
   "source": [
    "plt.figure(figsize=(10, 3))\n",
    "plt.bar(range(df_co2.shape[0]), df_co2['mean_len'], yerr=df_co2['std_len'])\n",
    "plt.title('CO2\\m per road '+exp_name)\n",
    "plt.xlabel('road_id')\n",
    "plt.ylabel('CO2 per meter (mg\\m)')\n",
    "plt.show()"
   ]
  },
  {
   "cell_type": "code",
   "execution_count": null,
   "id": "36d2ea5b",
   "metadata": {
    "scrolled": true
   },
   "outputs": [],
   "source": [
    "plt.figure(figsize=(10, 3))\n",
    "plt.bar(df_co2['road'].iloc[:50].apply(html.unescape), df_co2['mean_len'].iloc[:50], yerr=df_co2['std_len'].iloc[:50])\n",
    "plt.title('CO2\\m per road '+exp_name)\n",
    "plt.xlabel('roadname')\n",
    "plt.ylabel('CO2 per meter (mg\\m)')\n",
    "plt.xticks(rotation='vertical')\n",
    "plt.savefig(path_plots+'CO2_'+exp_name+'_first50.png', bbox_inches =\"tight\")\n",
    "plt.show()"
   ]
  },
  {
   "cell_type": "code",
   "execution_count": null,
   "id": "22dc185c",
   "metadata": {},
   "outputs": [],
   "source": [
    "df_co2_vs = pd.merge(df_co2, df_co2_baseline, on=['road'], suffixes=('_'+exp_name, '_'))\n",
    "df_co2_vs = pd.merge(df_co2_rand, df_co2, on=['road'], suffixes=('_'+exp_rand, '_'+exp_name))\n",
    "df_co2_vs = pd.merge(df_co2_vs, df_co2_baseline, on=['road'])"
   ]
  },
  {
   "cell_type": "code",
   "execution_count": null,
   "id": "d4c4a9b2",
   "metadata": {},
   "outputs": [],
   "source": [
    "df_co2_vs.sort_values(by=['mean_len_'+exp_name, 'std_len_'+exp_name], ascending=False, inplace=True)"
   ]
  },
  {
   "cell_type": "code",
   "execution_count": null,
   "id": "2749e323",
   "metadata": {},
   "outputs": [],
   "source": [
    "df_co2_vs2 = df_co2_vs\n",
    "df_co2_vs2['road'] = df_co2_vs2['road'].apply(html.unescape)\n",
    "df_co2_vs2.iloc[:50].plot(kind='bar', x='road', y=['mean_len_'+exp_name, 'mean_len_'+exp_rand, 'mean_len'],\n",
    "                                 title='CO2\\m '+exp_name+' vs CO2\\m '+exp_rand+' CO\\m2 baseline', ylabel='CO2 per meter (mg\\m)', \n",
    "                                 width=0.8, rot=90, figsize=(10,3))\n",
    "plt.savefig(path_plots+'CO2_comparison.png', bbox_inches =\"tight\")\n",
    "plt.show()"
   ]
  },
  {
   "attachments": {},
   "cell_type": "markdown",
   "id": "f6d52f89",
   "metadata": {},
   "source": [
    "### 2. Bland Altman plot"
   ]
  },
  {
   "cell_type": "markdown",
   "id": "9351b60d",
   "metadata": {},
   "source": [
    "Comparison of emission per road between baseline and the closure strategy."
   ]
  },
  {
   "cell_type": "code",
   "execution_count": null,
   "id": "57b6c737",
   "metadata": {},
   "outputs": [],
   "source": [
    "df_co2_vs['delta'] = df_co2_vs['mean_len_'+exp_name] - df_co2_vs['mean_len']\n",
    "df_co2_vs['delta_rand'] = df_co2_vs['mean_len_'+exp_rand] - df_co2_vs['mean_len']"
   ]
  },
  {
   "cell_type": "code",
   "execution_count": null,
   "id": "939cfcfa",
   "metadata": {},
   "outputs": [],
   "source": [
    "# compute the colormap\n",
    "norm = mpl.colors.TwoSlopeNorm(vmin=df_co2_vs['delta'].min(), vmax=df_co2_vs['delta'].max(), vcenter=0)\n",
    "cmap = plt.cm.get_cmap('seismic')\n",
    "colors = cmap(norm(df_co2_vs['delta']))"
   ]
  },
  {
   "cell_type": "code",
   "execution_count": null,
   "id": "e3fbcd46",
   "metadata": {},
   "outputs": [],
   "source": [
    "df_co2_vs = df_co2_vs.sample(frac=1)"
   ]
  },
  {
   "cell_type": "code",
   "execution_count": null,
   "id": "4931e022",
   "metadata": {
    "scrolled": false
   },
   "outputs": [],
   "source": [
    "plt.scatter(range(df_co2_vs.shape[0]), df_co2_vs['delta'], s=5, color=cmap(norm(df_co2_vs['delta'])))\n",
    "plt.axhline(0, color='black', linestyle='--')\n",
    "plt.title('CO2\\m '+exp_name+' - CO2\\m baseline')\n",
    "plt.ylabel('\\u0394 CO2 per meter (mg\\m)')\n",
    "plt.xlabel('Road_id')\n",
    "plt.savefig(path_plots+'Bland_Altman_CO2_'+exp_name+'.png', bbox_inches =\"tight\")\n",
    "plt.show()"
   ]
  },
  {
   "cell_type": "code",
   "execution_count": null,
   "id": "f98f8973",
   "metadata": {},
   "outputs": [],
   "source": [
    "# compute the colormap\n",
    "norm = mpl.colors.TwoSlopeNorm(vmin=df_co2_vs['delta_rand'].min(), vmax=df_co2_vs['delta_rand'].max(), vcenter=0)\n",
    "cmap = plt.cm.get_cmap('seismic')\n",
    "colors = cmap(norm(df_co2_vs['delta_rand']))"
   ]
  },
  {
   "cell_type": "code",
   "execution_count": null,
   "id": "219ef3d5",
   "metadata": {
    "scrolled": true
   },
   "outputs": [],
   "source": [
    "plt.scatter(range(df_co2_vs.shape[0]), df_co2_vs['delta_rand'], s=5, color=cmap(norm(df_co2_vs['delta_rand'])))\n",
    "plt.axhline(0, color='black', linestyle='--')\n",
    "plt.title('CO2\\m '+exp_rand+' - CO2\\m baseline')\n",
    "plt.ylabel('\\u0394 CO2 per meter (mg\\m)')\n",
    "plt.xlabel('Road_id')\n",
    "plt.savefig(path_plots+'Bland_Altman_CO2_'+exp_rand+'.png', bbox_inches =\"tight\")\n",
    "plt.show()"
   ]
  },
  {
   "attachments": {},
   "cell_type": "markdown",
   "id": "01629dee",
   "metadata": {},
   "source": [
    "### 3. Emission per road type"
   ]
  },
  {
   "cell_type": "markdown",
   "id": "02658913",
   "metadata": {},
   "source": [
    "Visualization of the level of CO2 emissions grouped by road type."
   ]
  },
  {
   "cell_type": "code",
   "execution_count": null,
   "id": "1c2d4db1",
   "metadata": {},
   "outputs": [],
   "source": [
    "road_network = sumolib.net.readNet(road_network_path, withInternal=False)"
   ]
  },
  {
   "cell_type": "code",
   "execution_count": null,
   "id": "842afbb2",
   "metadata": {},
   "outputs": [],
   "source": [
    "# find type for each edge\n",
    "\n",
    "edge_id = []\n",
    "types = []\n",
    "\n",
    "for edge in road_network.getEdges():\n",
    "    edge_id.append(edge.getID())\n",
    "    types.append(edge.getType())"
   ]
  },
  {
   "cell_type": "code",
   "execution_count": null,
   "id": "7a6d69ad",
   "metadata": {},
   "outputs": [],
   "source": [
    "# df edge-type\n",
    "\n",
    "df_edge_type = pd.DataFrame({'edge_id': edge_id, 'type': types})\n",
    "df_edge_type = pd.merge(df_edge_type, road_edge_map, on=['edge_id'])"
   ]
  },
  {
   "cell_type": "code",
   "execution_count": null,
   "id": "87776adc",
   "metadata": {},
   "outputs": [],
   "source": [
    "# assign to each road the most representative type by length\n",
    "\n",
    "df_group = df_edge_type.groupby(by=['road', 'type']).agg(count=('edge_len', 'count'),\n",
    "                                                         edge_len=('edge_len', 'sum')).reset_index()\n",
    "idx_max = df_group.groupby(by='road')['edge_len'].idxmax()\n",
    "road_type_map = df_group.loc[idx_max][['road', 'type']]"
   ]
  },
  {
   "cell_type": "code",
   "execution_count": null,
   "id": "4919d0e8",
   "metadata": {},
   "outputs": [],
   "source": [
    "# merge with results dataframe and cleaning\n",
    "\n",
    "df_co2_type = pd.merge(df_co2_vs, road_type_map, on=['road'], how='left')\n",
    "df_co2_type['type'].fillna('highway.unclassified', inplace=True)\n",
    "\n",
    "\n",
    "df_type_plot = df_co2_type.groupby(by=['type']).agg(road_len=('edge_len', 'sum'),\n",
    "                                                    mean=('mean', 'sum'),\n",
    "                                                    mean_top=('mean_'+exp_name, 'sum'),\n",
    "                                                    mean_rand=('mean_'+exp_rand, 'sum')).reset_index()\n",
    "df_type_plot['type'] = df_type_plot['type'].apply(lambda s: s.replace('highway.', ''))\n",
    "df_type_plot.sort_values(by=['road_len'], ascending=False, inplace=True)\n",
    "df_type_plot.reset_index(inplace=True)\n",
    "df_type_plot.drop('index', axis=1, inplace=True)"
   ]
  },
  {
   "cell_type": "code",
   "execution_count": null,
   "id": "610eb4db",
   "metadata": {},
   "outputs": [],
   "source": [
    "df_type_plot.head()"
   ]
  },
  {
   "cell_type": "code",
   "execution_count": null,
   "id": "f831df67",
   "metadata": {
    "scrolled": true
   },
   "outputs": [],
   "source": [
    "fig, ax1 = plt.subplots(figsize=(10, 3))\n",
    "ax2 = ax1.twinx()\n",
    "\n",
    "# plot\n",
    "df_type_plot['road_len'].plot(kind='bar', color='lightslategrey', ax=ax1)\n",
    "df_type_plot['mean'].plot(kind='line', color='tab:blue', marker='o', markersize=3, ax=ax2)\n",
    "df_type_plot['mean_top'].plot(kind='line', color='orange', marker='o', markersize=3, ax=ax2)\n",
    "df_type_plot['mean_rand'].plot(kind='line', color='firebrick', marker='o', markersize=3, ax=ax2)\n",
    "\n",
    "# bar ax\n",
    "ax1.bar_label(ax1.containers[0], fontsize=7)\n",
    "ax1.set_xticklabels(df_type_plot['type'], rotation=45)\n",
    "ax1.set_ylabel('Length of type (m)')\n",
    "\n",
    "# line ax\n",
    "ax2.legend(['baseline', exp_name, exp_rand])\n",
    "ax2.set_ylabel('CO2 emission (mg)')\n",
    "ax2.set_title('Emission per road type ('+exp_name+')')\n",
    "\n",
    "plt.savefig(path_plots+'CO2_road_type_'+exp_name+'.png', bbox_inches =\"tight\")\n",
    "plt.show()"
   ]
  },
  {
   "attachments": {},
   "cell_type": "markdown",
   "id": "5828abaf",
   "metadata": {},
   "source": [
    "### 4. Gini index CO2 per road"
   ]
  },
  {
   "cell_type": "code",
   "execution_count": null,
   "id": "82a779bc",
   "metadata": {},
   "outputs": [],
   "source": [
    "def gini(array):\n",
    "    \"\"\"Gini coefficient for array >= 0. Faster than the standard Gini\"\"\"\n",
    "    array.sort()\n",
    "    # values can't be zero\n",
    "    array = array + 0.0000001\n",
    "    index = np.array(np.arange(1, array.shape[0]+1))\n",
    "    n = array.shape[0]\n",
    "    return (np.sum((2 * index - n  - 1) * array)) / (n * np.sum(array))"
   ]
  },
  {
   "cell_type": "code",
   "execution_count": null,
   "id": "994cd280",
   "metadata": {},
   "outputs": [],
   "source": [
    "def gini_coefficient(x):\n",
    "    \"\"\"Compute Gini coefficient of array of values\"\"\"\n",
    "    diffsum = 0\n",
    "    for i, xi in enumerate(x[:-1], 1):\n",
    "        diffsum += np.sum(np.abs(xi - x[i:]))\n",
    "    return diffsum / (len(x)**2 * np.mean(x))"
   ]
  },
  {
   "cell_type": "code",
   "execution_count": null,
   "id": "9c3bec88",
   "metadata": {},
   "outputs": [],
   "source": [
    "def create_dict_gini(dict_exps, folder_experiments, main_experiment_name, gini_of):\n",
    "    dict_gini = {}\n",
    "    for exp_id, exp_folder_name in dict_exps[main_experiment_name].items():\n",
    "        exp_df = pd.read_csv(folder_experiments+exp_folder_name+\"/road_measures.csv\")\n",
    "        gini_array = np.array(exp_df[gini_of])\n",
    "        dict_gini[exp_id] = gini(gini_array)\n",
    "    return dict_gini"
   ]
  },
  {
   "cell_type": "code",
   "execution_count": null,
   "id": "7da27d54",
   "metadata": {},
   "outputs": [],
   "source": [
    "def create_dict_gini_rand(dict_exps, folder_experiments, gini_of):\n",
    "    dict_gini = {}\n",
    "    for exp_id, exp_dict in dict_exps.items():\n",
    "        for n_exp, exp_name in exp_dict.items():\n",
    "            exp_df = pd.read_csv(folder_experiments+exp_name+\"/road_measures.csv\")\n",
    "            gini_array = np.array(exp_df[gini_of])\n",
    "            dict_gini[exp_id+'_'+n_exp] = gini(gini_array)\n",
    "    return dict_gini"
   ]
  },
  {
   "cell_type": "code",
   "execution_count": null,
   "id": "e5048d6a",
   "metadata": {},
   "outputs": [],
   "source": [
    "dict_gini_co2 = create_dict_gini(dict_exps, folder_experiments, exp_name, 'total_co2')\n",
    "dict_gini_co2_baseline = create_dict_gini(dict_baseline, folder_baseline, 'baseline', 'total_co2')\n",
    "dict_gini_co2_rand = create_dict_gini_rand(dict_rand, folder_experiments_rand, 'total_co2')\n",
    "\n",
    "with open(path_results+'co2_gini.json', 'w') as fp:\n",
    "    json.dump(dict_gini_co2, fp)\n",
    "with open(path_results+'co2_gini_rand.json', 'w') as fp:\n",
    "    json.dump(dict_gini_co2_rand, fp)"
   ]
  },
  {
   "cell_type": "code",
   "execution_count": null,
   "id": "3a13106e",
   "metadata": {},
   "outputs": [],
   "source": [
    "gini_co2 = np.array(list(dict_gini_co2.values()))\n",
    "gini_baseline = np.array(list(dict_gini_co2_baseline.values()))\n",
    "gini_co2_rand = np.array(list(dict_gini_co2_rand.values()))\n",
    "\n",
    "print('Gini coefficient CO2 {} mean: {:.5} \\u00B1 {:.3}'.format(exp_name, gini_co2.mean(), gini_co2.std()))\n",
    "print('Gini coefficient CO2 {} mean: {:.5} \\u00B1 {:.3}'.format(exp_rand, gini_co2_rand.mean(), gini_co2_rand.std()))\n",
    "print('Gini coefficient CO2 baseline mean: {:.5} \\u00B1 {:.3}'.format(gini_baseline.mean(), gini_baseline.std()))"
   ]
  },
  {
   "cell_type": "code",
   "execution_count": null,
   "id": "f1eedc2c",
   "metadata": {},
   "outputs": [],
   "source": [
    "# save stats\n",
    "\n",
    "df_gini = pd.DataFrame({'experiment': ['baseline', exp_name, exp_rand],\n",
    "                        'gini_co2_mean': [gini_baseline.mean(), gini_co2.mean(), gini_co2_rand.mean()],\n",
    "                        'gini_co2_std': [gini_baseline.std(), gini_co2.std(), gini_co2_rand.std()]})\n",
    "df_stats.to_csv(path_results+exp_name+'_gini_co2.csv', index=False)"
   ]
  },
  {
   "attachments": {},
   "cell_type": "markdown",
   "id": "852dfa3d",
   "metadata": {},
   "source": [
    "### 5. CO2 plot OSMnx"
   ]
  },
  {
   "cell_type": "markdown",
   "id": "72d2b7c4",
   "metadata": {},
   "source": [
    "Visualization on map of the results obtained by the closure strategy, compared with the baseline"
   ]
  },
  {
   "cell_type": "code",
   "execution_count": null,
   "id": "f9775f01",
   "metadata": {},
   "outputs": [],
   "source": [
    "road_network = sumolib.net.readNet(road_network_path, withInternal=False)"
   ]
  },
  {
   "cell_type": "code",
   "execution_count": null,
   "id": "e00c3fad",
   "metadata": {},
   "outputs": [],
   "source": [
    "len(road_network.getEdges())"
   ]
  },
  {
   "cell_type": "code",
   "execution_count": null,
   "id": "2ac297dd",
   "metadata": {},
   "outputs": [],
   "source": [
    "G = nx.MultiDiGraph()\n",
    "\n",
    "for edge in road_network.getEdges():\n",
    "    node_from = edge.getFromNode().getID()\n",
    "    node_to = edge.getToNode().getID()\n",
    "    geom = [list(x) for x in edge.getShape()]\n",
    "    G.add_edge(node_from, node_to, key=edge.getID(), length=edge.getLength(), geometry=LineString(geom))\n",
    "    \n",
    "G.graph.update({'crs': 'epsg:3857'})"
   ]
  },
  {
   "cell_type": "code",
   "execution_count": null,
   "id": "f72bbeab",
   "metadata": {},
   "outputs": [],
   "source": [
    "#ox.plot.plot_graph(G, node_size=0, bgcolor='white', edge_color='lightgrey', edge_linewidth=0.5, figsize=(8,8), dpi=500)"
   ]
  },
  {
   "cell_type": "code",
   "execution_count": null,
   "id": "21ee026f",
   "metadata": {},
   "outputs": [],
   "source": [
    "def plot_df(df_exps, road_edge_map, road_net):\n",
    "    road_edge_map_no_intern = road_edge_map[~road_edge_map['edge_id'].astype(str).str.startswith(':')]\n",
    "    road_edge_mean_map = pd.merge(road_edge_map_no_intern, df_exps, on=['road'])\n",
    "    \n",
    "    # create column with tuple of edges of the graph (u,v,key)\n",
    "    edge_graph_list = []\n",
    "    for edge in road_edge_mean_map['edge_id']:\n",
    "        from_node = road_net.getEdge(edge).getFromNode().getID()\n",
    "        to_node = road_net.getEdge(edge).getToNode().getID()\n",
    "        edge_graph_list.append((from_node, to_node, edge))\n",
    "        \n",
    "    road_edge_mean_map['edge_graph'] = edge_graph_list\n",
    "    \n",
    "    return road_edge_mean_map"
   ]
  },
  {
   "cell_type": "code",
   "execution_count": null,
   "id": "2b5170ce",
   "metadata": {},
   "outputs": [],
   "source": [
    "df_co2_plot = plot_df(df_co2_vs, road_edge_map, road_network)"
   ]
  },
  {
   "cell_type": "code",
   "execution_count": null,
   "id": "726d7429",
   "metadata": {},
   "outputs": [],
   "source": [
    "# exclude removed roads from divergent colormap\n",
    "df_co2_plot.loc[df_co2_plot['edge_id'].isin(removed_edges), 'delta'] = 0"
   ]
  },
  {
   "cell_type": "code",
   "execution_count": null,
   "id": "30847a38",
   "metadata": {},
   "outputs": [],
   "source": [
    "def add_attribute_to_graph(graph, df_plot, attr_name, plot_col):\n",
    "    # edge[0] = node_from, edge[1] = node_to, edge[2] = key = edge_id \n",
    "    \n",
    "    # Initialize co2 attribute in the graph\n",
    "    for edge in graph.edges:\n",
    "        G[edge[0]][edge[1]][edge[2]][attr_name] = None\n",
    "        \n",
    "    # Set co2 attribute based on some value per road\n",
    "    for edge, value in zip(df_plot['edge_graph'], df_plot[plot_col]):\n",
    "        graph[edge[0]][edge[1]][edge[2]][attr_name] = value"
   ]
  },
  {
   "cell_type": "code",
   "execution_count": null,
   "id": "40ed6425",
   "metadata": {},
   "outputs": [],
   "source": [
    "add_attribute_to_graph(G, df_co2_plot, 'co2_'+exp_name, 'mean_'+exp_name)\n",
    "add_attribute_to_graph(G, df_co2_plot, 'co2_'+exp_rand, 'mean_'+exp_rand)\n",
    "add_attribute_to_graph(G, df_co2_plot, 'co2_len_'+exp_name, 'mean_len_'+exp_name)\n",
    "add_attribute_to_graph(G, df_co2_plot, 'co2_len_'+exp_rand, 'mean_len_'+exp_rand)\n",
    "add_attribute_to_graph(G, df_co2_plot, 'delta_co2_'+exp_name, 'delta')\n",
    "add_attribute_to_graph(G, df_co2_plot, 'delta_co2_'+exp_rand, 'delta_rand')"
   ]
  },
  {
   "cell_type": "code",
   "execution_count": null,
   "id": "f2ee8456",
   "metadata": {},
   "outputs": [],
   "source": [
    "# colormap osmnx\n",
    "ec_co2 = ox.plot.get_edge_colors_by_attr(G, attr='co2_'+exp_name, cmap='inferno_r', na_color='white')\n",
    "ec_co2_rand = ox.plot.get_edge_colors_by_attr(G, attr='co2_'+exp_rand, cmap='inferno_r', na_color='white')\n",
    "ec_co2_len = ox.plot.get_edge_colors_by_attr(G, attr='co2_len_'+exp_name, cmap='inferno_r', na_color='white')\n",
    "ec_co2_len_rand = ox.plot.get_edge_colors_by_attr(G, attr='co2_len_'+exp_rand, cmap='inferno_r', na_color='white')\n",
    "ec_delta = ox.plot.get_edge_colors_by_attr(G, attr='delta_co2_'+exp_name, cmap='RdYlGn_r', na_color='lightyellow')\n",
    "ec_delta_rand = ox.plot.get_edge_colors_by_attr(G, attr='delta_co2_'+exp_rand, cmap='RdYlGn_r', na_color='lightyellow')"
   ]
  },
  {
   "cell_type": "code",
   "execution_count": null,
   "id": "83a3a305",
   "metadata": {},
   "outputs": [],
   "source": [
    "# Remap osmnx colormap to get divergent colormap centered in 0\n",
    "norm = mpl.colors.TwoSlopeNorm(vmin=df_co2_plot['delta'].min(),\n",
    "                               vmax=df_co2_plot['delta'].max(),\n",
    "                               vcenter=0)\n",
    "cmap = plt.cm.get_cmap('RdYlGn_r')\n",
    "\n",
    "for k,v in ec_delta.items():\n",
    "    if v != 'lightyellow':\n",
    "        ec_delta[k] = tuple(cmap(norm(df_co2_plot[df_co2_plot['edge_graph']==k]['delta']))[0])"
   ]
  },
  {
   "cell_type": "code",
   "execution_count": null,
   "id": "ff42a6ca",
   "metadata": {},
   "outputs": [],
   "source": [
    "# Remap osmnx colormap to get divergent colormap centered in 0\n",
    "norm = mpl.colors.TwoSlopeNorm(vmin=df_co2_plot['delta_rand'].min(),\n",
    "                               vmax=df_co2_plot['delta_rand'].max(),\n",
    "                               vcenter=0)\n",
    "cmap = plt.cm.get_cmap('RdYlGn_r')\n",
    "\n",
    "for k,v in ec_delta_rand.items():\n",
    "    if v != 'lightyellow':\n",
    "        ec_delta_rand[k] = tuple(cmap(norm(df_co2_plot[df_co2_plot['edge_graph']==k]['delta_rand']))[0])"
   ]
  },
  {
   "cell_type": "code",
   "execution_count": null,
   "id": "e8aeead8",
   "metadata": {},
   "outputs": [],
   "source": [
    "# Set color of removed edges\n",
    "for edge in removed_edges:\n",
    "    if not edge.startswith(':'):\n",
    "        edge_osm = df_co2_plot[df_co2_plot['edge_id']==edge]['edge_graph']\n",
    "        ec_co2[edge_osm] = 'royalblue'\n",
    "        ec_co2_len[edge_osm] = 'royalblue'\n",
    "        ec_delta[edge_osm] = 'black'"
   ]
  },
  {
   "cell_type": "code",
   "execution_count": null,
   "id": "78d4802a",
   "metadata": {},
   "outputs": [],
   "source": [
    "# Set color of removed edges\n",
    "#for edge in removed_edges_rand:\n",
    "#    if not edge.startswith(':'):\n",
    "#        edge_osm = df_co2_plot[df_co2_plot['edge_id']==edge]['edge_osmnx']\n",
    "#        ec_co2_rand[edge_osm] = 'black'\n",
    "#        ec_co2_len_rand[edge_osm] = 'black'\n",
    "#        ec_delta_rand[edge_osm] = 'black'"
   ]
  },
  {
   "cell_type": "markdown",
   "id": "de2c4643",
   "metadata": {},
   "source": [
    "Overall CO2 emissions for top and random experiment"
   ]
  },
  {
   "cell_type": "code",
   "execution_count": null,
   "id": "62b1109c",
   "metadata": {
    "scrolled": true
   },
   "outputs": [],
   "source": [
    "fig, ax = ox.plot_graph(G, bgcolor='lightgrey', node_size=0, edge_linewidth=1, edge_color=ec_co2, show=False)\n",
    "\n",
    "# colorbar\n",
    "norm = mpl.colors.Normalize(vmin=min(v for v in nx.get_edge_attributes(G, 'co2_'+exp_name).values() if v is not None),\n",
    "                            vmax=max(v for v in nx.get_edge_attributes(G, 'co2_'+exp_name).values() if v is not None))\n",
    "cbar = fig.colorbar(plt.cm.ScalarMappable(norm=norm, cmap='inferno_r'), ax=ax, shrink=0.5)\n",
    "cbar.set_label('CO2 (mg)')\n",
    "\n",
    "plt.title('CO2 emission per road '+exp_name)\n",
    "plt.savefig(path_plots+'OSMnx_CO2_'+exp_name+'.png', bbox_inches =\"tight\")\n",
    "plt.show()"
   ]
  },
  {
   "cell_type": "code",
   "execution_count": null,
   "id": "08f9ba4d",
   "metadata": {},
   "outputs": [],
   "source": [
    "fig, ax = ox.plot_graph(G, bgcolor='lightgrey', node_size=0, edge_linewidth=1, edge_color=ec_co2_rand, show=False)\n",
    "\n",
    "# colorbar\n",
    "norm = mpl.colors.Normalize(vmin=min(v for v in nx.get_edge_attributes(G, 'co2_'+exp_rand).values() if v is not None),\n",
    "                            vmax=max(v for v in nx.get_edge_attributes(G, 'co2_'+exp_rand).values() if v is not None))\n",
    "cbar = fig.colorbar(plt.cm.ScalarMappable(norm=norm, cmap='inferno_r'), ax=ax, shrink=0.5)\n",
    "cbar.set_label('CO2 (mg)')\n",
    "\n",
    "plt.title('CO2 emission per road '+exp_rand)\n",
    "plt.savefig(path_plots+'OSMnx_CO2_'+exp_rand+'.png', bbox_inches =\"tight\")\n",
    "plt.show()"
   ]
  },
  {
   "cell_type": "markdown",
   "id": "af8b1d56",
   "metadata": {},
   "source": [
    "CO2 per meter for top and random experiment"
   ]
  },
  {
   "cell_type": "code",
   "execution_count": null,
   "id": "ed366cb8",
   "metadata": {
    "scrolled": false
   },
   "outputs": [],
   "source": [
    "fig, ax = ox.plot_graph(G, bgcolor='lightgrey', node_size=0, edge_linewidth=1, edge_color=ec_co2_len, show=False)\n",
    "\n",
    "# colorbar\n",
    "norm = mpl.colors.Normalize(vmin=min(v for v in nx.get_edge_attributes(G, 'co2_len_'+exp_name).values() if v is not None),\n",
    "                            vmax=max(v for v in nx.get_edge_attributes(G, 'co2_len_'+exp_name).values() if v is not None))\n",
    "cbar = fig.colorbar(plt.cm.ScalarMappable(norm=norm, cmap='inferno_r'), ax=ax, shrink=0.5)\n",
    "cbar.set_label('CO2 per meter (mg\\m)')\n",
    "\n",
    "plt.title('CO2\\m emission per road '+exp_name)\n",
    "plt.savefig(path_plots+'OSMnx_CO2_len_'+exp_name+'.png', bbox_inches =\"tight\")\n",
    "plt.show()"
   ]
  },
  {
   "cell_type": "code",
   "execution_count": null,
   "id": "4b9f5e91",
   "metadata": {
    "scrolled": true
   },
   "outputs": [],
   "source": [
    "fig, ax = ox.plot_graph(G, bgcolor='lightgrey', node_size=0, edge_linewidth=1, edge_color=ec_co2_len_rand, show=False)\n",
    "\n",
    "# colorbar\n",
    "norm = mpl.colors.Normalize(vmin=min(v for v in nx.get_edge_attributes(G, 'co2_len_'+exp_rand).values() if v is not None),\n",
    "                            vmax=max(v for v in nx.get_edge_attributes(G, 'co2_len_'+exp_rand).values() if v is not None))\n",
    "cbar = fig.colorbar(plt.cm.ScalarMappable(norm=norm, cmap='inferno_r'), ax=ax, shrink=0.5)\n",
    "cbar.set_label('CO2 per meter (mg\\m)')\n",
    "\n",
    "plt.title('CO2\\m emission per road '+exp_rand)\n",
    "plt.savefig(path_plots+'OSMnx_CO2_len_'+exp_rand+'.png', bbox_inches =\"tight\")\n",
    "plt.show()"
   ]
  },
  {
   "cell_type": "markdown",
   "id": "a6ed0d0f",
   "metadata": {},
   "source": [
    "CO2 per meter emission wrt the baseline for top and random experiment"
   ]
  },
  {
   "cell_type": "code",
   "execution_count": null,
   "id": "edfdc166",
   "metadata": {
    "scrolled": false
   },
   "outputs": [],
   "source": [
    "fig, ax = ox.plot_graph(G, bgcolor='lightgrey', node_size=0, edge_linewidth=1, edge_color=ec_delta, show=False)\n",
    "\n",
    "# colorbar\n",
    "norm = mpl.colors.TwoSlopeNorm(vmin=min(v for v in nx.get_edge_attributes(G, 'delta_co2_'+exp_name).values() if v is not None),\n",
    "                               vmax=max(v for v in nx.get_edge_attributes(G, 'delta_co2_'+exp_name).values() if v is not None),\n",
    "                               vcenter=0)\n",
    "cbar = fig.colorbar(plt.cm.ScalarMappable(norm=norm, cmap='RdYlGn_r'), ax=ax, shrink=0.5)\n",
    "cbar.set_label('\\u0394 CO2 per meter (mg\\m)')\n",
    "\n",
    "plt.title('CO2\\m emission per road '+exp_name+' - CO2\\m emission baseline')\n",
    "plt.savefig(path_plots+'OSMnx_delta_CO2_'+exp_name+'.png', bbox_inches =\"tight\")\n",
    "plt.show()"
   ]
  },
  {
   "cell_type": "code",
   "execution_count": null,
   "id": "f6d6efb4",
   "metadata": {},
   "outputs": [],
   "source": [
    "fig, ax = ox.plot_graph(G, bgcolor='lightgrey', node_size=0, edge_linewidth=1, edge_color=ec_delta_rand, show=False)\n",
    "\n",
    "# colorbar\n",
    "norm = mpl.colors.TwoSlopeNorm(vmin=min(v for v in nx.get_edge_attributes(G, 'delta_co2_'+exp_rand).values() if v is not None),\n",
    "                                vmax=max(v for v in nx.get_edge_attributes(G, 'delta_co2_'+exp_rand).values() if v is not None),\n",
    "                                vcenter=0)\n",
    "cbar = fig.colorbar(plt.cm.ScalarMappable(norm=norm, cmap='RdYlGn_r'), ax=ax, shrink=0.5)\n",
    "cbar.set_label('\\u0394 CO2 per meter (mg\\m)')\n",
    "\n",
    "plt.title('CO2\\m emission per road '+exp_rand+' - CO2\\m emission baseline')\n",
    "plt.savefig(path_plots+'OSMnx_delta_CO2_'+exp_rand+'.png', bbox_inches =\"tight\")\n",
    "plt.show()"
   ]
  },
  {
   "attachments": {},
   "cell_type": "markdown",
   "id": "d198a18f",
   "metadata": {},
   "source": [
    "### 6. CO2 plot folium"
   ]
  },
  {
   "cell_type": "code",
   "execution_count": null,
   "id": "d387fac1",
   "metadata": {},
   "outputs": [],
   "source": [
    "# generate a dataframe to plot a sumo network in folium\n",
    "# df_exp: dataframe with roadname, mean, std\n",
    "# road_edge_map: dataframe with map roadname - sumo edge_id\n",
    "# value_of_cmap: column values to use for the colormap\n",
    "# cmap_name: name of the colormap\n",
    "\n",
    "def plot_df_folium(df_exp, road_net, road_edge_map, value_of_cmap, cmap_name, divergent=False):\n",
    "    # merge roadname - edge_id with values to plot\n",
    "    road_edge_map_no_intern = road_edge_map[~road_edge_map['edge_id'].astype(str).str.startswith(':')]\n",
    "    df = pd.merge(road_edge_map_no_intern, df_exp, on=['road'])\n",
    "    \n",
    "    # compute the colormap\n",
    "    if divergent:\n",
    "        norm = mpl.colors.TwoSlopeNorm(vmin=df[value_of_cmap].min(),\n",
    "                                    vmax=df[value_of_cmap].max(),\n",
    "                                    vcenter=0)\n",
    "    else:\n",
    "        norm = mpl.colors.Normalize(vmin=df[value_of_cmap].min(),\n",
    "                                    vmax=df[value_of_cmap].max())\n",
    "    cmap = plt.cm.get_cmap(cmap_name)\n",
    "    colors = cmap(norm(df[value_of_cmap]))\n",
    "    colors = [mpl.colors.to_hex(c, keep_alpha=True) for c in colors]\n",
    "    \n",
    "    # compute the edge lonlat to be plotted in folium\n",
    "    list_from = []\n",
    "    list_to = []\n",
    "\n",
    "    for edge in df['edge_id']:\n",
    "        # Compute lat and lon, from and to, for each edge\n",
    "        coord_node_from = road_net.getEdge(edge).getFromNode().getCoord()\n",
    "        coord_node_to = road_net.getEdge(edge).getToNode().getCoord()\n",
    "        lon_from, lat_from = road_net.convertXY2LonLat(coord_node_from[0], coord_node_from[1])\n",
    "        lon_to, lat_to = road_net.convertXY2LonLat(coord_node_to[0], coord_node_to[1])\n",
    "\n",
    "        list_from.append((lat_from, lon_from))\n",
    "        list_to.append((lat_to, lon_to))\n",
    "        \n",
    "    # update the dataframe\n",
    "    df['from'] = list_from\n",
    "    df['to'] = list_to\n",
    "    df['color'] = colors\n",
    "    \n",
    "    return df"
   ]
  },
  {
   "cell_type": "code",
   "execution_count": null,
   "id": "98aa3247",
   "metadata": {},
   "outputs": [],
   "source": [
    "#df_plot_co2 = plot_df_folium(df_co2, road_network, road_edge_map, 'mean_len', 'inferno_r')\n",
    "#df_plot_co2_rand = plot_df_folium(df_co2_rand, road_network, road_edge_map, 'mean_len', 'inferno_r')\n",
    "#df_plot_delta_co2 = plot_df_folium(df_co2_vs, road_network, road_edge_map, 'delta', 'RdYlGn_r', divergent=True)\n",
    "#df_plot_delta_co2_rand = plot_df_folium(df_co2_vs, road_network, road_edge_map, 'delta_rand', 'RdYlGn_r', divergent=True)"
   ]
  },
  {
   "attachments": {},
   "cell_type": "markdown",
   "id": "202f7914",
   "metadata": {},
   "source": [
    "#### Experiment"
   ]
  },
  {
   "cell_type": "code",
   "execution_count": null,
   "id": "6f7c94dc",
   "metadata": {},
   "outputs": [],
   "source": [
    "#m = folium.Map(location=[45.469262, 9.182007],\n",
    "#               tiles='CartoDB Positron',\n",
    "#               zoom_start=12,\n",
    "#               attr='CartoDB')\n",
    "               #png_enabled=True)"
   ]
  },
  {
   "cell_type": "code",
   "execution_count": null,
   "id": "4dcc974d",
   "metadata": {},
   "outputs": [],
   "source": [
    "#for index, row in df_plot_co2.iterrows():\n",
    "#    if row['edge_id'] in removed_edges:\n",
    "#        folium.PolyLine([row['from'], row['to']],\n",
    "#                         tooltip=row['road']+' - CO2_m: {:.3e}'.format(row['mean_len']),\n",
    "#                         color='black', weight=1, dashArray='5').add_to(m)\n",
    "#    else:\n",
    "#        folium.PolyLine([row['from'], row['to']],\n",
    "#                         tooltip=row['road']+' - CO2_m: {:.3e}'.format(row['mean_len']),\n",
    "#                         color=row['color'], weight=1.5).add_to(m)"
   ]
  },
  {
   "cell_type": "code",
   "execution_count": null,
   "id": "dd70ead3",
   "metadata": {},
   "outputs": [],
   "source": [
    "#m"
   ]
  },
  {
   "cell_type": "code",
   "execution_count": null,
   "id": "fe6ae187",
   "metadata": {},
   "outputs": [],
   "source": [
    "# Export map as html\n",
    "#m.save(path_plots+'folium_map_CO2_'+exp_name+'.html')"
   ]
  },
  {
   "cell_type": "code",
   "execution_count": null,
   "id": "e12afe53",
   "metadata": {},
   "outputs": [],
   "source": [
    "# Export map as png\n",
    "\n",
    "#import io\n",
    "#from PIL import Image\n",
    "\n",
    "#img_data = m._to_png(5)\n",
    "#img = Image.open(io.BytesIO(img_data))\n",
    "#img.save(path_plots+'folium_map_CO2.png')"
   ]
  },
  {
   "attachments": {},
   "cell_type": "markdown",
   "id": "a49dfe71",
   "metadata": {},
   "source": [
    "#### Random experiment"
   ]
  },
  {
   "cell_type": "code",
   "execution_count": null,
   "id": "cf35b6a3",
   "metadata": {},
   "outputs": [],
   "source": [
    "#m = folium.Map(location=[45.469262, 9.182007],\n",
    "#               tiles='CartoDB Positron',\n",
    "#               zoom_start=12,\n",
    "#               attr='CartoDB')\n",
    "               #png_enabled=True)"
   ]
  },
  {
   "cell_type": "code",
   "execution_count": null,
   "id": "8b4aef65",
   "metadata": {},
   "outputs": [],
   "source": [
    "#for index, row in df_plot_co2_rand.iterrows():\n",
    "    #if row['edge_id'] in removed_edges_rand:\n",
    "    #    folium.PolyLine([row['from'], row['to']],\n",
    "    #                     tooltip=row['road']+' - CO2_m: {:.3e}'.format(row['mean_len']),\n",
    "    #                     color='black', weight=1, dashArray='5').add_to(m)\n",
    "    #else:\n",
    "#    folium.PolyLine([row['from'], row['to']],\n",
    "#                     tooltip=row['road']+' - CO2_m: {:.3e}'.format(row['mean_len']),\n",
    "#                     color=row['color'], weight=1.5).add_to(m)"
   ]
  },
  {
   "cell_type": "code",
   "execution_count": null,
   "id": "bf038f9c",
   "metadata": {
    "scrolled": true
   },
   "outputs": [],
   "source": [
    "#m"
   ]
  },
  {
   "cell_type": "code",
   "execution_count": null,
   "id": "57a17695",
   "metadata": {},
   "outputs": [],
   "source": [
    "# Export map as html\n",
    "#m.save(path_plots+'folium_map_CO2_'+exp_rand+'.html')"
   ]
  },
  {
   "attachments": {},
   "cell_type": "markdown",
   "id": "45203696",
   "metadata": {},
   "source": [
    "#### Delta experiment"
   ]
  },
  {
   "cell_type": "code",
   "execution_count": null,
   "id": "c24de5de",
   "metadata": {},
   "outputs": [],
   "source": [
    "#m = folium.Map(location=[45.469262, 9.182007],\n",
    "#               tiles='CartoDB Positron',\n",
    "#               zoom_start=12,\n",
    "#               attr='CartoDB')\n",
    "               #png_enabled=True)"
   ]
  },
  {
   "cell_type": "code",
   "execution_count": null,
   "id": "5bfb1544",
   "metadata": {},
   "outputs": [],
   "source": [
    "#for index, row in df_plot_delta_co2.iterrows():\n",
    "#    if row['edge_id'] in removed_edges:\n",
    "#        folium.PolyLine([row['from'], row['to']],\n",
    "#                         tooltip=row['road']+' - \\u0394 CO2_m: {:.3e}'.format(row['delta']),\n",
    "#                         color='black', weight=1, dashArray='5').add_to(m)\n",
    "#    else:\n",
    "#        folium.PolyLine([row['from'], row['to']],\n",
    "#                         tooltip=row['road']+' - \\u0394 CO2_m: {:.3e}'.format(row['delta']),\n",
    "#                         color=row['color'], weight=1.5).add_to(m)"
   ]
  },
  {
   "cell_type": "code",
   "execution_count": null,
   "id": "d614bd72",
   "metadata": {
    "scrolled": true
   },
   "outputs": [],
   "source": [
    "#m"
   ]
  },
  {
   "cell_type": "code",
   "execution_count": null,
   "id": "8f7068fe",
   "metadata": {},
   "outputs": [],
   "source": [
    "# Export map as html\n",
    "#m.save(path_plots+'folium_map_delta_CO2_'+exp_name+'.html')"
   ]
  },
  {
   "attachments": {},
   "cell_type": "markdown",
   "id": "184e8230",
   "metadata": {},
   "source": [
    "#### Delta experiment rand"
   ]
  },
  {
   "cell_type": "code",
   "execution_count": null,
   "id": "18efaefd",
   "metadata": {},
   "outputs": [],
   "source": [
    "#m = folium.Map(location=[45.469262, 9.182007],\n",
    "#               tiles='CartoDB Positron',\n",
    "#               zoom_start=12,\n",
    "#               attr='CartoDB')\n",
    "               #png_enabled=True)"
   ]
  },
  {
   "cell_type": "code",
   "execution_count": null,
   "id": "4ab72d08",
   "metadata": {},
   "outputs": [],
   "source": [
    "#for index, row in df_plot_delta_co2_rand.iterrows():\n",
    "    #if row['edge_id'] in removed_edges_rand:\n",
    "    #    folium.PolyLine([row['from'], row['to']],\n",
    "    #                     tooltip=row['road']+' - \\u0394 CO2_m: {:.3e}'.format(row['delta_rand']),\n",
    "    #                     color='black', weight=1, dashArray='5').add_to(m)\n",
    "    #else:\n",
    "#    folium.PolyLine([row['from'], row['to']],\n",
    "#                     tooltip=row['road']+' - \\u0394 CO2_m: {:.3e}'.format(row['delta_rand']),\n",
    "#                     color=row['color'], weight=1.5).add_to(m)"
   ]
  },
  {
   "cell_type": "code",
   "execution_count": null,
   "id": "9080d2c8",
   "metadata": {
    "scrolled": true
   },
   "outputs": [],
   "source": [
    "#m"
   ]
  },
  {
   "cell_type": "code",
   "execution_count": null,
   "id": "7ad16886",
   "metadata": {},
   "outputs": [],
   "source": [
    "# Export map as html\n",
    "#m.save(path_plots+'folium_map_delta_CO2_'+exp_rand+'.html')"
   ]
  },
  {
   "cell_type": "code",
   "execution_count": null,
   "id": "98e7cee2",
   "metadata": {},
   "outputs": [],
   "source": []
  }
 ],
 "metadata": {
  "kernelspec": {
   "display_name": "Python 3 (ipykernel)",
   "language": "python",
   "name": "python3"
  },
  "language_info": {
   "codemirror_mode": {
    "name": "ipython",
    "version": 3
   },
   "file_extension": ".py",
   "mimetype": "text/x-python",
   "name": "python",
   "nbconvert_exporter": "python",
   "pygments_lexer": "ipython3",
   "version": "3.11.0"
  }
 },
 "nbformat": 4,
 "nbformat_minor": 5
}

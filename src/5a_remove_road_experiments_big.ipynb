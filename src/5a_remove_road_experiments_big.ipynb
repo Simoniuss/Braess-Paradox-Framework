{
 "cells": [
  {
   "attachments": {},
   "cell_type": "markdown",
   "id": "97af3ce5",
   "metadata": {},
   "source": [
    "# Framework for closure strategies"
   ]
  },
  {
   "attachments": {},
   "cell_type": "markdown",
   "id": "d6d21b48",
   "metadata": {},
   "source": [
    "Execute the entire framework from the beginning simulating the clsoure stragegy on the road network."
   ]
  },
  {
   "cell_type": "code",
   "execution_count": null,
   "id": "a2a4ef3f",
   "metadata": {},
   "outputs": [],
   "source": [
    "import sumolib\n",
    "import pandas as pd\n",
    "import numpy as np\n",
    "from ast import literal_eval\n",
    "import json\n",
    "from utils import *\n",
    "import shutil\n",
    "from tqdm.auto import tqdm\n",
    "import os\n",
    "import glob\n",
    "from pathlib import Path\n",
    "import traci\n",
    "import xml.etree.ElementTree\n",
    "\n",
    "import warnings\n",
    "warnings.filterwarnings(\"ignore\")"
   ]
  },
  {
   "attachments": {},
   "cell_type": "markdown",
   "id": "9e03f405",
   "metadata": {},
   "source": [
    "#### parameters"
   ]
  },
  {
   "cell_type": "code",
   "execution_count": null,
   "id": "bf411694",
   "metadata": {},
   "outputs": [],
   "source": [
    "city='Milano_big'\n",
    "k = '1'\n",
    "exp_name = 'HE_top%s'%k\n",
    "\n",
    "## ROAD NET\n",
    "# road network path\n",
    "road_network_path = \"../data/road_net/%s/%s_road_network.net.xml\"%(city,city)\n",
    "\n",
    "# top road to remove csv\n",
    "path_road_to_remove = '../data/simulations/%s/%s/%s_road_%s.csv'%(city,exp_name,city,exp_name)\n",
    "\n",
    "# rand road to remove csv\n",
    "path_rand_road_to_remove = '../data/simulations/%s/%s/rand/*.csv'%(city,exp_name)\n",
    "\n",
    "# road_edge_mapping\n",
    "path_road_edge_mapping = '../data/road_net/%s/%s_road_edge_map.csv'%(city,city)\n",
    "\n",
    "# new road network path\n",
    "road_network_removed_path = '../data/road_net/%s/%s_road_network_%s.net.xml'%(city,city,exp_name)\n",
    "\n",
    "# new random road network prefix\n",
    "rand_road_network_removed_prefix = '../data/road_net/%s/%s_road_network_rand%s'%(city,city,k)\n",
    "\n",
    "# road net for sumocfg\n",
    "road_network_sumocfg_path = '../data/simulations/%s_road_network.net.xml'%city\n",
    "\n",
    "\n",
    "## MOBILITY DEMAND\n",
    "\n",
    "# dict tile-edges path\n",
    "dict_tile_edges_path = \"../data/OD_matrices/%s_tile_edges_h3_8.json\"%city\n",
    "\n",
    "# dict mobility demand filename\n",
    "dict_mobility_demand_path = \"../data/mobility_demand/%s/Milano_big_MD_30k_vehicle_trip.json\"%city\n",
    "\n",
    "# .rou.xml mobility demand\n",
    "mobility_demand_path = \"../data/mobility_demand/%s/Milano_big_MD_30k.rou.xml\"%city\n",
    "\n",
    "# new dict mobility demand filename\n",
    "new_dict_mobility_demand_path = \"../data/mobility_demand/%s/Milano_big_MD_30k_vehicle_trip_%s.json\"%(city,exp_name)\n",
    "\n",
    "# new .rou.xml mobility demand\n",
    "new_mobility_demand_path = \"../data/mobility_demand/%s/Milano_big_MD_30k_%s.rou.xml\"%(city,exp_name)\n",
    "\n",
    "# new dict mobility demand prefix for random exp\n",
    "new_dict_mobility_demand_rand_prefix = \"../data/mobility_demand/%s/Milano_big_MD_30k_vehicle_trip_rand%s\"%(city,k)\n",
    "\n",
    "# new .rou.xml mobility demand prefix for random exp\n",
    "new_mobility_demand_rand_prefix = \"../data/mobility_demand/%s/Milano_big_MD_30k_rand%s\"%(city,k)\n",
    "\n",
    "\n",
    "## ROUTED PATHS\n",
    "# folder + prefix of routed paths for the experiments\n",
    "routed_path_filename_prefix = \"../data/simulations/%s/%s/routed_paths/%s_TD_30k_%s\"%(city,exp_name,city,exp_name)\n",
    "\n",
    "# folder + prefix of routed paths for the experiments\n",
    "rand_routed_path_filename_prefix = \"../data/simulations/%s/%s/rand/routed_paths/%s_TD_30k_rand%s\"%(city,exp_name,city,k)\n",
    "\n",
    "\n",
    "## EXPERIMENTS\n",
    "# path to folder containing the sumo simulation script\n",
    "path_sumo_script = \"../sumo_simulation_scripts/\"\n",
    "\n",
    "# folder containing the routed paths to simulate using SUMO\n",
    "demand_folder_path = \"../data/simulations/%s/%s/routed_paths/\"%(city,exp_name)\n",
    "\n",
    "# folder containing the routed paths to simulate using SUMO\n",
    "rand_demand_folder_path = \"../data/simulations/%s/%s/rand/routed_paths/\"%(city,exp_name)\n",
    "\n",
    "# where to save the simulation outputs\n",
    "sumo_output_dir = \"../data/simulations/%s/%s/sumo_out/\"%(city,exp_name)\n",
    "\n",
    "# where to save the simulation outputs\n",
    "rand_sumo_output_dir = \"../data/simulations/%s/%s/rand/sumo_out/\"%(city,exp_name)\n",
    "\n",
    "# the prefix of the folder resulting from a simulation\n",
    "fold_prfx = exp_name\n",
    "rand_fold_prfx = 'rand%s'%k\n",
    "\n"
   ]
  },
  {
   "attachments": {},
   "cell_type": "markdown",
   "id": "b87eeab2",
   "metadata": {},
   "source": [
    "#### Setup directories"
   ]
  },
  {
   "cell_type": "code",
   "execution_count": null,
   "id": "53aa8d57",
   "metadata": {},
   "outputs": [],
   "source": [
    "Path('../data/simulations/%s/%s'%(city,exp_name)).mkdir(exist_ok=True)\n",
    "Path('../data/simulations/%s/%s/routed_paths'%(city,exp_name)).mkdir(exist_ok=True)\n",
    "Path('../data/simulations/%s/%s/sumo_out'%(city,exp_name)).mkdir(exist_ok=True)\n",
    "Path('../data/simulations/%s/%s/plots'%(city,exp_name)).mkdir(exist_ok=True)\n",
    "Path('../data/simulations/%s/%s/results'%(city,exp_name)).mkdir(exist_ok=True)\n",
    "Path('../data/simulations/%s/%s/rand'%(city,exp_name)).mkdir(exist_ok=True)\n",
    "Path('../data/simulations/%s/%s/rand/routed_paths'%(city,exp_name)).mkdir(exist_ok=True)\n",
    "Path('../data/simulations/%s/%s/rand/sumo_out'%(city,exp_name)).mkdir(exist_ok=True)"
   ]
  },
  {
   "attachments": {},
   "cell_type": "markdown",
   "id": "231ecc00",
   "metadata": {},
   "source": [
    "## 1. Modify the road net"
   ]
  },
  {
   "attachments": {},
   "cell_type": "markdown",
   "id": "6971dea6",
   "metadata": {},
   "source": [
    "Create a new road network closing the road to be removed"
   ]
  },
  {
   "cell_type": "code",
   "execution_count": null,
   "id": "badedc90",
   "metadata": {},
   "outputs": [],
   "source": [
    "road_edge_map = pd.read_csv(path_road_edge_mapping)"
   ]
  },
  {
   "cell_type": "code",
   "execution_count": null,
   "id": "6f1e7306",
   "metadata": {},
   "outputs": [],
   "source": [
    "road_edge_tbr = pd.read_csv(path_road_to_remove)"
   ]
  },
  {
   "cell_type": "code",
   "execution_count": null,
   "id": "ede4abf5",
   "metadata": {},
   "outputs": [],
   "source": [
    "rand_road_edge_tbr_list = []\n",
    "for file in sorted(glob.glob(path_rand_road_to_remove)):\n",
    "    rand_road_edge_tbr = pd.read_csv(file)\n",
    "    rand_road_edge_tbr_list.append(rand_road_edge_tbr)"
   ]
  },
  {
   "cell_type": "code",
   "execution_count": null,
   "id": "8d31845e",
   "metadata": {},
   "outputs": [],
   "source": [
    "len_removed_roads = pd.merge(road_edge_tbr, road_edge_map, on=['road']).groupby(by=['road']).sum()\n",
    "len_removed_roads_rands = []\n",
    "for df in rand_road_edge_tbr_list:\n",
    "    l = pd.merge(df, road_edge_map, on=['road']).groupby(by=['road']).sum()\n",
    "    len_removed_roads_rands.append(l)"
   ]
  },
  {
   "cell_type": "code",
   "execution_count": null,
   "id": "85b089bd",
   "metadata": {},
   "outputs": [],
   "source": [
    "edge_tbr = np.array([])\n",
    "\n",
    "for edge_list in road_edge_tbr['edge_id']:\n",
    "    edge_tbr = np.append(edge_tbr, literal_eval(edge_list))"
   ]
  },
  {
   "cell_type": "code",
   "execution_count": null,
   "id": "06fb4f2d",
   "metadata": {},
   "outputs": [],
   "source": [
    "edge_tbr_rands = []\n",
    "\n",
    "for df in rand_road_edge_tbr_list:\n",
    "    rand_edge_tbr = np.array([])\n",
    "    for edge_list in df['edge_id']:\n",
    "        rand_edge_tbr = np.append(rand_edge_tbr, literal_eval(edge_list))\n",
    "    edge_tbr_rands.append(rand_edge_tbr)"
   ]
  },
  {
   "cell_type": "code",
   "execution_count": null,
   "id": "b042b35e",
   "metadata": {},
   "outputs": [],
   "source": [
    "#road_edge_tbr['road']"
   ]
  },
  {
   "cell_type": "markdown",
   "id": "9c3515a6",
   "metadata": {},
   "source": [
    "Print some statistics about the removed roads"
   ]
  },
  {
   "cell_type": "code",
   "execution_count": null,
   "id": "767348b6",
   "metadata": {},
   "outputs": [],
   "source": [
    "print('#road to remove: %s'%str(len(road_edge_tbr)))\n",
    "print('#edges to remove: %s'%str(len(edge_tbr)))\n",
    "print('Meters of removed roads: %s'%str(sum(len_removed_roads['edge_len'])))"
   ]
  },
  {
   "cell_type": "code",
   "execution_count": null,
   "id": "2f4dc98b",
   "metadata": {},
   "outputs": [],
   "source": [
    "for i in range(len(rand_road_edge_tbr_list)):\n",
    "    print('#road to remove %s: %s'%(str(i),str(len(rand_road_edge_tbr_list[i]))))\n",
    "    #print('#edges to remove '+str(i)+': '+str(len(edge_tbr_rands[i])))\n",
    "    #print('Meters of removed roads '+str(i)+': '+str(sum(len_removed_roads_rands[i]['edge_len'])))"
   ]
  },
  {
   "cell_type": "code",
   "execution_count": null,
   "id": "492351b6",
   "metadata": {},
   "outputs": [],
   "source": [
    "df_stats = pd.DataFrame({'exp': [exp_name],\n",
    "                         'removed_road': [len(road_edge_tbr)],\n",
    "                         'removed_edge': [len(edge_tbr)],\n",
    "                         'removed_meters': [sum(len_removed_roads['edge_len'])]})\n",
    "\n",
    "for i in range(len(rand_road_edge_tbr_list)):\n",
    "    new_row = {'exp': 'rand'+k+'_'+str(i),\n",
    "               'removed_road': len(rand_road_edge_tbr_list[i]),\n",
    "               'removed_edge': len(edge_tbr_rands[i]),\n",
    "               'removed_meters': sum(len_removed_roads_rands[i]['edge_len'])}\n",
    "    df_stats = df_stats.append(new_row, ignore_index=True)\n",
    "\n",
    "df_stats.to_csv('../data/simulations/'+city+'/'+exp_name+'/results/'+exp_name+'_stats.csv', index=False)"
   ]
  },
  {
   "attachments": {},
   "cell_type": "markdown",
   "id": "e34d5d17",
   "metadata": {},
   "source": [
    "Create removed road net for top experiment"
   ]
  },
  {
   "cell_type": "code",
   "execution_count": null,
   "id": "9de59ebd",
   "metadata": {},
   "outputs": [],
   "source": [
    "def disallow_roads(road_net_path, removed_edges, road_net_removed_path):\n",
    "    et = xml.etree.ElementTree.parse(road_net_path)\n",
    "    root = et.getroot()\n",
    "    for edge in removed_edges:\n",
    "        tmp = root.find(\"./edge[@id='%s']\"%edge)\n",
    "        for lane in tmp.iter('lane'):\n",
    "            if 'disallow' in lane.attrib:\n",
    "                lane.attrib['disallow'] = '%s passenger'%lane.attrib['disallow']\n",
    "\n",
    "    et.write(road_net_removed_path)"
   ]
  },
  {
   "cell_type": "code",
   "execution_count": null,
   "id": "3989d383",
   "metadata": {},
   "outputs": [],
   "source": [
    "%%time\n",
    "\n",
    "disallow_roads(road_network_path, edge_tbr, road_network_removed_path)"
   ]
  },
  {
   "attachments": {},
   "cell_type": "markdown",
   "id": "35e2c26e",
   "metadata": {},
   "source": [
    "Create removed road net for rand experiment"
   ]
  },
  {
   "cell_type": "code",
   "execution_count": null,
   "id": "4dd8af1c",
   "metadata": {},
   "outputs": [],
   "source": [
    "pbar = tqdm(total=len(edge_tbr_rands))\n",
    "\n",
    "for i in range(len(edge_tbr_rands)):\n",
    "\n",
    "    disallow_roads(road_network_path, edge_tbr_rands[i], '%s_%s.net.xml'%(rand_road_network_removed_prefix,str(i)))\n",
    "\n",
    "    pbar.update(1)\n",
    "pbar.close()"
   ]
  },
  {
   "attachments": {},
   "cell_type": "markdown",
   "id": "c4519937",
   "metadata": {},
   "source": [
    "## 2. Re-compute mobility demand"
   ]
  },
  {
   "attachments": {},
   "cell_type": "markdown",
   "id": "089c9bc6",
   "metadata": {},
   "source": [
    "Load OD matrix and dict tile-edges"
   ]
  },
  {
   "cell_type": "code",
   "execution_count": null,
   "id": "00785809",
   "metadata": {},
   "outputs": [],
   "source": [
    "with open(dict_tile_edges_path, 'r') as f:\n",
    "    dict_tile_edges = json.load(f)"
   ]
  },
  {
   "cell_type": "code",
   "execution_count": null,
   "id": "0123822b",
   "metadata": {},
   "outputs": [],
   "source": [
    "dict_edge_tile = {}\n",
    "\n",
    "for k, v in dict_tile_edges.items():\n",
    "    for edge in v:\n",
    "        dict_edge_tile[edge] = k"
   ]
  },
  {
   "attachments": {},
   "cell_type": "markdown",
   "id": "d822d9bd",
   "metadata": {},
   "source": [
    "Load baseline Mobility Demand"
   ]
  },
  {
   "cell_type": "code",
   "execution_count": null,
   "id": "9389496e",
   "metadata": {},
   "outputs": [],
   "source": [
    "with open(dict_mobility_demand_path, 'r') as f:\n",
    "    dict_mobility_demand = json.load(f)"
   ]
  },
  {
   "cell_type": "code",
   "execution_count": null,
   "id": "ae536d64",
   "metadata": {},
   "outputs": [],
   "source": [
    "# Removed edges from each tile\n",
    "#dict_tile_len = {}\n",
    "\n",
    "#for k,v in dict_tile_edges.items():\n",
    "#    len_before = len(v)\n",
    "#    len_after = len([i for i in v if i not in edge_tbr])\n",
    "#    dict_tile_len[k] = (len_before, len_after)    "
   ]
  },
  {
   "cell_type": "code",
   "execution_count": null,
   "id": "7fd323ad",
   "metadata": {
    "scrolled": true
   },
   "outputs": [],
   "source": [
    "#dict_tile_len"
   ]
  },
  {
   "cell_type": "code",
   "execution_count": null,
   "id": "b2332b8d",
   "metadata": {},
   "outputs": [],
   "source": [
    "def recompute_traffic_from_matrix(dict_tile_edges, dict_edge_tile, edge_tbr, attr_from, to, road_network,\n",
    "                               threshold_km=1, max_tries=100):\n",
    "    \n",
    "    \n",
    "    # flags to control the change of from or to edge\n",
    "    flag = False\n",
    "    \n",
    "    # cache to control if two tiles are no connected\n",
    "    cache_tiles = []\n",
    "    \n",
    "    if attr_from in edge_tbr or to in edge_tbr:\n",
    "        flag = True\n",
    "    \n",
    "    # edge_from and edge_to are not removed, check if exist a route with the new road_net\n",
    "    if not flag:\n",
    "        #if road_network.getOptimalPath(road_network.getEdge(attr_from),\n",
    "        #                               road_network.getEdge(to),\n",
    "        #                               vClass='passenger')[0] is not None:\n",
    "        if has_valid_route_traci([attr_from, to]):\n",
    "            return [attr_from, to]\n",
    "        # from and to are not removed, but doesn't exist a path anymore\n",
    "        else:\n",
    "            flag = True\n",
    "    \n",
    "    # select the edges on the same tile of the previous removed edge    \n",
    "    if flag:\n",
    "        tile_from = dict_edge_tile[attr_from]\n",
    "        edge_list_start = dict_tile_edges[tile_from]\n",
    "        edge_list_start = [i for i in edge_list_start if i not in edge_tbr]\n",
    "        # the tile was empty because of removed edges, pick a random one\n",
    "        while len(edge_list_start) == 0:\n",
    "            edge_list_start = dict_tile_edges[np.random.choice(list(dict_tile_edges.keys()))]\n",
    "            edge_list_start = [i for i in edge_list_start if i not in edge_tbr]\n",
    "\n",
    "        tile_to = dict_edge_tile[to]\n",
    "        edge_list_end = dict_tile_edges[tile_to]\n",
    "        edge_list_end = [i for i in edge_list_end if i not in edge_tbr]\n",
    "        # the tile was empty because of removed edges, pick a random one\n",
    "        while len(edge_list_end) == 0:\n",
    "            edge_list_end = dict_tile_edges[np.random.choice(list(dict_tile_edges.keys()))]\n",
    "            edge_list_end = [i for i in edge_list_end if i not in edge_tbr]\n",
    "\n",
    "    tries = 0\n",
    "    \n",
    "    # code to select new edges from create_traffic_from_matrix in utils\n",
    "    while tries < max_tries:\n",
    "                \n",
    "        ind_start = np.random.randint(0, len(edge_list_start))\n",
    "        ind_end = np.random.randint(0, len(edge_list_end))\n",
    "\n",
    "        edge_start = edge_list_start[ind_start]\n",
    "        edge_end = edge_list_end[ind_end]\n",
    "\n",
    "        # compute distance here\n",
    "        lon_o, lat_o = gps_coordinate_of_edge_avg(road_network, edge_start)\n",
    "        lon_d, lat_d = gps_coordinate_of_edge_avg(road_network, edge_end)\n",
    "                \n",
    "        d_km = distance_earth_km({\"lat\":lat_o, \"lon\":lon_o}, {\"lat\":lat_d, \"lon\":lon_d})\n",
    "                \n",
    "        if d_km >= threshold_km:\n",
    "            #if road_network.getOptimalPath(road_network.getEdge(edge_start),\n",
    "            #                               road_network.getEdge(edge_end),\n",
    "            #                               vClass='passenger')[0] is not None:\n",
    "            if has_valid_route_traci([edge_start, edge_end]):\n",
    "                return [edge_start, edge_end]\n",
    "            else:\n",
    "                tries += 1\n",
    "        else:\n",
    "            tries+=1\n",
    "\n",
    "        if tries == max_tries:\n",
    "            \n",
    "            # Repeat this until it finds a path, at each iteration change the the end tile\n",
    "            while True:\n",
    "                if (tile_from, tile_to) not in cache_tiles:\n",
    "                    edge_list_start_P = np.random.permutation(edge_list_start)\n",
    "                    edge_list_end_P = np.random.permutation(edge_list_end)\n",
    "\n",
    "                    it=0\n",
    "\n",
    "                    for edge_start, edge_end in ((e1, e2) for e1 in edge_list_start_P for e2 in edge_list_end_P):\n",
    "\n",
    "                        lon_o, lat_o = gps_coordinate_of_edge_avg(road_network, edge_start)\n",
    "                        lon_d, lat_d = gps_coordinate_of_edge_avg(road_network, edge_end)\n",
    "\n",
    "                        d_km = distance_earth_km({\"lat\":lat_o, \"lon\":lon_o}, {\"lat\":lat_d, \"lon\":lon_d})\n",
    "\n",
    "                        if d_km >= threshold_km:\n",
    "                            #if road_network.getOptimalPath(road_network.getEdge(edge_start),\n",
    "                            #                               road_network.getEdge(edge_end),\n",
    "                            #                               vClass='passenger')[0] is not None:\n",
    "                            if has_valid_route_traci([edge_start, edge_end]):\n",
    "                                return [edge_start, edge_end]\n",
    "                    cache_tiles.append((tile_from, tile_to))\n",
    "                else:\n",
    "                    # if two tiles are not connected yet, change the flow with a random one\n",
    "                    tile_from = np.random.choice(list(dict_tile_edges.keys()))\n",
    "                    edge_list_start = dict_tile_edges[tile_from]\n",
    "                    edge_list_start = [i for i in edge_list_start if i not in edge_tbr]\n",
    "                    tile_to = np.random.choice(list(dict_tile_edges.keys()))\n",
    "                    edge_list_end = dict_tile_edges[tile_to]\n",
    "                    edge_list_end = [i for i in edge_list_end if i not in edge_tbr]"
   ]
  },
  {
   "cell_type": "code",
   "execution_count": null,
   "id": "2a30b721",
   "metadata": {},
   "outputs": [],
   "source": [
    "def recompute_traffic_from_matrix_v2(dict_tile_edges, dict_edge_tile, edge_tbr, attr_from, to, road_network,\n",
    "                                     threshold_km=1, cache_tiles_validity={}, cache_path_validity={}):\n",
    "    \n",
    "    \n",
    "    # flags to control the change of from or to edge\n",
    "    flag = False\n",
    "    \n",
    "    \n",
    "    if attr_from in edge_tbr or to in edge_tbr:\n",
    "        flag = True\n",
    "    \n",
    "    # edge_from and edge_to are not removed, check if exist a route with the new road_net\n",
    "    if not flag:\n",
    "        if has_valid_route_traci([attr_from, to]):\n",
    "            return [attr_from, to], cache_tiles_validity, cache_path_validity\n",
    "        # from and to are not removed, but doesn't exist a path anymore\n",
    "        else:\n",
    "            flag = True\n",
    "    \n",
    "    # select the edges on the same tile of the previous removed edge    \n",
    "    if flag:\n",
    "        tile_from = dict_edge_tile[attr_from]\n",
    "        edge_list_start = dict_tile_edges[tile_from]\n",
    "        edge_list_start = [i for i in edge_list_start if i not in edge_tbr]\n",
    "        # the tile was empty because of removed edges, pick a random one\n",
    "        while len(edge_list_start) == 0:\n",
    "            edge_list_start = dict_tile_edges[np.random.choice(list(dict_tile_edges.keys()))]\n",
    "            edge_list_start = [i for i in edge_list_start if i not in edge_tbr]\n",
    "\n",
    "        tile_to = dict_edge_tile[to]\n",
    "        edge_list_end = dict_tile_edges[tile_to]\n",
    "        edge_list_end = [i for i in edge_list_end if i not in edge_tbr]\n",
    "        # the tile was empty because of removed edges, pick a random one\n",
    "        while len(edge_list_end) == 0:\n",
    "            edge_list_end = dict_tile_edges[np.random.choice(list(dict_tile_edges.keys()))]\n",
    "            edge_list_end = [i for i in edge_list_end if i not in edge_tbr]\n",
    "\n",
    "    \n",
    "    # code to select new edges from create_traffic_from_matrix_v2 in utils\n",
    "    # Repeat this until it finds a path, at each iteration change the the end tile\n",
    "    while True:\n",
    "        str_key = f\"{tile_from}_AND_{tile_to}\"\n",
    "        if  str_key not in cache_tiles_validity:\n",
    "            edge_list_start_P = np.random.permutation(edge_list_start)\n",
    "            edge_list_end_P = np.random.permutation(edge_list_end)\n",
    "\n",
    "            for edge_start, edge_end in ((e1, e2) for e1 in edge_list_start_P for e2 in edge_list_end_P):\n",
    "                \n",
    "                if has_valid_route_traci_v2([edge_start, edge_end], cache_path_validity, road_network, threshold_km):\n",
    "                    return [edge_start, edge_end], cache_tiles_validity, cache_path_validity\n",
    "            str_key = f\"{tile_from}_AND_{tile_to}\"        \n",
    "            cache_tiles_validity[str_key] = False\n",
    "        else:\n",
    "            # if two tiles are not connected yet, change the flow with a random one\n",
    "            tile_from = np.random.choice(list(dict_tile_edges.keys()))\n",
    "            edge_list_start = dict_tile_edges[tile_from]\n",
    "            edge_list_start = [i for i in edge_list_start if i not in edge_tbr]\n",
    "            tile_to = np.random.choice(list(dict_tile_edges.keys()))\n",
    "            edge_list_end = dict_tile_edges[tile_to]\n",
    "            edge_list_end = [i for i in edge_list_end if i not in edge_tbr]"
   ]
  },
  {
   "attachments": {},
   "cell_type": "markdown",
   "id": "30cdc1e6",
   "metadata": {},
   "source": [
    "Compute mobility demand for top experiment"
   ]
  },
  {
   "cell_type": "code",
   "execution_count": null,
   "id": "6419f8d4",
   "metadata": {},
   "outputs": [],
   "source": [
    "# md_path: path of .rou.xml to modify\n",
    "# new_md_path: path of the new .rou.xml\n",
    "# roadnet_removed_path: path of the road network with removed roads\n",
    "# sumocfg_path: sumocfg file used by traci\n",
    "# dict_tile_edges: dictionary tile - edges\n",
    "# dict_edge_tile: dictionary edge - tile\n",
    "# edge_tbr: list of edges to be removed\n",
    "# roadnet_baseline: path of the road network without removed roads\n",
    "# dict_md: dictionary of original mobility demand\n",
    "# new_md_json_path: path where to save the new dictionary of mobility demand\n",
    "\n",
    "def recompute_mobility_demand(md_path, new_md_path, roadnet_removed_path, sumocfg_path, dict_tile_edges, dict_edge_tile, edge_tbr, roadnet_baseline, dict_md, new_md_json_path):\n",
    "\n",
    "    changed_md = 0\n",
    "    et = xml.etree.ElementTree.parse(md_path)\n",
    "    root = et.getroot()\n",
    "    road_network_removed = sumolib.net.readNet(roadnet_removed_path, withInternal=False)\n",
    "\n",
    "\n",
    "    pbar = tqdm(total=len(root.findall('flow')))\n",
    "    \n",
    "    # copy of the network with removed edges for traci initialization\n",
    "    shutil.copy(roadnet_removed_path, sumocfg_path)\n",
    "    \n",
    "    #init traci for fast route validation\n",
    "    try:\n",
    "        init_traci(warnings=False)\n",
    "    except traci.TraCIException:\n",
    "        pass\n",
    "    \n",
    "    cache_tiles={}\n",
    "    cache_path={}\n",
    "    \n",
    "    for f in root.iter('flow'):\n",
    "        \n",
    "        new_edges, cache_tiles, cache_path = recompute_traffic_from_matrix_v2(dict_tile_edges, dict_edge_tile, edge_tbr, \n",
    "                                                                              f.attrib['from'], f.attrib['to'], road_network_removed,\n",
    "                                                                              threshold_km = 0.8, cache_tiles_validity=cache_tiles,\n",
    "                                                                              cache_path_validity=cache_path)\n",
    "        \n",
    "        if new_edges is None:\n",
    "            print(f.attrib['from'], f.attrib['to'])\n",
    "            print('No route available for an OD pair: check removed roads or pick low threshold_km')\n",
    "            shutil.copy(roadnet_baseline, sumocfg_path)\n",
    "            break\n",
    "        else:\n",
    "            if new_edges != [f.attrib['from'], f.attrib['to']]:\n",
    "                changed_md +=1\n",
    "                f.attrib['from'] = new_edges[0]\n",
    "                f.attrib['to'] = new_edges[1]\n",
    "                dict_md[f.attrib['id']]['edges'] = new_edges\n",
    "        \n",
    "        pbar.update(1)\n",
    "    \n",
    "    traci.close()\n",
    "    \n",
    "    # recopy of the baseline network traci initialization\n",
    "    shutil.copy(roadnet_baseline, sumocfg_path)\n",
    "    \n",
    "    et.write(new_md_path)\n",
    "    \n",
    "    output_file = open(new_md_json_path, \"w\")\n",
    "    json.dump(dict_md, output_file)\n",
    "    output_file.close()\n",
    "    \n",
    "    pbar.close()\n",
    "    \n",
    "    print('Total mobility demand changed: '+str(changed_md))"
   ]
  },
  {
   "attachments": {},
   "cell_type": "markdown",
   "id": "2a98412d",
   "metadata": {},
   "source": [
    "Mobility demand for top experiment"
   ]
  },
  {
   "cell_type": "code",
   "execution_count": null,
   "id": "95090e00",
   "metadata": {},
   "outputs": [],
   "source": [
    "recompute_mobility_demand(mobility_demand_path,\n",
    "                          new_mobility_demand_path,\n",
    "                          road_network_removed_path,\n",
    "                          road_network_sumocfg_path,\n",
    "                          dict_tile_edges,\n",
    "                          dict_edge_tile,\n",
    "                          edge_tbr,\n",
    "                          road_network_path, \n",
    "                          dict_mobility_demand,\n",
    "                          new_dict_mobility_demand_path)"
   ]
  },
  {
   "attachments": {},
   "cell_type": "markdown",
   "id": "f9e885b8",
   "metadata": {},
   "source": [
    "Compute mobility demand for random experiments"
   ]
  },
  {
   "cell_type": "code",
   "execution_count": null,
   "id": "1762e55b",
   "metadata": {
    "scrolled": false
   },
   "outputs": [],
   "source": [
    "pbar_main = tqdm(total=len(edge_tbr_rands))\n",
    "\n",
    "for i in range(len(edge_tbr_rands)):\n",
    "    \n",
    "    recompute_mobility_demand(mobility_demand_path,\n",
    "                              new_mobility_demand_rand_prefix+'_'+str(i)+'.rou.xml',\n",
    "                              rand_road_network_removed_prefix+'_'+str(i)+'.net.xml',\n",
    "                              road_network_sumocfg_path,\n",
    "                              dict_tile_edges,\n",
    "                              dict_edge_tile,\n",
    "                              edge_tbr_rands[i],\n",
    "                              road_network_path, \n",
    "                              dict_mobility_demand,\n",
    "                              new_dict_mobility_demand_rand_prefix+'_'+str(i)+'.json')\n",
    "    \n",
    "    pbar_main.update(1)\n",
    "    \n",
    "pbar_main.close()"
   ]
  },
  {
   "cell_type": "code",
   "execution_count": null,
   "id": "6b62582a",
   "metadata": {},
   "outputs": [],
   "source": [
    "## Check if two tiles are connected\n",
    "\n",
    "#l_start = dict_tile_edges[dict_edge_tile['24545701']]\n",
    "#l_end = dict_tile_edges[dict_edge_tile['25236612']]\n",
    "\n",
    "#for edge_start, edge_end in ((e1, e2) for e1 in l_start for e2 in l_end):\n",
    "#    r = road_network.getOptimalPath(road_network.getEdge('24545701'),\n",
    "#                                            road_network.getEdge('25236612'),\n",
    "#                                            vClass='passenger')\n",
    "#    if r[0] is not None:\n",
    "#        print(r[0])"
   ]
  },
  {
   "attachments": {},
   "cell_type": "markdown",
   "id": "45a279c0",
   "metadata": {},
   "source": [
    "## 3. Compute routed paths"
   ]
  },
  {
   "cell_type": "code",
   "execution_count": null,
   "id": "128d20d3",
   "metadata": {},
   "outputs": [],
   "source": [
    "# number of traffic demand to generate\n",
    "experiments = 3"
   ]
  },
  {
   "attachments": {},
   "cell_type": "markdown",
   "id": "e61b2b6a",
   "metadata": {},
   "source": [
    "Top experiment"
   ]
  },
  {
   "cell_type": "code",
   "execution_count": null,
   "id": "1c795cf1",
   "metadata": {},
   "outputs": [],
   "source": [
    "# output filename \n",
    "output_demand_filename_experiments = []\n",
    "for e in range(experiments):\n",
    "    output_demand_filename_experiments.append(routed_path_filename_prefix+'_'+str(e)+'.rou.xml')"
   ]
  },
  {
   "cell_type": "code",
   "execution_count": null,
   "id": "3795ca18",
   "metadata": {},
   "outputs": [],
   "source": [
    "len(output_demand_filename_experiments)"
   ]
  },
  {
   "attachments": {},
   "cell_type": "markdown",
   "id": "943bb826",
   "metadata": {},
   "source": [
    "Random experiment"
   ]
  },
  {
   "cell_type": "code",
   "execution_count": null,
   "id": "7d934393",
   "metadata": {},
   "outputs": [],
   "source": [
    "output_demand_filename_rand_experiments = []\n",
    "\n",
    "for i in range(len(edge_tbr_rands)):\n",
    "    out_demand_filename = []\n",
    "    for e in range(experiments):\n",
    "        out_demand_filename.append(rand_routed_path_filename_prefix+'_'+str(i)+'_'+str(e)+'.rou.xml')\n",
    "    output_demand_filename_rand_experiments.append(out_demand_filename)"
   ]
  },
  {
   "cell_type": "code",
   "execution_count": null,
   "id": "dcec9384",
   "metadata": {},
   "outputs": [],
   "source": [
    "len(np.array(output_demand_filename_rand_experiments).flatten())"
   ]
  },
  {
   "attachments": {},
   "cell_type": "markdown",
   "id": "eafcef25",
   "metadata": {},
   "source": [
    "#### Set duarouter's parameters"
   ]
  },
  {
   "attachments": {},
   "cell_type": "markdown",
   "id": "6cb83422",
   "metadata": {},
   "source": [
    "Top experiment"
   ]
  },
  {
   "cell_type": "code",
   "execution_count": null,
   "id": "43fdd624",
   "metadata": {},
   "outputs": [],
   "source": [
    "weight = 7.5\n",
    "rm_loops = \"false\"\n",
    "\n",
    "seed_duarouter_list = []\n",
    "seed_duarouter = None\n",
    "\n",
    "if seed_duarouter is None:\n",
    "    for e in range(experiments):\n",
    "        seed_duarouter = np.random.randint(0, 9999999)\n",
    "        seed_duarouter_list.append(seed_duarouter)\n",
    "else:\n",
    "    seed_duarouter_list = [seed_duarouter]*experiments\n",
    "\n",
    "options_duarouter = \"--weights.random-factor \"+str(weight)+\" --max-alternatives 10 --remove-loops \"+rm_loops+\" \"\\\n",
    "    \"--weights.interpolate true --weights.minor-penalty 0 \"\\\n",
    "    \" --routing-threads 8\""
   ]
  },
  {
   "cell_type": "code",
   "execution_count": null,
   "id": "2c7de207",
   "metadata": {},
   "outputs": [],
   "source": [
    "len(seed_duarouter_list)"
   ]
  },
  {
   "attachments": {},
   "cell_type": "markdown",
   "id": "5cde67ec",
   "metadata": {},
   "source": [
    "Random experiment"
   ]
  },
  {
   "cell_type": "code",
   "execution_count": null,
   "id": "bb6e0bc4",
   "metadata": {},
   "outputs": [],
   "source": [
    "seed_duarouter_rand_list = []\n",
    "\n",
    "for i in range(len(edge_tbr_rands)):\n",
    "\n",
    "    weight = 7.5\n",
    "    rm_loops = \"false\"\n",
    "\n",
    "    seed_duarouter_list = []\n",
    "    seed_duarouter = None\n",
    "\n",
    "    if seed_duarouter is None:\n",
    "        for e in range(experiments):\n",
    "            seed_duarouter = np.random.randint(0, 9999999)\n",
    "            seed_duarouter_list.append(seed_duarouter)\n",
    "    else:\n",
    "        seed_duarouter_list = [seed_duarouter]*experiments\n",
    "        \n",
    "    seed_duarouter_rand_list.append(seed_duarouter_list)\n",
    "\n",
    "    options_duarouter_rand = \"--weights.random-factor \"+str(weight)+\" --max-alternatives 10 --remove-loops \"+rm_loops+\" \"\\\n",
    "        \"--weights.interpolate true --weights.minor-penalty 0 \"\\\n",
    "        \" --routing-threads 8\""
   ]
  },
  {
   "cell_type": "code",
   "execution_count": null,
   "id": "9f43c5e7",
   "metadata": {},
   "outputs": [],
   "source": [
    "len(np.array(seed_duarouter_rand_list).flatten())"
   ]
  },
  {
   "attachments": {},
   "cell_type": "markdown",
   "id": "a5d091a5",
   "metadata": {},
   "source": [
    "#### Apply duarouter"
   ]
  },
  {
   "attachments": {},
   "cell_type": "markdown",
   "id": "d29f727f",
   "metadata": {},
   "source": [
    "Execution time with experiments = 10 and n_vehicles=30k $\\approx 10 min$"
   ]
  },
  {
   "attachments": {},
   "cell_type": "markdown",
   "id": "32428a73",
   "metadata": {},
   "source": [
    "Top experiment"
   ]
  },
  {
   "cell_type": "code",
   "execution_count": null,
   "id": "99837801",
   "metadata": {},
   "outputs": [],
   "source": [
    "for e in range(experiments):\n",
    "\n",
    "    # prepare the command string for duarouter\n",
    "\n",
    "    command_str = \"duarouter --route-files \"+new_mobility_demand_path+\" \"+\\\n",
    "            \" --net-file \"+road_network_removed_path+\" \"+options_duarouter+\\\n",
    "        \" --random false --seed \"+str(seed_duarouter_list[e])+\\\n",
    "        \" --output-file \"+output_demand_filename_experiments[e]\n",
    "\n",
    "    # call duarouter process\n",
    "    call_duarouter_command(command_str)\n",
    "\n",
    "    # remove .alt file\n",
    "    os.remove(output_demand_filename_experiments[e].split(\".rou\")[0]+\".rou.alt\"+output_demand_filename_experiments[e].split(\".rou\")[1])\n",
    "\n",
    "    print(\"Created the routed demand [duarouter]: \"+output_demand_filename_experiments[e])"
   ]
  },
  {
   "attachments": {},
   "cell_type": "markdown",
   "id": "24a88fe1",
   "metadata": {},
   "source": [
    "Random experiment"
   ]
  },
  {
   "cell_type": "code",
   "execution_count": null,
   "id": "23ce3bbb",
   "metadata": {
    "scrolled": true
   },
   "outputs": [],
   "source": [
    "pbar = tqdm(total=len(edge_tbr_rands)*experiments)\n",
    "\n",
    "for i in range(len(edge_tbr_rands)):\n",
    "\n",
    "    for e in range(experiments):\n",
    "\n",
    "        # prepare the command string for duarouter\n",
    "\n",
    "        command_str = \"duarouter --route-files \"+new_mobility_demand_rand_prefix+'_'+str(i)+'.rou.xml'+\" \"+\\\n",
    "                \" --net-file \"+rand_road_network_removed_prefix+'_'+str(i)+'.net.xml'+\" \"+options_duarouter+\\\n",
    "            \" --random false --seed \"+str(seed_duarouter_rand_list[i][e])+\\\n",
    "            \" --output-file \"+output_demand_filename_rand_experiments[i][e]\n",
    "\n",
    "        # call duarouter process\n",
    "        call_duarouter_command(command_str)\n",
    "\n",
    "        # remove .alt file\n",
    "        os.remove(output_demand_filename_rand_experiments[i][e].split(\".rou\")[0]+\".rou.alt\"+output_demand_filename_rand_experiments[i][e].split(\".rou\")[1])\n",
    "\n",
    "        print(\"Created the routed demand [duarouter]: \"+output_demand_filename_rand_experiments[i][e])\n",
    "        \n",
    "        pbar.update(1)"
   ]
  },
  {
   "attachments": {},
   "cell_type": "markdown",
   "id": "abf6e12f",
   "metadata": {},
   "source": [
    "## 4. SUMO experiments\n",
    "\n",
    "The goal of the following notebook is to simulate, using SUMO, the vehicular traffic generated by the mixed Routed Paths to study the impact of different **percentages of routed vehicle** with respect to CO2 emissions.\n",
    "___\n",
    "\n",
    "We simulate the vehicular traffic generated by the routed paths using SUMO (Simulation of Urban MObility).\n",
    "SUMO explicitly models each vehicle’s physics and dynamics, including their routes through the road network, allowing us to simulate vehicular traffic realistically, including traffic jams, queues at traffic lights, and slowdowns due to heavy traffic.\n",
    "___\n",
    "\n",
    "`run_sumo.py` may be executed with the following command:\n",
    "\n",
    "`run_sumo.py net_path demand_path gui traj co2 ttime vpedge save_dir fold_prfx opt`\n",
    "\n",
    "- `net_path`: the path of the SUMO road network;\n",
    "- `demand_path`: the path of the mixed Routed Path to simulate;\n",
    "- `gui`: whether to use the GUI (1) or not (0);\n",
    "- `traj`: the collection mode for GPS traces: use real for all vehicles while none for no vehicles;\n",
    "- `co2`: the collection mode for CO2 emissions at the edge level: use real for all vehicles while none for no vehicles;\n",
    "- `ttime`: the collection mode for travel time: use real for all vehicles while none for no vehicles;\n",
    "- `vpedge`: the collection mode for number of vehicle per edge: use real for all vehicles while none for no vehicles;\n",
    "- `save_dir`: the path of the directory in which store the simulation results;\n",
    "- `fold_prfx`: the prefix to use for the output directory;\n",
    "- `opt`: the option with which to instantiate SUMO."
   ]
  },
  {
   "attachments": {},
   "cell_type": "markdown",
   "id": "7144fcfe",
   "metadata": {},
   "source": [
    "#### Set params"
   ]
  },
  {
   "cell_type": "code",
   "execution_count": null,
   "id": "cf522b9f",
   "metadata": {},
   "outputs": [],
   "source": [
    "# SUMO options\n",
    "opt =  '\"-W --ignore-junction-blocker 20 --time-to-impatience 30 --time-to-teleport 120 --scale 1\"'"
   ]
  },
  {
   "cell_type": "code",
   "execution_count": null,
   "id": "dc85c7b8",
   "metadata": {},
   "outputs": [],
   "source": [
    "gui = 0\n",
    "max_hours = 4\n",
    "# CO2, NOX, fuel consumed, travel time, speed of vehicles per edge\n",
    "co2 = 'real'\n",
    "nox = 'real'\n",
    "fuel = 'real'\n",
    "traveltime = 'real'\n",
    "speed = 'real'\n",
    "gps = 'none'\n",
    "# vehicles per edge at each timestep\n",
    "v_edge = 'real'\n",
    "# veichles on the road at each timestep\n",
    "v_step = 'real'"
   ]
  },
  {
   "attachments": {},
   "cell_type": "markdown",
   "id": "5f03b1cc",
   "metadata": {},
   "source": [
    "#### Load routed paths"
   ]
  },
  {
   "cell_type": "code",
   "execution_count": null,
   "id": "c3708135",
   "metadata": {},
   "outputs": [],
   "source": [
    "routed_paths = [demand_folder_path+f for f in os.listdir(demand_folder_path) if \".rou.xml\" in f]\n",
    "\n",
    "print(\"Routed Path to simulate: \"+str(len(routed_paths)))"
   ]
  },
  {
   "cell_type": "code",
   "execution_count": null,
   "id": "6793feb2",
   "metadata": {},
   "outputs": [],
   "source": [
    "rand_routed_paths = [rand_demand_folder_path+f for f in os.listdir(rand_demand_folder_path) if \".rou.xml\" in f]\n",
    "\n",
    "print(\"Random routed path to simulate: \"+str(len(rand_routed_paths)))"
   ]
  },
  {
   "attachments": {},
   "cell_type": "markdown",
   "id": "cd3bd354",
   "metadata": {},
   "source": [
    "#### Launch experiments"
   ]
  },
  {
   "attachments": {},
   "cell_type": "markdown",
   "id": "9a8105f2",
   "metadata": {},
   "source": [
    "Execution time with experiments=10 and n_veichles=15k $\\approx 1 hour$"
   ]
  },
  {
   "attachments": {},
   "cell_type": "markdown",
   "id": "2c4eb107",
   "metadata": {},
   "source": [
    "Top experiment"
   ]
  },
  {
   "cell_type": "code",
   "execution_count": null,
   "id": "4f47aa6f",
   "metadata": {},
   "outputs": [],
   "source": [
    "# traj co2 ttime vpedge\n",
    "\n",
    "pbar = tqdm(total=len(routed_paths))\n",
    "\n",
    "for demand_path in routed_paths:\n",
    "    \n",
    "    !cd {path_sumo_script} && python run_sumo.py -n {road_network_removed_path} -r {demand_path} -g {gui}\\\n",
    "    -s {sumo_output_dir} --max-hours {max_hours} --prefix {fold_prfx} --co2 {co2} --nox {nox}\\\n",
    "    --fuel {fuel} --traveltime {traveltime} --speed {speed} --gps {gps} --v-edge {v_edge} --v-step {v_step}\\\n",
    "    --sumo-opt {opt} >> foo0.txt\n",
    "    pbar.update(1)\n",
    "    print(demand_path)"
   ]
  },
  {
   "attachments": {},
   "cell_type": "markdown",
   "id": "9e5c97b3",
   "metadata": {},
   "source": [
    "Random experiment"
   ]
  },
  {
   "cell_type": "code",
   "execution_count": null,
   "id": "2462a3d8",
   "metadata": {},
   "outputs": [],
   "source": [
    "# traj co2 ttime vpedge\n",
    "\n",
    "pbar = tqdm(total=len(rand_routed_paths))\n",
    "\n",
    "for demand_path in rand_routed_paths:\n",
    "    \n",
    "    rand_exp_id = demand_path.split('/')[-1].split('_')[-2]\n",
    "    road_net_removed_path = rand_road_network_removed_prefix+'_'+rand_exp_id+'.net.xml'\n",
    "    \n",
    "    !cd {path_sumo_script} && python run_sumo.py -n {road_net_removed_path} -r {demand_path} -g {gui}\\\n",
    "    -s {rand_sumo_output_dir} --max-hours {max_hours} --prefix {rand_fold_prfx+'_'+rand_exp_id} --co2 {co2} --nox {nox}\\\n",
    "    --fuel {fuel} --traveltime {traveltime} --speed {speed} --gps {gps} --v-edge {v_edge} --v-step {v_step}\\\n",
    "    --sumo-opt {opt} >> foo0.txt\n",
    "    pbar.update(1)\n",
    "    print(demand_path)"
   ]
  },
  {
   "cell_type": "code",
   "execution_count": null,
   "id": "4e323bfb",
   "metadata": {},
   "outputs": [],
   "source": []
  }
 ],
 "metadata": {
  "kernelspec": {
   "display_name": "Python 3 (ipykernel)",
   "language": "python",
   "name": "python3"
  },
  "language_info": {
   "codemirror_mode": {
    "name": "ipython",
    "version": 3
   },
   "file_extension": ".py",
   "mimetype": "text/x-python",
   "name": "python",
   "nbconvert_exporter": "python",
   "pygments_lexer": "ipython3",
   "version": "3.11.0"
  }
 },
 "nbformat": 4,
 "nbformat_minor": 5
}

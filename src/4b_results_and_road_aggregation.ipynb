{
 "cells": [
  {
   "cell_type": "markdown",
   "id": "97af3ce5",
   "metadata": {},
   "source": [
    "# Simulation results and road aggregation"
   ]
  },
  {
   "cell_type": "markdown",
   "id": "1f92a5b5",
   "metadata": {},
   "source": [
    "This notebook contains the code to generate the results and the figure from the simulation of the baseline. It also contains the code to aggregate the edges of the road network into roads."
   ]
  },
  {
   "cell_type": "markdown",
   "id": "d6d21b48",
   "metadata": {},
   "source": [
    "(The first time you should execute all the cell, then if you want just analyze results can skip cell group 1)"
   ]
  },
  {
   "cell_type": "code",
   "execution_count": null,
   "id": "a2a4ef3f",
   "metadata": {},
   "outputs": [],
   "source": [
    "import json\n",
    "from result_utils import *\n",
    "import sumolib\n",
    "import geopandas as gpd\n",
    "from shapely.geometry import Point\n",
    "import pandas as pd\n",
    "import html\n",
    "from sklearn.preprocessing import MinMaxScaler\n",
    "import osmnx as ox\n",
    "import networkx as nx\n",
    "import matplotlib as mpl\n",
    "import folium\n",
    "import numpy as np\n",
    "from tqdm.auto import tqdm"
   ]
  },
  {
   "cell_type": "markdown",
   "id": "9e03f405",
   "metadata": {},
   "source": [
    "#### parameters"
   ]
  },
  {
   "cell_type": "code",
   "execution_count": null,
   "id": "bf411694",
   "metadata": {},
   "outputs": [],
   "source": [
    "# road network path\n",
    "road_network_path = \"../data/road_net/Milano_big/Milano_big_road_network.net.xml\"\n",
    "\n",
    "city_boundaries_path = '../data/shapes/Milano_big_boundaries.geojson'\n",
    "path_road_edge_mapping = '../data/road_net/Milano_big/Milano_big_road_edge_map.csv'\n",
    "\n",
    "folder_experiments = \"../data/simulations/Milano_big/baseline/sumo_out/\"\n",
    "nav_str = \"baseline\"\n",
    "\n",
    "# output paths\n",
    "path_results = \"../data/simulations/Milano_big/baseline/results/\"\n",
    "path_plots = \"../data/simulations/Milano_big/baseline/plots/\""
   ]
  },
  {
   "cell_type": "markdown",
   "id": "1c4539d9",
   "metadata": {},
   "source": [
    "Create a dictionary that associates configuration and filenames"
   ]
  },
  {
   "cell_type": "code",
   "execution_count": null,
   "id": "60fce3ed",
   "metadata": {},
   "outputs": [],
   "source": [
    "dict_exps = create_dict_exps(folder_experiments, \"baseline\")"
   ]
  },
  {
   "cell_type": "markdown",
   "id": "8850b700",
   "metadata": {},
   "source": [
    "## 1. Road aggregation"
   ]
  },
  {
   "cell_type": "markdown",
   "id": "75263193",
   "metadata": {},
   "source": [
    "Aggregation of the edges considering the name of the road associated through the road network. Because not all the edges have a roadname, edges without name where associated using reverse geocoding from arcgis"
   ]
  },
  {
   "cell_type": "code",
   "execution_count": null,
   "id": "78b7a30b",
   "metadata": {},
   "outputs": [],
   "source": [
    "road_network = sumolib.net.readNet(road_network_path, withInternal=True)"
   ]
  },
  {
   "cell_type": "code",
   "execution_count": null,
   "id": "6862b658",
   "metadata": {},
   "outputs": [],
   "source": [
    "print('#Edges road net: '+str(len(road_network.getEdges())))"
   ]
  },
  {
   "cell_type": "code",
   "execution_count": null,
   "id": "cf7f1fab",
   "metadata": {},
   "outputs": [],
   "source": [
    "# create a dictionary with the name of road as key, and a list as values where the first element\n",
    "# is the length of the road in meters, and the other element of the list are the edge_ids of the road\n",
    "\n",
    "dict_name_edges = {}\n",
    "\n",
    "for edge in road_network.getEdges():\n",
    "    # Manage internal edge names\n",
    "    if edge.getFunction() == 'internal':\n",
    "        edge_id = edge.getID()\n",
    "        edge_length = road_network.getEdge(edge_id).getLength()\n",
    "        edge_name_in = list(road_network.getEdge(edge_id).getIncoming())[0].getName()\n",
    "        edge_name_out = list(road_network.getEdge(edge_id).getOutgoing())[0].getName()\n",
    "        # Assign the name if they are the same or at least one is different from ''.\n",
    "        # If the two names are != '' and different, the policy is to assign the incoming edge name\n",
    "        # because it doesn't affect the total emissions\n",
    "        if edge_name_in == edge_name_out:\n",
    "            edge_name = edge_name_in\n",
    "        elif edge_name_in == '' and edge_name_out != '':\n",
    "            edge_name = edge_name_out\n",
    "        elif edge_name_in != '' and edge_name_out == '':\n",
    "            edge_name = edge_name_in\n",
    "        else:\n",
    "            edge_name = edge_name_in\n",
    "    # Classic edge\n",
    "    else:\n",
    "        edge_id = edge.getID()\n",
    "        edge_name = road_network.getEdge(edge_id).getName()\n",
    "        edge_length = road_network.getEdge(edge_id).getLength()\n",
    "    if edge_name in dict_name_edges:\n",
    "        dict_name_edges[edge_name].append(edge_id)\n",
    "        dict_name_edges[edge_name][0] += edge_length\n",
    "    else:\n",
    "        dict_name_edges[edge_name] = [edge_length, edge_id]"
   ]
  },
  {
   "cell_type": "code",
   "execution_count": null,
   "id": "7e3b1039",
   "metadata": {},
   "outputs": [],
   "source": [
    "print('#roads: '+str(len(dict_name_edges)))\n",
    "print('Edges without name: '+str(len(dict_name_edges[''])))\n",
    "print('Meters of edges without name: '+str(dict_name_edges[''][0]))"
   ]
  },
  {
   "cell_type": "code",
   "execution_count": null,
   "id": "5b2e8e6b",
   "metadata": {},
   "outputs": [],
   "source": [
    "road_lengths = [round(sublist[0],2) for sublist in list(dict_name_edges.values())]\n",
    "road_lengths.sort(reverse=True)"
   ]
  },
  {
   "cell_type": "code",
   "execution_count": null,
   "id": "7d7727e7",
   "metadata": {},
   "outputs": [],
   "source": [
    "plt.figure(figsize=(10, 3))\n",
    "plt.bar(range(len(dict_name_edges)), road_lengths, width=1)\n",
    "plt.title('Length per road')\n",
    "plt.xlabel('road_id')\n",
    "plt.ylabel('lentgh (m)')\n",
    "plt.show()"
   ]
  },
  {
   "cell_type": "code",
   "execution_count": null,
   "id": "1c610ba0",
   "metadata": {
    "scrolled": true
   },
   "outputs": [],
   "source": [
    "plt.figure(figsize=(10, 3))\n",
    "plt.hist(road_lengths, bins=100)\n",
    "plt.title('Road histogram')\n",
    "plt.xlabel('Road length (m)')\n",
    "plt.ylabel('#road')\n",
    "plt.show()"
   ]
  },
  {
   "cell_type": "markdown",
   "id": "34cb6eae",
   "metadata": {},
   "source": [
    "### 1.1 Merge unnamed roads using reverse geocoding"
   ]
  },
  {
   "cell_type": "markdown",
   "id": "7f71c3df",
   "metadata": {},
   "source": [
    "$\\approx 5 min$ with 500 no-named roads <br>\n",
    "$\\approx 2 hours 15 min$ with 12k no-named roads"
   ]
  },
  {
   "cell_type": "code",
   "execution_count": null,
   "id": "8d0637bf",
   "metadata": {},
   "outputs": [],
   "source": [
    "%%time\n",
    "\n",
    "unnamed_road_edge = {}\n",
    "for edge in dict_name_edges[''][1:]:\n",
    "    # Get the midpoint between node from and to of the edge\n",
    "    coord_node_from = road_network.getEdge(edge).getFromNode().getCoord()\n",
    "    coord_node_to = road_network.getEdge(edge).getToNode().getCoord()\n",
    "    coord_midpoint = (round((coord_node_from[0] + coord_node_to[0])/2,2), round((coord_node_from[1] + coord_node_to[1])/2,2))\n",
    "    # Get lon and lat of the midpoint\n",
    "    lonlat_midpoint = road_network.convertXY2LonLat(coord_midpoint[0], coord_midpoint[1])\n",
    "    \n",
    "    # Get address using arcgis\n",
    "    response = gpd.tools.reverse_geocode(Point(lonlat_midpoint), provider='arcgis')\n",
    "    address = response['address'][0]\n",
    "    # Clean address\n",
    "    street = address.split(',')[0]\n",
    "    # Check if the street contains the house number, and remove it\n",
    "    if street.split(' ')[-1].isnumeric():\n",
    "        street = ' '.join(street.split(' ')[:-1])\n",
    "    if street in unnamed_road_edge:    \n",
    "        unnamed_road_edge[street].append(edge)\n",
    "    else:\n",
    "        unnamed_road_edge[street] = [edge]"
   ]
  },
  {
   "cell_type": "code",
   "execution_count": null,
   "id": "67ebf48d",
   "metadata": {},
   "outputs": [],
   "source": [
    "print('#founded roadname: '+str(len(unnamed_road_edge)))\n",
    "print('Previous #road: '+str(len(dict_name_edges)))"
   ]
  },
  {
   "cell_type": "code",
   "execution_count": null,
   "id": "c8e466ac",
   "metadata": {},
   "outputs": [],
   "source": [
    "for roadname, edges in unnamed_road_edge.items():\n",
    "    length = 0\n",
    "    for edge in edges:\n",
    "        length += road_network.getEdge(edge_id).getLength()\n",
    "    if roadname in dict_name_edges:\n",
    "        dict_name_edges[roadname] = dict_name_edges[roadname] + edges\n",
    "        dict_name_edges[roadname][0] += length\n",
    "    else:\n",
    "        dict_name_edges[roadname] = [length] + edges"
   ]
  },
  {
   "cell_type": "code",
   "execution_count": null,
   "id": "c57c6449",
   "metadata": {},
   "outputs": [],
   "source": [
    "dict_name_edges['unnamed'] = dict_name_edges['']\n",
    "del dict_name_edges['']"
   ]
  },
  {
   "cell_type": "code",
   "execution_count": null,
   "id": "289c4cba",
   "metadata": {
    "scrolled": true
   },
   "outputs": [],
   "source": [
    "print('#road after reverse geocoding: '+str(len(dict_name_edges)))"
   ]
  },
  {
   "cell_type": "markdown",
   "id": "3cc8245a",
   "metadata": {},
   "source": [
    "### 1.2 Saving road-edge map csv"
   ]
  },
  {
   "cell_type": "code",
   "execution_count": null,
   "id": "ee4447b9",
   "metadata": {},
   "outputs": [],
   "source": [
    "road_edge_map = {'road': [], 'edge_id': [], 'edge_len': []}\n",
    "\n",
    "for roadname, edges in dict_name_edges.items():\n",
    "    # iterate through edges skipping the road length\n",
    "    for edge in edges[1:]:\n",
    "        road_edge_map['road'].append(roadname)\n",
    "        road_edge_map['edge_id'].append(edge)\n",
    "        road_edge_map['edge_len'].append(road_network.getEdge(edge).getLength())   "
   ]
  },
  {
   "cell_type": "code",
   "execution_count": null,
   "id": "42b99d0e",
   "metadata": {},
   "outputs": [],
   "source": [
    "pd.DataFrame(road_edge_map).drop_duplicates().to_csv(path_road_edge_mapping, index=False)"
   ]
  },
  {
   "cell_type": "markdown",
   "id": "89a69902",
   "metadata": {},
   "source": [
    "### 1.3 Assign city to roads with the same name"
   ]
  },
  {
   "cell_type": "markdown",
   "id": "f8d33b8c",
   "metadata": {},
   "source": [
    "If needed to download the boundaries of a city you can use [overpass turbo](https://overpass-turbo.eu/#) which is a tool of OSM to query at different level OSM maps. In this case I need of the administrative boundaries of a city, so I used this query: \n",
    "\n",
    "\n",
    "```\n",
    "/*\n",
    "This has been generated by the overpass-turbo wizard.\n",
    "*/\n",
    "\n",
    "[out:json][timeout:25];\n",
    "\n",
    "// gather results\n",
    "(\n",
    "  // query part for: “boundary=administrative and admin_level=8”\n",
    "  relation[\"boundary\"=\"administrative\"][\"admin_level\"=\"8\"]({{bbox}});\n",
    ");\n",
    "\n",
    "// print results\n",
    "out body;\n",
    ">;\n",
    "out skel qt;\n",
    "```"
   ]
  },
  {
   "cell_type": "code",
   "execution_count": null,
   "id": "0839452f",
   "metadata": {},
   "outputs": [],
   "source": [
    "road_edge_map = pd.read_csv(path_road_edge_mapping)"
   ]
  },
  {
   "cell_type": "code",
   "execution_count": null,
   "id": "a9cfc851",
   "metadata": {},
   "outputs": [],
   "source": [
    "boundaries = gpd.read_file(city_boundaries_path)\n",
    "# Keep only boundaries\n",
    "boundaries.dropna(subset=['boundary'], inplace=True)\n",
    "boundaries = boundaries[['name', 'geometry']]"
   ]
  },
  {
   "cell_type": "code",
   "execution_count": null,
   "id": "4aeb2aec",
   "metadata": {
    "scrolled": false
   },
   "outputs": [],
   "source": [
    "boundaries.head()"
   ]
  },
  {
   "cell_type": "code",
   "execution_count": null,
   "id": "6846a59e",
   "metadata": {},
   "outputs": [],
   "source": [
    "grouped_road = road_edge_map.groupby('road').agg({'edge_id': lambda x: x.tolist()})\n",
    "grouped_road.reset_index(inplace=True)"
   ]
  },
  {
   "cell_type": "markdown",
   "id": "abb657a8",
   "metadata": {},
   "source": [
    "$\\approx 20 min$ with 5000 roads"
   ]
  },
  {
   "cell_type": "code",
   "execution_count": null,
   "id": "41c50e76",
   "metadata": {},
   "outputs": [],
   "source": [
    "prefix_road = ['Piazza', 'Via', 'Viale', 'Corso', 'Largo', 'Piazzale',\n",
    "               'Rotatoria', 'Vicolo', 'Parco', 'Ponte', 'unnamed']\n",
    "\n",
    "pbar = tqdm(total=len(grouped_road))\n",
    "\n",
    "for index, row in grouped_road.iterrows():\n",
    "    \n",
    "    # Not split road like 'Tangenziale' or 'A1', etc.\n",
    "    if row['road'].split(' ')[0] in prefix_road:\n",
    "        bound_road = []\n",
    "        \n",
    "        for edge in row['edge_id']:\n",
    "            # find the midpoint of the edge\n",
    "            coord_node_from = road_network.getEdge(edge).getFromNode().getCoord()\n",
    "            coord_node_to = road_network.getEdge(edge).getToNode().getCoord()\n",
    "            coord_midpoint = (round((coord_node_from[0] + coord_node_to[0])/2,2), round((coord_node_from[1] + coord_node_to[1])/2,2))\n",
    "            lon_mid, lat_mid = road_network.convertXY2LonLat(coord_midpoint[0], coord_midpoint[1])\n",
    "            p = Point(lon_mid, lat_mid)\n",
    "            \n",
    "            # find the administrative boundaries of that edge\n",
    "            for index_b, row_b in boundaries.iterrows():\n",
    "                if row_b['geometry'].contains(p):\n",
    "                    bound_road.append(row_b['name'])\n",
    "                    break\n",
    "    \n",
    "        # check how many administrative boundaries were assigned to each road\n",
    "        if len(set(bound_road)) > 1:\n",
    "            for i, edge in enumerate(row['edge_id']):\n",
    "                road_edge_map.loc[road_edge_map['edge_id']==edge, 'road'] += ', '+bound_road[i]\n",
    "    \n",
    "    pbar.update(1)            "
   ]
  },
  {
   "cell_type": "code",
   "execution_count": null,
   "id": "1fbf7083",
   "metadata": {},
   "outputs": [],
   "source": [
    "road_edge_map.to_csv(path_road_edge_mapping, index=False)"
   ]
  },
  {
   "cell_type": "code",
   "execution_count": null,
   "id": "96253a03",
   "metadata": {},
   "outputs": [],
   "source": [
    "road_len = road_edge_map.groupby(by=['road']).sum().reset_index().sort_values(by=['edge_len'], ascending=False)"
   ]
  },
  {
   "cell_type": "code",
   "execution_count": null,
   "id": "beef27a0",
   "metadata": {},
   "outputs": [],
   "source": [
    "plt.figure(figsize=(10, 3))\n",
    "plt.bar(range(len(road_len)), road_len['edge_len'], width=1)\n",
    "plt.title('Length per road')\n",
    "plt.xlabel('road_id')\n",
    "plt.ylabel('lentgh (m)')\n",
    "plt.savefig(path_plots+'length_roads.png', bbox_inches =\"tight\")\n",
    "plt.show()"
   ]
  },
  {
   "cell_type": "code",
   "execution_count": null,
   "id": "86082f02",
   "metadata": {
    "scrolled": true
   },
   "outputs": [],
   "source": [
    "plt.figure(figsize=(10, 3))\n",
    "plt.hist(road_len['edge_len'], bins=100)\n",
    "plt.title('Road histogram')\n",
    "plt.xlabel('Road length (m)')\n",
    "plt.ylabel('#road')\n",
    "plt.savefig(path_plots+'road_hist.png', bbox_inches =\"tight\")\n",
    "plt.show()"
   ]
  },
  {
   "cell_type": "code",
   "execution_count": null,
   "id": "ba2bf9a6",
   "metadata": {},
   "outputs": [],
   "source": [
    "#for road, edges in dict_name_edges.items():\n",
    "#    if edges[0]>=1200:\n",
    "#        print(road)"
   ]
  },
  {
   "cell_type": "markdown",
   "id": "3f2f1d63",
   "metadata": {},
   "source": [
    "### 1.4 Road_measures.csv"
   ]
  },
  {
   "cell_type": "markdown",
   "id": "ffd85691",
   "metadata": {},
   "source": [
    "Aggregate the results of the simulation for each road"
   ]
  },
  {
   "cell_type": "code",
   "execution_count": null,
   "id": "e0dce0a1",
   "metadata": {},
   "outputs": [],
   "source": [
    "road_edge_map = pd.read_csv(path_road_edge_mapping)"
   ]
  },
  {
   "cell_type": "code",
   "execution_count": null,
   "id": "49644926",
   "metadata": {},
   "outputs": [],
   "source": [
    "def create_road_measures(dict_exps, folder_experiments, main_experiment_name, road_edge_map):\n",
    "    for exp_id, exp_folder_name in dict_exps[main_experiment_name].items():\n",
    "        exp_df = pd.read_csv(folder_experiments+exp_folder_name+\"/edge_measures.csv\")\n",
    "        merged = pd.merge(road_edge_map, exp_df, on=['edge_id'])\n",
    "        grouped = merged.groupby('road').agg({'edge_id': lambda x: x.tolist(),\n",
    "                                              'edge_len': 'sum',\n",
    "                                              'total_co2': 'sum',\n",
    "                                              'total_nox': 'sum',\n",
    "                                              'total_fuel': 'sum',\n",
    "                                              'total_v_edge': 'sum'})\n",
    "        grouped.reset_index(inplace=True)\n",
    "        grouped.to_csv(folder_experiments+exp_folder_name+\"/road_measures.csv\", index=False)"
   ]
  },
  {
   "cell_type": "code",
   "execution_count": null,
   "id": "f144457a",
   "metadata": {},
   "outputs": [],
   "source": [
    "create_road_measures(dict_exps, folder_experiments, 'baseline', road_edge_map)"
   ]
  },
  {
   "cell_type": "markdown",
   "id": "fa21a9d6",
   "metadata": {},
   "source": [
    "## 2. Results by roads"
   ]
  },
  {
   "cell_type": "markdown",
   "id": "28ee7075",
   "metadata": {},
   "source": [
    "Analysis of the results of the simulation by road with plots"
   ]
  },
  {
   "cell_type": "code",
   "execution_count": null,
   "id": "2f910e4f",
   "metadata": {},
   "outputs": [],
   "source": [
    "road_edge_map = pd.read_csv(path_road_edge_mapping)"
   ]
  },
  {
   "cell_type": "code",
   "execution_count": null,
   "id": "cc6290af",
   "metadata": {},
   "outputs": [],
   "source": [
    "# Aggregate all experiments results and compute the mean and the std of the 'total_of' column.\n",
    "# It returns a dictionary with keys = roadnames and list [mean, std].\n",
    "\n",
    "def create_dict_total_per_road(dict_exps, folder_experiments, main_experiment_name, total_of):\n",
    "    dict_total = {}\n",
    "    for exp_id, exp_folder_name in dict_exps[main_experiment_name].items():\n",
    "        exp_df = pd.read_csv(folder_experiments+exp_folder_name+\"/road_measures.csv\")\n",
    "        \n",
    "        for ind, row in exp_df.iterrows():\n",
    "            if row['road'] in dict_total:\n",
    "                dict_total[row['road']].append(row[total_of])\n",
    "            else:\n",
    "                dict_total[row['road']] = [row[total_of]]\n",
    "    \n",
    "    list_df = []\n",
    "    for road, total in dict_total.items():\n",
    "        list_df.append([road, np.array(total).mean(), np.array(total).std()])\n",
    "    df = pd.DataFrame(list_df, columns=['road', 'mean', 'std'])\n",
    "        \n",
    "    return df"
   ]
  },
  {
   "cell_type": "markdown",
   "id": "d60b87df",
   "metadata": {},
   "source": [
    "#### 1. Total CO2 per road"
   ]
  },
  {
   "cell_type": "markdown",
   "id": "875c2db2",
   "metadata": {},
   "source": [
    "Overall emissions of CO2 per road"
   ]
  },
  {
   "cell_type": "code",
   "execution_count": null,
   "id": "ad7373b1",
   "metadata": {},
   "outputs": [],
   "source": [
    "df_total_co2_road = create_dict_total_per_road(dict_exps, folder_experiments, 'baseline', 'total_co2')"
   ]
  },
  {
   "cell_type": "code",
   "execution_count": null,
   "id": "e22beb87",
   "metadata": {},
   "outputs": [],
   "source": [
    "print('Total CO2: {:.3e}'.format(df_total_co2_road['mean'].sum()))"
   ]
  },
  {
   "cell_type": "code",
   "execution_count": null,
   "id": "f9e0ec21",
   "metadata": {
    "scrolled": true
   },
   "outputs": [],
   "source": [
    "df_total_co2_road.sort_values(by=['mean', 'std'], ascending=False, inplace=True)"
   ]
  },
  {
   "cell_type": "code",
   "execution_count": null,
   "id": "bfd616b1",
   "metadata": {
    "scrolled": true
   },
   "outputs": [],
   "source": [
    "plt.figure(figsize=(10, 3))\n",
    "#plt.bar(range(len(mean_list)), mean_list, yerr=std_list)\n",
    "plt.bar(range(df_total_co2_road.shape[0]), df_total_co2_road['mean'], yerr=df_total_co2_road['std'])\n",
    "plt.title('CO2 per road')\n",
    "plt.xlabel('road_id')\n",
    "plt.ylabel('CO2 (mg)')\n",
    "plt.show()"
   ]
  },
  {
   "cell_type": "code",
   "execution_count": null,
   "id": "36d2ea5b",
   "metadata": {
    "scrolled": true
   },
   "outputs": [],
   "source": [
    "plt.figure(figsize=(10, 3))\n",
    "plt.bar(df_total_co2_road['road'].iloc[:50].apply(html.unescape), df_total_co2_road['mean'].iloc[:50], yerr=df_total_co2_road['std'].iloc[:50])\n",
    "plt.title('CO2 per road')\n",
    "plt.xlabel('roadname')\n",
    "plt.ylabel('CO2 (mg)')\n",
    "plt.xticks(rotation='vertical')\n",
    "plt.savefig(path_plots+'CO2_first50.png', bbox_inches =\"tight\")\n",
    "plt.show()"
   ]
  },
  {
   "cell_type": "code",
   "execution_count": null,
   "id": "ce920426",
   "metadata": {},
   "outputs": [],
   "source": [
    "first_50 = df_total_co2_road['road'].iloc[:50]"
   ]
  },
  {
   "cell_type": "markdown",
   "id": "19b238fc",
   "metadata": {},
   "source": [
    "Compute the CO2 per meter for each road"
   ]
  },
  {
   "cell_type": "code",
   "execution_count": null,
   "id": "22dc185c",
   "metadata": {},
   "outputs": [],
   "source": [
    "df_co2_len = pd.merge(road_edge_map.groupby('road')['edge_len'].sum(), df_total_co2_road, on=['road'])"
   ]
  },
  {
   "cell_type": "code",
   "execution_count": null,
   "id": "de2a1303",
   "metadata": {},
   "outputs": [],
   "source": [
    "df_co2_len['mean_len'] = df_co2_len['mean']/df_co2_len['edge_len']\n",
    "df_co2_len['std_len'] = df_co2_len['std']/df_co2_len['edge_len']"
   ]
  },
  {
   "cell_type": "code",
   "execution_count": null,
   "id": "2b7851e7",
   "metadata": {},
   "outputs": [],
   "source": [
    "df_co2_len.sort_values(by=['mean_len', 'std_len'], ascending=False, inplace=True)"
   ]
  },
  {
   "cell_type": "code",
   "execution_count": null,
   "id": "9f32201d",
   "metadata": {
    "scrolled": true
   },
   "outputs": [],
   "source": [
    "plt.figure(figsize=(10, 3))\n",
    "plt.bar(df_co2_len['road'].iloc[:50].apply(html.unescape), df_co2_len['mean_len'].iloc[:50], yerr=df_co2_len['std_len'].iloc[:50])\n",
    "plt.title('CO2/length per road')\n",
    "plt.xlabel('roadname')\n",
    "plt.ylabel('CO2/length (mg/m)')\n",
    "plt.xticks(rotation='vertical')\n",
    "plt.savefig(path_plots+'CO2_m_first50.png', bbox_inches =\"tight\")\n",
    "plt.show()"
   ]
  },
  {
   "cell_type": "code",
   "execution_count": null,
   "id": "c9bf8f67",
   "metadata": {},
   "outputs": [],
   "source": [
    "#df_co2_len['mean_len'] = MinMaxScaler().fit_transform(df_co2_len['mean_len'].values.reshape(-1,1))\n",
    "#df_co2_len['mean'] = MinMaxScaler().fit_transform(df_co2_len['mean'].values.reshape(-1,1))\n",
    "#df_co2_len['mean_len'] = df_co2_len['mean_len']*df_co2_len['mean'].max()"
   ]
  },
  {
   "cell_type": "code",
   "execution_count": null,
   "id": "1001a7b4",
   "metadata": {
    "scrolled": true
   },
   "outputs": [],
   "source": [
    "df_co2_len2 = df_co2_len\n",
    "df_co2_len2['road'] = df_co2_len2['road'].apply(html.unescape)\n",
    "_ = df_co2_len2.iloc[:50].plot(kind='bar', x='road', y=['mean', 'mean_len'], secondary_y='mean_len',\n",
    "                               width=0.6, rot=90, figsize=(10,3))\n",
    "plt.title('CO2 vs CO2/length')\n",
    "ax1, ax2 = plt.gcf().get_axes()\n",
    "ax1.set_ylabel('CO2 mean (mg)')\n",
    "ax2.set_ylabel('CO2\\length (mg\\m)')\n",
    "plt.savefig(path_plots+'CO2_vs_first50.png', bbox_inches =\"tight\")\n",
    "plt.show()"
   ]
  },
  {
   "cell_type": "code",
   "execution_count": null,
   "id": "1cb85ffa",
   "metadata": {},
   "outputs": [],
   "source": [
    "first_50_normalized = df_co2_len['road'].iloc[:50]"
   ]
  },
  {
   "cell_type": "code",
   "execution_count": null,
   "id": "6f0325ab",
   "metadata": {},
   "outputs": [],
   "source": [
    "print('Different roads bewteen the two metrics: ' + str(len(np.setdiff1d(first_50, first_50_normalized))))"
   ]
  },
  {
   "cell_type": "code",
   "execution_count": null,
   "id": "6071cb55",
   "metadata": {},
   "outputs": [],
   "source": [
    "df_co2_len.sort_values(by=['mean', 'std'], ascending=False, inplace=True)"
   ]
  },
  {
   "cell_type": "code",
   "execution_count": null,
   "id": "4931e022",
   "metadata": {
    "scrolled": true
   },
   "outputs": [],
   "source": [
    "plt.errorbar(df_co2_len['edge_len'], df_co2_len['mean'], yerr=df_co2_len['std'], ms=4, fmt='o', ecolor='r', elinewidth=1)\n",
    "#plt.yscale('log')\n",
    "#plt.xscale('log')\n",
    "#for i in range(20):\n",
    "#    plt.annotate(html.unescape(df_co2_len['road'].iloc[i]), (df_co2_len['edge_len'].iloc[i], df_co2_len['mean'].iloc[i] + 0.2), size=6)\n",
    "plt.title('CO2 - road length correlation')\n",
    "plt.ylabel('CO2 (mg)')\n",
    "plt.xlabel('Road length (m)')\n",
    "plt.savefig(path_plots+'CO2_length_corr.png', bbox_inches =\"tight\")\n",
    "#plt.savefig(path_plots+'CO2_length_corr_name.png', bbox_inches =\"tight\")\n",
    "plt.show()"
   ]
  },
  {
   "cell_type": "markdown",
   "id": "5828abaf",
   "metadata": {},
   "source": [
    "#### 2. Gini index CO2 per road"
   ]
  },
  {
   "cell_type": "code",
   "execution_count": null,
   "id": "82a779bc",
   "metadata": {},
   "outputs": [],
   "source": [
    "def gini(array):\n",
    "    \"\"\"Gini coefficient for array >= 0. Faster than the standard Gini\"\"\"\n",
    "    array.sort()\n",
    "    # values can't be zero\n",
    "    array = array + 0.0000001\n",
    "    index = np.array(np.arange(1, array.shape[0]+1))\n",
    "    n = array.shape[0]\n",
    "    return (np.sum((2 * index - n  - 1) * array)) / (n * np.sum(array))"
   ]
  },
  {
   "cell_type": "code",
   "execution_count": null,
   "id": "994cd280",
   "metadata": {},
   "outputs": [],
   "source": [
    "def gini_coefficient(x):\n",
    "    \"\"\"Compute Gini coefficient of array of values\"\"\"\n",
    "    diffsum = 0\n",
    "    for i, xi in enumerate(x[:-1], 1):\n",
    "        diffsum += np.sum(np.abs(xi - x[i:]))\n",
    "    return diffsum / (len(x)**2 * np.mean(x))"
   ]
  },
  {
   "cell_type": "code",
   "execution_count": null,
   "id": "9c3bec88",
   "metadata": {},
   "outputs": [],
   "source": [
    "def create_dict_gini(dict_exps, folder_experiments, main_experiment_name, gini_of):\n",
    "    dict_gini = {}\n",
    "    for exp_id, exp_folder_name in dict_exps[main_experiment_name].items():\n",
    "        exp_df = pd.read_csv(folder_experiments+exp_folder_name+\"/road_measures.csv\")\n",
    "        gini_array = np.array(exp_df[gini_of])\n",
    "        dict_gini[exp_id] = gini(gini_array)\n",
    "    return dict_gini"
   ]
  },
  {
   "cell_type": "code",
   "execution_count": null,
   "id": "e5048d6a",
   "metadata": {},
   "outputs": [],
   "source": [
    "dict_gini_co2 = create_dict_gini(dict_exps, folder_experiments, 'baseline', 'total_co2')\n",
    "\n",
    "with open(path_results+'co2_gini.json', 'w') as fp:\n",
    "    json.dump(dict_gini_co2, fp)"
   ]
  },
  {
   "cell_type": "code",
   "execution_count": null,
   "id": "3a13106e",
   "metadata": {},
   "outputs": [],
   "source": [
    "gini_co2 = np.array(list(dict_gini_co2.values()))\n",
    "print('Gini coefficient CO2 per road mean: '+str(gini_co2.mean()))\n",
    "print('Gini coefficient CO2 per road std: '+str(gini_co2.std()))   "
   ]
  },
  {
   "cell_type": "markdown",
   "id": "852dfa3d",
   "metadata": {},
   "source": [
    "#### 3. CO2 plot OSMnx"
   ]
  },
  {
   "cell_type": "code",
   "execution_count": null,
   "id": "f9775f01",
   "metadata": {},
   "outputs": [],
   "source": [
    "road_network = sumolib.net.readNet(road_network_path, withInternal=False)"
   ]
  },
  {
   "cell_type": "code",
   "execution_count": null,
   "id": "e00c3fad",
   "metadata": {},
   "outputs": [],
   "source": [
    "len(road_network.getEdges())"
   ]
  },
  {
   "cell_type": "code",
   "execution_count": null,
   "id": "c5f6dd9d",
   "metadata": {},
   "outputs": [],
   "source": [
    "G = nx.Graph()\n",
    "#G = ox.graph_from_address('Milano, Lombardia, Italia', dist=5000, network_type='drive')\n",
    "#G = ox.graph_from_point((45.469262, 9.182007), dist=4000, network_type='drive') #Milano\n",
    "G = ox.graph_from_point((45.469262, 9.182007), dist=12000, network_type='drive') #Milano_big"
   ]
  },
  {
   "cell_type": "code",
   "execution_count": null,
   "id": "d9a9e1b8",
   "metadata": {},
   "outputs": [],
   "source": [
    "ox.plot_graph(G, bgcolor='white', node_size=0.1, edge_linewidth=0.5)"
   ]
  },
  {
   "cell_type": "code",
   "execution_count": null,
   "id": "1140cf2b",
   "metadata": {},
   "outputs": [],
   "source": [
    "# Map sumo edge id in road network with (u,v,key) pair of edges in osmnx graph. \n",
    "# To edge association is done computing the lonlat of midpoint edge and finding the nearest edge in the graph. \n",
    "\n",
    "def map_sumo_osm_edges(road_net, osm_graph):\n",
    "\n",
    "    list_edge = []\n",
    "    list_lon = []\n",
    "    list_lat = []\n",
    "\n",
    "    for edge in road_net.getEdges():\n",
    "        # Get the midpoint between node from and to of the edge\n",
    "        coord_node_from = edge.getFromNode().getCoord()\n",
    "        coord_node_to = edge.getToNode().getCoord()\n",
    "        coord_midpoint = (round((coord_node_from[0] + coord_node_to[0])/2,2), round((coord_node_from[1] + coord_node_to[1])/2,2))\n",
    "        # Get lon and lat of the midpoint\n",
    "        lon, lat = road_net.convertXY2LonLat(coord_midpoint[0], coord_midpoint[1])\n",
    "        # round sumo lonlat for the comparison with osmnx lonlat\n",
    "        lon, lat = round(lon, 7), round(lat, 7)\n",
    "        list_lon.append(lon)\n",
    "        list_lat.append(lat)\n",
    "        list_edge.append(edge.getID())\n",
    "\n",
    "    osmnx_edges = ox.nearest_edges(osm_graph, list_lon, list_lat)\n",
    "    df = pd.DataFrame(list(zip(list_edge, osmnx_edges)), columns =['edge_id', 'edge_osmnx'])\n",
    "    #df = dict(zip(list_edge, osmnx_edges))\n",
    "    \n",
    "    return df"
   ]
  },
  {
   "cell_type": "code",
   "execution_count": null,
   "id": "abd3cc96",
   "metadata": {},
   "outputs": [],
   "source": [
    "map_edge_sumo_osmnx = map_sumo_osm_edges(road_network, G)"
   ]
  },
  {
   "cell_type": "code",
   "execution_count": null,
   "id": "a45c22a8",
   "metadata": {},
   "outputs": [],
   "source": [
    "# Initialize the plot dataframe with road, sumo edge_id, osmnx edge_id, mean per road\n",
    "\n",
    "def plot_df(df_exps, road_edge_map, sumo_osm_edge_map):\n",
    "    road_edge_map_no_intern = road_edge_map[~road_edge_map['edge_id'].astype(str).str.startswith(':')]\n",
    "    road_edge_mean_map = pd.merge(road_edge_map_no_intern, df_exps, on=['road'])\n",
    "    df = pd.merge(road_edge_mean_map, map_edge_sumo_osmnx, on=['edge_id'])\n",
    "    return df"
   ]
  },
  {
   "cell_type": "code",
   "execution_count": null,
   "id": "af266fde",
   "metadata": {},
   "outputs": [],
   "source": [
    "df_co2_road = create_dict_total_per_road(dict_exps, folder_experiments, 'baseline', 'total_co2')\n",
    "\n",
    "df_co2_plot = plot_df(df_co2_road, road_edge_map, map_edge_sumo_osmnx)"
   ]
  },
  {
   "cell_type": "code",
   "execution_count": null,
   "id": "fb5d1f19",
   "metadata": {},
   "outputs": [],
   "source": [
    "def add_attribute_to_graph(graph, df_plot, attr_name):\n",
    "    # Initialize co2 attribute in the graph\n",
    "    for edge in graph.edges:\n",
    "        G[edge[0]][edge[1]][edge[2]][attr_name] = None\n",
    "        \n",
    "    # Set co2 attribute based on mean per road\n",
    "    for edge, mean in zip(df_plot['edge_osmnx'], df_plot['mean']):\n",
    "        if mean == 0:\n",
    "            graph[edge[0]][edge[1]][edge[2]][attr_name] = None\n",
    "        else:\n",
    "            graph[edge[0]][edge[1]][edge[2]][attr_name] = mean"
   ]
  },
  {
   "cell_type": "code",
   "execution_count": null,
   "id": "40ed6425",
   "metadata": {},
   "outputs": [],
   "source": [
    "add_attribute_to_graph(G, df_co2_plot, 'co2')"
   ]
  },
  {
   "cell_type": "code",
   "execution_count": null,
   "id": "f2ee8456",
   "metadata": {},
   "outputs": [],
   "source": [
    "# colormap\n",
    "ec = ox.plot.get_edge_colors_by_attr(G, attr='co2', cmap='autumn_r', na_color='lightgrey')"
   ]
  },
  {
   "cell_type": "code",
   "execution_count": null,
   "id": "ed366cb8",
   "metadata": {
    "scrolled": true
   },
   "outputs": [],
   "source": [
    "fig, ax = ox.plot_graph(G, bgcolor='white', node_size=0.1, edge_linewidth=1, edge_color=ec, show=False)\n",
    "\n",
    "# colorbar\n",
    "norm = mpl.colors.Normalize(vmin=min(v for v in nx.get_edge_attributes(G, 'co2').values() if v is not None),\n",
    "                            vmax=max(v for v in nx.get_edge_attributes(G, 'co2').values() if v is not None))\n",
    "cbar = fig.colorbar(plt.cm.ScalarMappable(norm=norm, cmap='autumn_r'), ax=ax, shrink=0.5)\n",
    "cbar.set_label('CO2 emission (mg)')\n",
    "plt.title('CO2 emission per road')\n",
    "#plt.savefig(path_plots+'OSMnx_CO2.png', bbox_inches =\"tight\")\n",
    "plt.show()"
   ]
  },
  {
   "cell_type": "markdown",
   "id": "d198a18f",
   "metadata": {},
   "source": [
    "#### 4. CO2 plot folium"
   ]
  },
  {
   "cell_type": "code",
   "execution_count": null,
   "id": "d387fac1",
   "metadata": {},
   "outputs": [],
   "source": [
    "# generate a dataframe to plot a sumo network in folium\n",
    "# df_exp: dataframe with roadname, mean, std\n",
    "# road_edge_map: dataframe with map roadname - sumo edge_id\n",
    "# value_of_cmap: column values to use for the colormap\n",
    "# cmap_name: name of the colormap\n",
    "\n",
    "def plot_df_folium(df_exp, road_net, road_edge_map, value_of_cmap, cmap_name):\n",
    "    # merge roadname - edge_id with values to plot\n",
    "    road_edge_map_no_intern = road_edge_map[~road_edge_map['edge_id'].astype(str).str.startswith(':')]\n",
    "    df = pd.merge(road_edge_map_no_intern, df_exp, on=['road'])\n",
    "    \n",
    "    # compute the colormap\n",
    "    norm = mpl.colors.Normalize(vmin=df[df[value_of_cmap] != 0][value_of_cmap].min(),\n",
    "                            vmax=df[value_of_cmap].max())\n",
    "    cmap = plt.cm.get_cmap(cmap_name)\n",
    "    colors = cmap(norm(df[value_of_cmap]))\n",
    "    colors = [mpl.colors.to_hex(c, keep_alpha=True) for c in colors]\n",
    "    \n",
    "    # compute the edge lonlat to be plotted in folium\n",
    "    list_from = []\n",
    "    list_to = []\n",
    "\n",
    "    for edge in df['edge_id']:\n",
    "        # Compute lat and lon, from and to, for each edge\n",
    "        coord_node_from = road_net.getEdge(edge).getFromNode().getCoord()\n",
    "        coord_node_to = road_net.getEdge(edge).getToNode().getCoord()\n",
    "        lon_from, lat_from = road_net.convertXY2LonLat(coord_node_from[0], coord_node_from[1])\n",
    "        lon_to, lat_to = road_net.convertXY2LonLat(coord_node_to[0], coord_node_to[1])\n",
    "\n",
    "        list_from.append((lat_from, lon_from))\n",
    "        list_to.append((lat_to, lon_to))\n",
    "        \n",
    "    # update the dataframe\n",
    "    df['from'] = list_from\n",
    "    df['to'] = list_to\n",
    "    df['color'] = colors\n",
    "    \n",
    "    return df"
   ]
  },
  {
   "cell_type": "code",
   "execution_count": null,
   "id": "98aa3247",
   "metadata": {},
   "outputs": [],
   "source": [
    "df_plot_co2 = plot_df_folium(df_co2_road, road_network, road_edge_map, 'mean', 'autumn_r')"
   ]
  },
  {
   "cell_type": "code",
   "execution_count": null,
   "id": "6f7c94dc",
   "metadata": {},
   "outputs": [],
   "source": [
    "m = folium.Map(location=[45.469262, 9.182007],\n",
    "               tiles='CartoDB Positron',\n",
    "               zoom_start=13,\n",
    "               attr='CartoDB')\n",
    "               #png_enabled=True)"
   ]
  },
  {
   "cell_type": "code",
   "execution_count": null,
   "id": "4dcc974d",
   "metadata": {},
   "outputs": [],
   "source": [
    "for index, row in df_plot_co2.iterrows():\n",
    "    folium.PolyLine([row['from'], row['to']],\n",
    "                     tooltip=row['road']+' - CO2: {:.3e}'.format(row['mean']),\n",
    "                     color=row['color'], weight=1.5).add_to(m)"
   ]
  },
  {
   "cell_type": "code",
   "execution_count": null,
   "id": "c3120d9b",
   "metadata": {},
   "outputs": [],
   "source": [
    "m"
   ]
  },
  {
   "cell_type": "code",
   "execution_count": null,
   "id": "1a214c6c",
   "metadata": {},
   "outputs": [],
   "source": [
    "# Export map as png\n",
    "\n",
    "#import io\n",
    "#from PIL import Image\n",
    "\n",
    "#img_data = m._to_png(5)\n",
    "#img = Image.open(io.BytesIO(img_data))\n",
    "#img.save(path_plots+'folium_map_CO2.png')"
   ]
  },
  {
   "cell_type": "code",
   "execution_count": null,
   "id": "e082d82f",
   "metadata": {},
   "outputs": [],
   "source": [
    "# Export map as html\n",
    "#m.save(path_plots+'folium_map_CO2.html')"
   ]
  },
  {
   "cell_type": "markdown",
   "id": "ff60e124",
   "metadata": {},
   "source": [
    "## 3. Select roads to be removed"
   ]
  },
  {
   "cell_type": "markdown",
   "id": "98e33ac3",
   "metadata": {},
   "source": [
    "Create a csv with the road to be removed and the associated edge_id"
   ]
  },
  {
   "cell_type": "code",
   "execution_count": null,
   "id": "e93f53ae",
   "metadata": {},
   "outputs": [],
   "source": [
    "removed_path = '../data/simulations/Milano_big'"
   ]
  },
  {
   "cell_type": "code",
   "execution_count": null,
   "id": "1cdaee6c",
   "metadata": {},
   "outputs": [],
   "source": [
    "df_co2_len.sort_values(by=['mean_len', 'std_len'], ascending=False, inplace=True)"
   ]
  },
  {
   "cell_type": "markdown",
   "id": "234a5261",
   "metadata": {},
   "source": [
    "Create dictionary with bin per road length with respect road in each bin. It is used to extract random roads in the same bin of the removed road"
   ]
  },
  {
   "cell_type": "code",
   "execution_count": null,
   "id": "8e3d61f3",
   "metadata": {},
   "outputs": [],
   "source": [
    "road_len = road_edge_map.groupby(by=['road']).agg({'edge_len': 'sum'}).reset_index()"
   ]
  },
  {
   "cell_type": "code",
   "execution_count": null,
   "id": "a4578d51",
   "metadata": {},
   "outputs": [],
   "source": [
    "road_len.shape"
   ]
  },
  {
   "cell_type": "code",
   "execution_count": null,
   "id": "6f8a9fc9",
   "metadata": {},
   "outputs": [],
   "source": [
    "plt.figure(figsize=(10, 3))\n",
    "plt.hist(road_len[road_len['edge_len']<10000]['edge_len'], bins=100)\n",
    "plt.title('Road histogram')\n",
    "plt.xlabel('Road length (m)')\n",
    "plt.ylabel('#road')\n",
    "plt.xticks(np.arange(0, 10000, step=1000))\n",
    "plt.show()"
   ]
  },
  {
   "cell_type": "code",
   "execution_count": null,
   "id": "b9a19b69",
   "metadata": {},
   "outputs": [],
   "source": [
    "# double grain bin\n",
    "#bins = list(np.arange(0, 1000, 200))+list(np.arange(1000, 9000, 500))\n",
    "bins = list(np.arange(0, 1000, 100))+list(np.arange(1000, 2000, 200))+list(np.arange(2000, 90000, 2000))\n",
    "road_len['bin'], b = pd.cut(x=road_len['edge_len'], bins=bins, retbins=True, include_lowest=True)"
   ]
  },
  {
   "cell_type": "code",
   "execution_count": null,
   "id": "f4c5584d",
   "metadata": {},
   "outputs": [],
   "source": [
    "road_len_dict = {(k.left, k.right): [] for k in road_len['bin'].unique()}"
   ]
  },
  {
   "cell_type": "code",
   "execution_count": null,
   "id": "a541ab86",
   "metadata": {},
   "outputs": [],
   "source": [
    "for idx, row in road_len.iterrows():\n",
    "    b = row['bin']\n",
    "    road_len_dict[(b.left, b.right)].append(row['road'])"
   ]
  },
  {
   "cell_type": "code",
   "execution_count": null,
   "id": "48052ee5",
   "metadata": {},
   "outputs": [],
   "source": [
    "# check if all roads are in the dictionary\n",
    "t = 0\n",
    "for k, v in road_len_dict.items():\n",
    "    t+=len(v)\n",
    "    \n",
    "t"
   ]
  },
  {
   "cell_type": "code",
   "execution_count": null,
   "id": "b925ca37",
   "metadata": {},
   "outputs": [],
   "source": [
    "# Select the top value road from the experiment. If flag = 'perc' the value is %, if flag = 'abs' the value is the #.\n",
    "# The df may be sorted, because the first values were selected (if rand=True, doesn't matter).\n",
    "# If rand=True this function return also the random value road such that the length is in range [len_top-eps, len_top+eps]\n",
    "\n",
    "def road_to_remove(df, flag, value, rand=False, eps=0.05):\n",
    "    n = df.shape[0]\n",
    "    if flag == 'perc':\n",
    "        selected = round(n*value/100)\n",
    "    elif flag == 'abs':\n",
    "        selected = value\n",
    "        \n",
    "    top_road = np.array(df['road'].iloc[:selected])\n",
    "    \n",
    "        \n",
    "    if rand:\n",
    "        edge_len = df[df['road'].isin(top_road)]['edge_len'].sum()\n",
    "        df_shuffled = df.sample(frac=1)\n",
    "        index_rand = []\n",
    "        while True:\n",
    "            index_rand = np.random.randint(0, n-1, selected)\n",
    "            edge_len_rand = df_shuffled.loc[index_rand]['edge_len'].sum()\n",
    "            if edge_len_rand >= edge_len-(edge_len*eps) and edge_len_rand <= edge_len+(edge_len*eps):\n",
    "                break\n",
    "        return top_road, np.array(df_shuffled['road'].loc[index_rand])\n",
    "    \n",
    "    else:  \n",
    "        return top_road   "
   ]
  },
  {
   "cell_type": "code",
   "execution_count": null,
   "id": "dce76f89",
   "metadata": {},
   "outputs": [],
   "source": [
    "# Select the top value road from the experiment. The df may be sorted, because the top value roads are selected.\n",
    "# rand_dict is a dictionary with key (min,max) that is the bin from which extract the random road.\n",
    "# bins the list of bin's extremes used to create the dictionary.\n",
    "# n_rand is the number of random extraction for the top value roads.\n",
    "\n",
    "def road_to_remove_v2(df, value, rand_dict, bins, n_rand=1):\n",
    "        \n",
    "    top_road = np.array(df['road'].iloc[:value])\n",
    "    \n",
    "    rand_road_list = []\n",
    "    for i in range(n_rand):\n",
    "        rand_roads = []\n",
    "        for road in top_road:\n",
    "            road_len = df[df['road']==road]['edge_len'].values\n",
    "            b = pd.cut(road_len, bins, include_lowest=True)\n",
    "            road_to_extract = rand_dict[(b[0].left, b[0].right)]\n",
    "            random_road = np.random.choice(road_to_extract)\n",
    "            while random_road in rand_roads:\n",
    "                random_road = np.random.choice(road_to_extract)\n",
    "            rand_roads.append(random_road)\n",
    "        rand_road_list.append(rand_roads)\n",
    "      \n",
    "    return top_road , rand_road_list  "
   ]
  },
  {
   "cell_type": "code",
   "execution_count": null,
   "id": "7ef36c34",
   "metadata": {},
   "outputs": [],
   "source": [
    "#road_tbr, road_tbr_rand = road_to_remove(df_co2_len, 'abs', 15, rand=True, eps=0.05)"
   ]
  },
  {
   "cell_type": "code",
   "execution_count": null,
   "id": "d887adb1",
   "metadata": {},
   "outputs": [],
   "source": [
    "topk = 90"
   ]
  },
  {
   "cell_type": "code",
   "execution_count": null,
   "id": "adbca9cd",
   "metadata": {
    "scrolled": true
   },
   "outputs": [],
   "source": [
    "road_tbr, road_tbr_rand_list = road_to_remove_v2(df_co2_len, topk, road_len_dict, bins, n_rand=5)"
   ]
  },
  {
   "cell_type": "code",
   "execution_count": null,
   "id": "6571f88b",
   "metadata": {},
   "outputs": [],
   "source": [
    "print('Top roads: '+str(len(road_tbr)))\n",
    "for i in range(len(road_tbr_rand_list)):\n",
    "    print('Random roads '+str(i)+': '+str(len(road_tbr_rand_list[i])))"
   ]
  },
  {
   "cell_type": "code",
   "execution_count": null,
   "id": "a2f27345",
   "metadata": {},
   "outputs": [],
   "source": [
    "print('Top removed meters: '+str(df_co2_len[df_co2_len['road'].isin(road_tbr)]['edge_len'].sum()))\n",
    "for i in range(len(road_tbr_rand_list)):\n",
    "    print('Rand removed meters '+str(i)+': '+str(df_co2_len[df_co2_len['road'].isin(road_tbr_rand_list[i])]['edge_len'].sum()))"
   ]
  },
  {
   "cell_type": "code",
   "execution_count": null,
   "id": "74d728f6",
   "metadata": {},
   "outputs": [],
   "source": [
    "road_edge_map = pd.read_csv(path_road_edge_mapping)"
   ]
  },
  {
   "cell_type": "code",
   "execution_count": null,
   "id": "20c46236",
   "metadata": {},
   "outputs": [],
   "source": [
    "# Create csv with roadname of the road to be removed and the list fo edges associated to each edge\n",
    "\n",
    "road_edge_tbr = road_edge_map[road_edge_map['road'].isin(road_tbr)].groupby('road').agg({'edge_id': lambda x: x.tolist()})\n",
    "road_edge_tbr.reset_index(inplace=True)"
   ]
  },
  {
   "cell_type": "code",
   "execution_count": null,
   "id": "1219796f",
   "metadata": {},
   "outputs": [],
   "source": [
    "road_edge_tbr.to_csv('../data/simulations/Milano_big/top'+str(topk)+'/Milano_big_road_top'+str(topk)+'.csv', index=False)"
   ]
  },
  {
   "cell_type": "code",
   "execution_count": null,
   "id": "25be3c61",
   "metadata": {
    "scrolled": false
   },
   "outputs": [],
   "source": [
    "for i in range(len(road_tbr_rand_list)):\n",
    "    road_edge_tbr_rand = road_edge_map[road_edge_map['road'].isin(road_tbr_rand_list[i])].groupby('road').agg({'edge_id': lambda x: x.tolist()})\n",
    "    road_edge_tbr_rand.reset_index(inplace=True)\n",
    "    road_edge_tbr_rand.to_csv('../data/simulations/Milano_big/top'+str(topk)+'/rand/Milano_big_road_rand'+str(topk)+'_'+str(i)+'.csv', index=False)"
   ]
  },
  {
   "cell_type": "code",
   "execution_count": null,
   "id": "851b9b29",
   "metadata": {},
   "outputs": [],
   "source": []
  },
  {
   "cell_type": "markdown",
   "id": "f4381d98",
   "metadata": {},
   "source": [
    "#### Test removed roads"
   ]
  },
  {
   "cell_type": "code",
   "execution_count": null,
   "id": "4813561c",
   "metadata": {},
   "outputs": [],
   "source": [
    "#road_network = sumolib.net.readNet(road_network_path, withInternal=True)"
   ]
  },
  {
   "cell_type": "code",
   "execution_count": null,
   "id": "98d4ea6f",
   "metadata": {},
   "outputs": [],
   "source": [
    "#road_edge_tbr_tmp = road_edge_map[road_edge_map['road'].isin(road_tbr)]#.groupby('road').agg({'edge_id': lambda x: x.tolist()})\n",
    "#road_edge_tbr_tmp.reset_index(inplace=True)"
   ]
  },
  {
   "cell_type": "code",
   "execution_count": null,
   "id": "ba64850a",
   "metadata": {},
   "outputs": [],
   "source": [
    "#len(road_edge_tbr_tmp)"
   ]
  },
  {
   "cell_type": "code",
   "execution_count": null,
   "id": "dd4d81f5",
   "metadata": {},
   "outputs": [],
   "source": [
    "#m = folium.Map(location=[45.469262, 9.182007],\n",
    "#               tiles='CartoDB Positron',\n",
    "#               zoom_start=11,\n",
    "#               attr='CartoDB')\n",
    "               #png_enabled=True)"
   ]
  },
  {
   "cell_type": "code",
   "execution_count": null,
   "id": "101a57b9",
   "metadata": {},
   "outputs": [],
   "source": [
    "#for index, row in road_edge_tbr_tmp.iterrows():\n",
    "#    if not row['edge_id'].startswith(':'):\n",
    "#        edge = row['edge_id']\n",
    "        # Compute lat and lon, from and to, for each edge\n",
    "#        coord_node_from = road_network.getEdge(edge).getFromNode().getCoord()\n",
    "#        coord_node_to = road_network.getEdge(edge).getToNode().getCoord()\n",
    "#        lon_from, lat_from = road_network.convertXY2LonLat(coord_node_from[0], coord_node_from[1])\n",
    "#        lon_to, lat_to = road_network.convertXY2LonLat(coord_node_to[0], coord_node_to[1])\n",
    "\n",
    "#        folium.PolyLine([(lat_from, lon_from), (lat_to, lon_to)],\n",
    "#                         tooltip=row['road']+' - '+row['edge_id'],\n",
    "#                         color='red', weight=3).add_to(m)"
   ]
  },
  {
   "cell_type": "code",
   "execution_count": null,
   "id": "2ca02382",
   "metadata": {
    "scrolled": false
   },
   "outputs": [],
   "source": [
    "#m"
   ]
  },
  {
   "cell_type": "code",
   "execution_count": null,
   "id": "f5544f22",
   "metadata": {},
   "outputs": [],
   "source": [
    "#road_edge_map[road_edge_map['edge_id'].str.startswith('1022350')]"
   ]
  },
  {
   "cell_type": "code",
   "execution_count": null,
   "id": "e3c41de1",
   "metadata": {
    "scrolled": false
   },
   "outputs": [],
   "source": [
    "#road_edge_map[road_edge_map['road'].str.startswith('Via Cartesio')]"
   ]
  },
  {
   "cell_type": "code",
   "execution_count": null,
   "id": "b12e4b80",
   "metadata": {},
   "outputs": [],
   "source": [
    "#for idx, row in road_edge_map[road_edge_map['road'].str.startswith('Via Mario del')].iterrows():\n",
    "#    road_edge_map.loc[road_edge_map['edge_id']==row['edge_id'], 'road'] = 'Via Mario Del Monaco'"
   ]
  },
  {
   "cell_type": "code",
   "execution_count": null,
   "id": "61eb8e90",
   "metadata": {},
   "outputs": [],
   "source": [
    "#road_edge_map.loc[road_edge_map['edge_id']=='-62257426', 'road'] = 'Via Sempione, Rho'"
   ]
  },
  {
   "cell_type": "code",
   "execution_count": null,
   "id": "c67fb3f4",
   "metadata": {},
   "outputs": [],
   "source": [
    "#road_edge_map.to_csv(path_road_edge_mapping, index=False)"
   ]
  },
  {
   "cell_type": "code",
   "execution_count": null,
   "id": "0394a5f8",
   "metadata": {},
   "outputs": [],
   "source": []
  }
 ],
 "metadata": {
  "kernelspec": {
   "display_name": "Python 3 (ipykernel)",
   "language": "python",
   "name": "python3"
  },
  "language_info": {
   "codemirror_mode": {
    "name": "ipython",
    "version": 3
   },
   "file_extension": ".py",
   "mimetype": "text/x-python",
   "name": "python",
   "nbconvert_exporter": "python",
   "pygments_lexer": "ipython3",
   "version": "3.11.0"
  }
 },
 "nbformat": 4,
 "nbformat_minor": 5
}
